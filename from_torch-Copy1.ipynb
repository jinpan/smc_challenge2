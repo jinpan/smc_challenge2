{
 "cells": [
  {
   "cell_type": "code",
   "execution_count": 1,
   "metadata": {},
   "outputs": [],
   "source": [
    "%reload_ext autoreload\n",
    "%autoreload 2\n",
    "\n",
    "import collections\n",
    "import concurrent\n",
    "import dataclasses\n",
    "import enum\n",
    "import functools\n",
    "import io\n",
    "import os\n",
    "import pathlib\n",
    "import re\n",
    "import typing\n",
    "\n",
    "import apex\n",
    "import cv2\n",
    "import fastai\n",
    "import fastai.vision\n",
    "import IPython\n",
    "import numpy as np\n",
    "import pandas as pd\n",
    "import PIL\n",
    "import tqdm\n",
    "import torch\n",
    "from torch import nn\n",
    "import torch.nn.functional as F\n",
    "import torch.utils.tensorboard\n",
    "import torchvision\n",
    "import torch_lr_finder\n",
    "from matplotlib import pyplot as plt\n",
    "\n",
    "import pipeline\n",
    "\n",
    "path = pathlib.Path('/mnt/data1/smc_data/challenge2')\n",
    "path2 = pathlib.Path('/home/jin/sandbox/smc_challenge2/images')"
   ]
  },
  {
   "cell_type": "code",
   "execution_count": 2,
   "metadata": {},
   "outputs": [
    {
     "name": "stderr",
     "output_type": "stream",
     "text": [
      "444018it [02:22, 3112.80it/s]\n",
      "61200it [00:19, 3095.24it/s]\n"
     ]
    }
   ],
   "source": [
    "img_path = path2/'img9'\n",
    "\n",
    "cbed_data_loader = pipeline.CbedDataLoader(\n",
    "    img_path, batch_size=1500, chans='L')"
   ]
  },
  {
   "cell_type": "code",
   "execution_count": 3,
   "metadata": {},
   "outputs": [
    {
     "name": "stderr",
     "output_type": "stream",
     "text": [
      "53025it [00:16, 3301.57it/s]\n",
      "7320it [00:02, 3254.80it/s]\n"
     ]
    }
   ],
   "source": [
    "img_path12 = path2/'img12'\n",
    "\n",
    "cbed_data_loader12 = pipeline.CbedDataLoader(\n",
    "    img_path12, batch_size=1500, chans='L')"
   ]
  },
  {
   "cell_type": "code",
   "execution_count": null,
   "metadata": {},
   "outputs": [],
   "source": []
  },
  {
   "cell_type": "code",
   "execution_count": null,
   "metadata": {},
   "outputs": [],
   "source": []
  },
  {
   "cell_type": "code",
   "execution_count": null,
   "metadata": {},
   "outputs": [],
   "source": []
  },
  {
   "cell_type": "code",
   "execution_count": null,
   "metadata": {},
   "outputs": [],
   "source": []
  },
  {
   "cell_type": "code",
   "execution_count": null,
   "metadata": {},
   "outputs": [],
   "source": []
  },
  {
   "cell_type": "code",
   "execution_count": null,
   "metadata": {},
   "outputs": [
    {
     "name": "stdout",
     "output_type": "stream",
     "text": [
      "Logging to runs/Jun23_16-20-22_panda__img9_0\n"
     ]
    },
    {
     "name": "stderr",
     "output_type": "stream",
     "text": [
      " 12%|█▎        | 15/120 [38:11<4:27:31, 152.87s/it]"
     ]
    }
   ],
   "source": [
    "save_filename = 'models/dropout_cutout0'\n",
    "# save_filename = ''\n",
    "\n",
    "with torch.utils.tensorboard.SummaryWriter(comment='__img9_0') as tbw:\n",
    "    print(f\"Logging to {tbw.log_dir}\")\n",
    "    tbw.add_text('desc', \"dropout p=25%; cutout torch_default p=80%\")\n",
    "    if save_filename:\n",
    "        tbw.add_text('save_filename', save_filename)\n",
    "\n",
    "    learner = pipeline.Learner(\n",
    "        model=pipeline.make_resnet34_1chan(\n",
    "            pretrained=False,\n",
    "            num_classes=len(cbed_data_loader.label_manager.raw_labels),\n",
    "            dropout=0.25,\n",
    "        ).cuda(),\n",
    "        loss_fn=F.cross_entropy,\n",
    "        tbw=tbw,\n",
    "        train_loader=cbed_data_loader.train_loader,\n",
    "        valid_loader=cbed_data_loader.valid_loader,\n",
    "        topk=5,\n",
    "    )\n",
    "    learner.train_model(120, lr=3e-2, weight_decay=0.01)\n",
    "\n",
    "pipeline.notify(\"training done\")\n",
    "if save_filename:\n",
    "    pipeline.ModelOptBuf().save(learner.model, learner.opt, save_filename)"
   ]
  },
  {
   "cell_type": "code",
   "execution_count": 19,
   "metadata": {},
   "outputs": [
    {
     "name": "stderr",
     "output_type": "stream",
     "text": [
      "100%|██████████| 120/120 [4:57:04<00:00, 148.54s/it] \n"
     ]
    }
   ],
   "source": [
    "save_filename = '/tmp/dropout_cutout5'\n",
    "# save_filename = ''\n",
    "\n",
    "with torch.utils.tensorboard.SummaryWriter(comment='__img12_0') as tbw:\n",
    "    tbw.add_text('desc', \"dropout p=25%; cutout torch_default p=80%; label smoothing eps=0.05\")\n",
    "    if save_filename:\n",
    "        tbw.add_text('save_filename', save_filename)\n",
    "    num_classes = len(cbed_data_loader.label_manager.raw_labels)\n",
    "\n",
    "    model = pipeline.make_resnet34_1chan(\n",
    "        pretrained=False,\n",
    "        num_classes=num_classes,\n",
    "        dropout=0.25,\n",
    "    ).cuda()\n",
    "\n",
    "    lr = 3e-2\n",
    "    opt = pipeline.Lamb2(\n",
    "        model.parameters(), lr=lr, weight_decay=0.01)\n",
    "\n",
    "    \n",
    "    # loss_fn = F.cross_entropy\n",
    "    loss_fn = pipeline.LabelSmoothingCrossEntropy(eps=0.05)\n",
    "    \n",
    "    learner = pipeline.Learner(\n",
    "        model,\n",
    "        loss_fn,\n",
    "        opt,\n",
    "        tbw,\n",
    "        cbed_data_loader.train_loader,\n",
    "        cbed_data_loader.valid_loader,\n",
    "        topk=5,\n",
    "    )\n",
    "    learner.train_model(120, lr)\n",
    "    \n",
    "if save_filename:\n",
    "    pipeline.ModelOptBuf().save(model, opt, save_filename)"
   ]
  },
  {
   "cell_type": "code",
   "execution_count": null,
   "metadata": {},
   "outputs": [
    {
     "name": "stderr",
     "output_type": "stream",
     "text": [
      "  5%|▍         | 979/20400 [01:53<36:56,  8.76it/s]"
     ]
    },
    {
     "name": "stdout",
     "output_type": "stream",
     "text": [
      "500\n"
     ]
    },
    {
     "name": "stderr",
     "output_type": "stream",
     "text": [
      " 10%|▉         | 1974/20400 [03:47<34:44,  8.84it/s]"
     ]
    },
    {
     "name": "stdout",
     "output_type": "stream",
     "text": [
      "1000\n"
     ]
    },
    {
     "name": "stderr",
     "output_type": "stream",
     "text": [
      " 14%|█▍        | 2947/20400 [05:39<33:38,  8.65it/s]"
     ]
    },
    {
     "name": "stdout",
     "output_type": "stream",
     "text": [
      "1500\n"
     ]
    },
    {
     "name": "stderr",
     "output_type": "stream",
     "text": [
      " 19%|█▉        | 3969/20400 [07:36<31:03,  8.82it/s]"
     ]
    },
    {
     "name": "stdout",
     "output_type": "stream",
     "text": [
      "2000\n"
     ]
    },
    {
     "name": "stderr",
     "output_type": "stream",
     "text": [
      " 24%|██▍       | 4936/20400 [09:26<29:22,  8.77it/s]"
     ]
    },
    {
     "name": "stdout",
     "output_type": "stream",
     "text": [
      "2500\n"
     ]
    },
    {
     "name": "stderr",
     "output_type": "stream",
     "text": [
      " 29%|██▉       | 5931/20400 [11:20<28:17,  8.52it/s]"
     ]
    },
    {
     "name": "stdout",
     "output_type": "stream",
     "text": [
      "3000\n"
     ]
    },
    {
     "name": "stderr",
     "output_type": "stream",
     "text": [
      " 34%|███▍      | 6958/20400 [13:18<25:36,  8.75it/s]"
     ]
    },
    {
     "name": "stdout",
     "output_type": "stream",
     "text": [
      "3500\n"
     ]
    },
    {
     "name": "stderr",
     "output_type": "stream",
     "text": [
      " 39%|███▉      | 7961/20400 [15:13<23:33,  8.80it/s]"
     ]
    },
    {
     "name": "stdout",
     "output_type": "stream",
     "text": [
      "4000\n"
     ]
    },
    {
     "name": "stderr",
     "output_type": "stream",
     "text": [
      " 44%|████▍     | 8977/20400 [17:09<21:50,  8.72it/s]"
     ]
    },
    {
     "name": "stdout",
     "output_type": "stream",
     "text": [
      "4500\n"
     ]
    },
    {
     "name": "stderr",
     "output_type": "stream",
     "text": [
      " 49%|████▉     | 9999/20400 [19:06<19:39,  8.81it/s]"
     ]
    },
    {
     "name": "stdout",
     "output_type": "stream",
     "text": [
      "5000\n"
     ]
    },
    {
     "name": "stderr",
     "output_type": "stream",
     "text": [
      " 54%|█████▍    | 11043/20400 [21:06<17:49,  8.75it/s]"
     ]
    },
    {
     "name": "stdout",
     "output_type": "stream",
     "text": [
      "5500\n"
     ]
    },
    {
     "name": "stderr",
     "output_type": "stream",
     "text": [
      " 59%|█████▉    | 12014/20400 [22:57<15:47,  8.85it/s]"
     ]
    },
    {
     "name": "stdout",
     "output_type": "stream",
     "text": [
      "6000\n"
     ]
    },
    {
     "name": "stderr",
     "output_type": "stream",
     "text": [
      " 62%|██████▏   | 12568/20400 [24:00<14:53,  8.77it/s]"
     ]
    }
   ],
   "source": [
    "outcomes_9 = pipeline.test_validation_set(img_path, model, cbed_data_loader.label_manager)"
   ]
  },
  {
   "cell_type": "code",
   "execution_count": 29,
   "metadata": {},
   "outputs": [
    {
     "data": {
      "text/plain": [
       "(12984, 0.6364705882352941)"
      ]
     },
     "execution_count": 29,
     "metadata": {},
     "output_type": "execute_result"
    }
   ],
   "source": [
    "num_correct = 0\n",
    "\n",
    "for outcome in outcomes_9:\n",
    "    # if outcome.actual == outcome.predicted:\n",
    "    #     num_correct += 1\n",
    "    if outcome.actual in outcome.topk_cats[:3]:\n",
    "        num_correct += 1\n",
    "\n",
    "num_correct, num_correct / len(outcomes_9)"
   ]
  },
  {
   "cell_type": "code",
   "execution_count": 39,
   "metadata": {},
   "outputs": [
    {
     "data": {
      "text/html": [
       "<div>\n",
       "<style scoped>\n",
       "    .dataframe tbody tr th:only-of-type {\n",
       "        vertical-align: middle;\n",
       "    }\n",
       "\n",
       "    .dataframe tbody tr th {\n",
       "        vertical-align: top;\n",
       "    }\n",
       "\n",
       "    .dataframe thead th {\n",
       "        text-align: right;\n",
       "    }\n",
       "</style>\n",
       "<table border=\"1\" class=\"dataframe\">\n",
       "  <thead>\n",
       "    <tr style=\"text-align: right;\">\n",
       "      <th></th>\n",
       "      <th>sample</th>\n",
       "      <th>actual</th>\n",
       "      <th>predicted</th>\n",
       "      <th>topk_values</th>\n",
       "      <th>topk_cats</th>\n",
       "    </tr>\n",
       "  </thead>\n",
       "  <tbody>\n",
       "    <tr>\n",
       "      <th>2</th>\n",
       "      <td>341_sample_2_6</td>\n",
       "      <td>88</td>\n",
       "      <td>14</td>\n",
       "      <td>[0.02002691850066185, 0.014100936241447926, 0....</td>\n",
       "      <td>[14, 2, 225, 9, 4]</td>\n",
       "    </tr>\n",
       "    <tr>\n",
       "      <th>5</th>\n",
       "      <td>223_sample_2_3</td>\n",
       "      <td>1</td>\n",
       "      <td>14</td>\n",
       "      <td>[0.0331081822514534, 0.01523775514215231, 0.00...</td>\n",
       "      <td>[14, 166, 225, 63, 194]</td>\n",
       "    </tr>\n",
       "    <tr>\n",
       "      <th>6</th>\n",
       "      <td>237_sample_5_1</td>\n",
       "      <td>136</td>\n",
       "      <td>14</td>\n",
       "      <td>[0.021497584879398346, 0.00960515346378088, 0....</td>\n",
       "      <td>[14, 2, 136, 113, 15]</td>\n",
       "    </tr>\n",
       "    <tr>\n",
       "      <th>7</th>\n",
       "      <td>380_sample_3_8</td>\n",
       "      <td>1</td>\n",
       "      <td>194</td>\n",
       "      <td>[0.028041962534189224, 0.012730585411190987, 0...</td>\n",
       "      <td>[194, 225, 12, 1, 74]</td>\n",
       "    </tr>\n",
       "    <tr>\n",
       "      <th>8</th>\n",
       "      <td>319_sample_0_8</td>\n",
       "      <td>2</td>\n",
       "      <td>14</td>\n",
       "      <td>[0.0296697486191988, 0.010897989384829998, 0.0...</td>\n",
       "      <td>[14, 2, 1, 139, 225]</td>\n",
       "    </tr>\n",
       "    <tr>\n",
       "      <th>...</th>\n",
       "      <td>...</td>\n",
       "      <td>...</td>\n",
       "      <td>...</td>\n",
       "      <td>...</td>\n",
       "      <td>...</td>\n",
       "    </tr>\n",
       "    <tr>\n",
       "      <th>20391</th>\n",
       "      <td>271_sample_0_0</td>\n",
       "      <td>130</td>\n",
       "      <td>14</td>\n",
       "      <td>[0.007813883014023304, 0.007098352536559105, 0...</td>\n",
       "      <td>[14, 62, 15, 1, 2]</td>\n",
       "    </tr>\n",
       "    <tr>\n",
       "      <th>20393</th>\n",
       "      <td>167_sample_2_3</td>\n",
       "      <td>220</td>\n",
       "      <td>225</td>\n",
       "      <td>[0.012096674181520939, 0.011978138238191605, 0...</td>\n",
       "      <td>[225, 194, 220, 14, 1]</td>\n",
       "    </tr>\n",
       "    <tr>\n",
       "      <th>20394</th>\n",
       "      <td>341_sample_0_0</td>\n",
       "      <td>109</td>\n",
       "      <td>225</td>\n",
       "      <td>[0.012205956503748894, 0.010534439235925674, 0...</td>\n",
       "      <td>[225, 2, 15, 14, 12]</td>\n",
       "    </tr>\n",
       "    <tr>\n",
       "      <th>20396</th>\n",
       "      <td>5_sample_4_6</td>\n",
       "      <td>8</td>\n",
       "      <td>12</td>\n",
       "      <td>[0.029604485258460045, 0.011509805917739868, 0...</td>\n",
       "      <td>[12, 5, 8, 6, 46]</td>\n",
       "    </tr>\n",
       "    <tr>\n",
       "      <th>20397</th>\n",
       "      <td>58_sample_2_8</td>\n",
       "      <td>221</td>\n",
       "      <td>225</td>\n",
       "      <td>[0.03127468749880791, 0.013212457299232483, 0....</td>\n",
       "      <td>[225, 221, 216, 139, 194]</td>\n",
       "    </tr>\n",
       "  </tbody>\n",
       "</table>\n",
       "<p>10190 rows × 5 columns</p>\n",
       "</div>"
      ],
      "text/plain": [
       "               sample actual predicted  \\\n",
       "2      341_sample_2_6     88        14   \n",
       "5      223_sample_2_3      1        14   \n",
       "6      237_sample_5_1    136        14   \n",
       "7      380_sample_3_8      1       194   \n",
       "8      319_sample_0_8      2        14   \n",
       "...               ...    ...       ...   \n",
       "20391  271_sample_0_0    130        14   \n",
       "20393  167_sample_2_3    220       225   \n",
       "20394  341_sample_0_0    109       225   \n",
       "20396    5_sample_4_6      8        12   \n",
       "20397   58_sample_2_8    221       225   \n",
       "\n",
       "                                             topk_values  \\\n",
       "2      [0.02002691850066185, 0.014100936241447926, 0....   \n",
       "5      [0.0331081822514534, 0.01523775514215231, 0.00...   \n",
       "6      [0.021497584879398346, 0.00960515346378088, 0....   \n",
       "7      [0.028041962534189224, 0.012730585411190987, 0...   \n",
       "8      [0.0296697486191988, 0.010897989384829998, 0.0...   \n",
       "...                                                  ...   \n",
       "20391  [0.007813883014023304, 0.007098352536559105, 0...   \n",
       "20393  [0.012096674181520939, 0.011978138238191605, 0...   \n",
       "20394  [0.012205956503748894, 0.010534439235925674, 0...   \n",
       "20396  [0.029604485258460045, 0.011509805917739868, 0...   \n",
       "20397  [0.03127468749880791, 0.013212457299232483, 0....   \n",
       "\n",
       "                       topk_cats  \n",
       "2             [14, 2, 225, 9, 4]  \n",
       "5        [14, 166, 225, 63, 194]  \n",
       "6          [14, 2, 136, 113, 15]  \n",
       "7          [194, 225, 12, 1, 74]  \n",
       "8           [14, 2, 1, 139, 225]  \n",
       "...                          ...  \n",
       "20391         [14, 62, 15, 1, 2]  \n",
       "20393     [225, 194, 220, 14, 1]  \n",
       "20394       [225, 2, 15, 14, 12]  \n",
       "20396          [12, 5, 8, 6, 46]  \n",
       "20397  [225, 221, 216, 139, 194]  \n",
       "\n",
       "[10190 rows x 5 columns]"
      ]
     },
     "execution_count": 39,
     "metadata": {},
     "output_type": "execute_result"
    }
   ],
   "source": [
    "outcomes_df = pd.DataFrame(outcomes_9)\n",
    "errors_df = get_errors_df(outcomes_df)\n",
    "errors_df"
   ]
  },
  {
   "cell_type": "code",
   "execution_count": 38,
   "metadata": {},
   "outputs": [],
   "source": [
    "def get_errors_df(df):\n",
    "    return df[df['actual'] != df['predicted']]"
   ]
  },
  {
   "cell_type": "code",
   "execution_count": 40,
   "metadata": {},
   "outputs": [
    {
     "name": "stdout",
     "output_type": "stream",
     "text": [
      "850\n"
     ]
    },
    {
     "data": {
      "text/html": [
       "<div>\n",
       "<style scoped>\n",
       "    .dataframe tbody tr th:only-of-type {\n",
       "        vertical-align: middle;\n",
       "    }\n",
       "\n",
       "    .dataframe tbody tr th {\n",
       "        vertical-align: top;\n",
       "    }\n",
       "\n",
       "    .dataframe thead th {\n",
       "        text-align: right;\n",
       "    }\n",
       "</style>\n",
       "<table border=\"1\" class=\"dataframe\">\n",
       "  <thead>\n",
       "    <tr style=\"text-align: right;\">\n",
       "      <th></th>\n",
       "      <th>sample</th>\n",
       "      <th>actual</th>\n",
       "      <th>predicted</th>\n",
       "      <th>topk_values</th>\n",
       "      <th>topk_cats</th>\n",
       "    </tr>\n",
       "  </thead>\n",
       "  <tbody>\n",
       "    <tr>\n",
       "      <th>83</th>\n",
       "      <td>118_sample_0_3</td>\n",
       "      <td>15</td>\n",
       "      <td>1</td>\n",
       "      <td>[0.01006392389535904, 0.009863073006272316, 0....</td>\n",
       "      <td>[1, 2, 139, 15, 12]</td>\n",
       "    </tr>\n",
       "    <tr>\n",
       "      <th>103</th>\n",
       "      <td>293_sample_2_5</td>\n",
       "      <td>15</td>\n",
       "      <td>63</td>\n",
       "      <td>[0.014635751955211163, 0.013961805030703545, 0...</td>\n",
       "      <td>[63, 14, 12, 11, 15]</td>\n",
       "    </tr>\n",
       "    <tr>\n",
       "      <th>128</th>\n",
       "      <td>140_sample_1_5</td>\n",
       "      <td>15</td>\n",
       "      <td>1</td>\n",
       "      <td>[0.017705371603369713, 0.01278720423579216, 0....</td>\n",
       "      <td>[1, 2, 14, 194, 139]</td>\n",
       "    </tr>\n",
       "    <tr>\n",
       "      <th>150</th>\n",
       "      <td>125_sample_3_7</td>\n",
       "      <td>15</td>\n",
       "      <td>14</td>\n",
       "      <td>[0.01265420950949192, 0.01090278197079897, 0.0...</td>\n",
       "      <td>[14, 166, 221, 225, 194]</td>\n",
       "    </tr>\n",
       "    <tr>\n",
       "      <th>181</th>\n",
       "      <td>242_sample_4_8</td>\n",
       "      <td>15</td>\n",
       "      <td>14</td>\n",
       "      <td>[0.014617831446230412, 0.013549418188631535, 0...</td>\n",
       "      <td>[14, 166, 225, 12, 1]</td>\n",
       "    </tr>\n",
       "    <tr>\n",
       "      <th>...</th>\n",
       "      <td>...</td>\n",
       "      <td>...</td>\n",
       "      <td>...</td>\n",
       "      <td>...</td>\n",
       "      <td>...</td>\n",
       "    </tr>\n",
       "    <tr>\n",
       "      <th>20033</th>\n",
       "      <td>8_sample_4_6</td>\n",
       "      <td>15</td>\n",
       "      <td>14</td>\n",
       "      <td>[0.017029857262969017, 0.01372936274856329, 0....</td>\n",
       "      <td>[14, 1, 12, 2, 15]</td>\n",
       "    </tr>\n",
       "    <tr>\n",
       "      <th>20082</th>\n",
       "      <td>138_sample_1_5</td>\n",
       "      <td>15</td>\n",
       "      <td>1</td>\n",
       "      <td>[0.017175884917378426, 0.012831641361117363, 0...</td>\n",
       "      <td>[1, 15, 14, 2, 9]</td>\n",
       "    </tr>\n",
       "    <tr>\n",
       "      <th>20108</th>\n",
       "      <td>118_sample_0_7</td>\n",
       "      <td>15</td>\n",
       "      <td>139</td>\n",
       "      <td>[0.020380167290568352, 0.01968231610953808, 0....</td>\n",
       "      <td>[139, 216, 4, 198, 148]</td>\n",
       "    </tr>\n",
       "    <tr>\n",
       "      <th>20226</th>\n",
       "      <td>18_sample_3_0</td>\n",
       "      <td>15</td>\n",
       "      <td>2</td>\n",
       "      <td>[0.018410364165902138, 0.015429682098329067, 0...</td>\n",
       "      <td>[2, 11, 1, 12, 14]</td>\n",
       "    </tr>\n",
       "    <tr>\n",
       "      <th>20359</th>\n",
       "      <td>159_sample_5_4</td>\n",
       "      <td>15</td>\n",
       "      <td>2</td>\n",
       "      <td>[0.015339094214141369, 0.015289013274013996, 0...</td>\n",
       "      <td>[2, 166, 14, 221, 15]</td>\n",
       "    </tr>\n",
       "  </tbody>\n",
       "</table>\n",
       "<p>531 rows × 5 columns</p>\n",
       "</div>"
      ],
      "text/plain": [
       "               sample actual predicted  \\\n",
       "83     118_sample_0_3     15         1   \n",
       "103    293_sample_2_5     15        63   \n",
       "128    140_sample_1_5     15         1   \n",
       "150    125_sample_3_7     15        14   \n",
       "181    242_sample_4_8     15        14   \n",
       "...               ...    ...       ...   \n",
       "20033    8_sample_4_6     15        14   \n",
       "20082  138_sample_1_5     15         1   \n",
       "20108  118_sample_0_7     15       139   \n",
       "20226   18_sample_3_0     15         2   \n",
       "20359  159_sample_5_4     15         2   \n",
       "\n",
       "                                             topk_values  \\\n",
       "83     [0.01006392389535904, 0.009863073006272316, 0....   \n",
       "103    [0.014635751955211163, 0.013961805030703545, 0...   \n",
       "128    [0.017705371603369713, 0.01278720423579216, 0....   \n",
       "150    [0.01265420950949192, 0.01090278197079897, 0.0...   \n",
       "181    [0.014617831446230412, 0.013549418188631535, 0...   \n",
       "...                                                  ...   \n",
       "20033  [0.017029857262969017, 0.01372936274856329, 0....   \n",
       "20082  [0.017175884917378426, 0.012831641361117363, 0...   \n",
       "20108  [0.020380167290568352, 0.01968231610953808, 0....   \n",
       "20226  [0.018410364165902138, 0.015429682098329067, 0...   \n",
       "20359  [0.015339094214141369, 0.015289013274013996, 0...   \n",
       "\n",
       "                      topk_cats  \n",
       "83          [1, 2, 139, 15, 12]  \n",
       "103        [63, 14, 12, 11, 15]  \n",
       "128        [1, 2, 14, 194, 139]  \n",
       "150    [14, 166, 221, 225, 194]  \n",
       "181       [14, 166, 225, 12, 1]  \n",
       "...                         ...  \n",
       "20033        [14, 1, 12, 2, 15]  \n",
       "20082         [1, 15, 14, 2, 9]  \n",
       "20108   [139, 216, 4, 198, 148]  \n",
       "20226        [2, 11, 1, 12, 14]  \n",
       "20359     [2, 166, 14, 221, 15]  \n",
       "\n",
       "[531 rows x 5 columns]"
      ]
     },
     "execution_count": 40,
     "metadata": {},
     "output_type": "execute_result"
    }
   ],
   "source": [
    "outcomes_15 = outcomes_df[outcomes_df['actual'] == '15']\n",
    "print(len(outcomes_15))\n",
    "\n",
    "errors_15 = get_errors_df(outcomes_15)\n",
    "\n",
    "errors_15"
   ]
  },
  {
   "cell_type": "code",
   "execution_count": 60,
   "metadata": {},
   "outputs": [
    {
     "name": "stderr",
     "output_type": "stream",
     "text": [
      "  8%|▊         | 64/850 [00:00<00:03, 207.18it/s]"
     ]
    },
    {
     "name": "stdout",
     "output_type": "stream",
     "text": [
      "XXX HERE True False tensor(0, device='cuda:0')\n",
      "XXX HERE False False tensor(0, device='cuda:0')\n",
      "XXX HERE False False tensor(0, device='cuda:0')\n",
      "XXX HERE True False tensor(0, device='cuda:0')\n",
      "XXX HERE True False tensor(0, device='cuda:0')\n",
      "XXX HERE False False tensor(0, device='cuda:0')\n",
      "XXX HERE True False tensor(0, device='cuda:0')\n"
     ]
    },
    {
     "name": "stderr",
     "output_type": "stream",
     "text": [
      " 13%|█▎        | 111/850 [00:00<00:03, 215.50it/s]"
     ]
    },
    {
     "name": "stdout",
     "output_type": "stream",
     "text": [
      "XXX HERE True False tensor(0, device='cuda:0')\n",
      "XXX HERE True False tensor(0, device='cuda:0')\n",
      "XXX HERE False False tensor(0, device='cuda:0')\n",
      "XXX HERE False False tensor(0, device='cuda:0')\n",
      "XXX HERE True False tensor(0, device='cuda:0')\n",
      "XXX HERE False False tensor(0, device='cuda:0')\n"
     ]
    },
    {
     "name": "stderr",
     "output_type": "stream",
     "text": [
      " 18%|█▊        | 154/850 [00:00<00:03, 211.64it/s]"
     ]
    },
    {
     "name": "stdout",
     "output_type": "stream",
     "text": [
      "XXX HERE True False tensor(0, device='cuda:0')\n",
      "XXX HERE True False tensor(0, device='cuda:0')\n"
     ]
    },
    {
     "name": "stderr",
     "output_type": "stream",
     "text": [
      " 26%|██▌       | 222/850 [00:01<00:02, 217.66it/s]"
     ]
    },
    {
     "name": "stdout",
     "output_type": "stream",
     "text": [
      "XXX HERE True False tensor(0, device='cuda:0')\n",
      "XXX HERE True False tensor(0, device='cuda:0')\n",
      "XXX HERE False False tensor(0, device='cuda:0')\n"
     ]
    },
    {
     "name": "stderr",
     "output_type": "stream",
     "text": [
      " 31%|███▏      | 267/850 [00:01<00:02, 217.14it/s]"
     ]
    },
    {
     "name": "stdout",
     "output_type": "stream",
     "text": [
      "XXX HERE True False tensor(0, device='cuda:0')\n",
      "XXX HERE True False tensor(0, device='cuda:0')\n",
      "XXX HERE True False tensor(0, device='cuda:0')\n",
      "XXX HERE True False tensor(0, device='cuda:0')\n"
     ]
    },
    {
     "name": "stderr",
     "output_type": "stream",
     "text": [
      " 40%|███▉      | 336/850 [00:01<00:02, 217.83it/s]"
     ]
    },
    {
     "name": "stdout",
     "output_type": "stream",
     "text": [
      "XXX HERE False False tensor(0, device='cuda:0')\n",
      "XXX HERE True False tensor(0, device='cuda:0')\n",
      "XXX HERE False False tensor(0, device='cuda:0')\n",
      "XXX HERE False False tensor(0, device='cuda:0')\n",
      "XXX HERE False False tensor(0, device='cuda:0')\n"
     ]
    },
    {
     "name": "stderr",
     "output_type": "stream",
     "text": [
      " 45%|████▍     | 380/850 [00:01<00:02, 212.01it/s]"
     ]
    },
    {
     "name": "stdout",
     "output_type": "stream",
     "text": [
      "XXX HERE True False tensor(0, device='cuda:0')\n",
      "XXX HERE True False tensor(0, device='cuda:0')\n",
      "XXX HERE True False tensor(0, device='cuda:0')\n",
      "XXX HERE True False tensor(0, device='cuda:0')\n",
      "XXX HERE True False tensor(0, device='cuda:0')\n",
      "XXX HERE True False tensor(0, device='cuda:0')\n"
     ]
    },
    {
     "name": "stderr",
     "output_type": "stream",
     "text": [
      " 53%|█████▎    | 450/850 [00:02<00:01, 219.35it/s]"
     ]
    },
    {
     "name": "stdout",
     "output_type": "stream",
     "text": [
      "XXX HERE False False tensor(0, device='cuda:0')\n",
      "XXX HERE True False tensor(0, device='cuda:0')\n",
      "XXX HERE True False tensor(0, device='cuda:0')\n"
     ]
    },
    {
     "name": "stderr",
     "output_type": "stream",
     "text": [
      " 58%|█████▊    | 495/850 [00:02<00:01, 216.13it/s]"
     ]
    },
    {
     "name": "stdout",
     "output_type": "stream",
     "text": [
      "XXX HERE False False tensor(0, device='cuda:0')\n",
      "XXX HERE False False tensor(0, device='cuda:0')\n",
      "XXX HERE True False tensor(0, device='cuda:0')\n",
      "XXX HERE True False tensor(0, device='cuda:0')\n",
      "XXX HERE False False tensor(0, device='cuda:0')\n"
     ]
    },
    {
     "name": "stderr",
     "output_type": "stream",
     "text": [
      " 64%|██████▎   | 541/850 [00:02<00:01, 217.98it/s]"
     ]
    },
    {
     "name": "stdout",
     "output_type": "stream",
     "text": [
      "XXX HERE True False tensor(0, device='cuda:0')\n",
      "XXX HERE False False tensor(0, device='cuda:0')\n",
      "XXX HERE False False tensor(0, device='cuda:0')\n",
      "XXX HERE True False tensor(0, device='cuda:0')\n",
      "XXX HERE False False tensor(0, device='cuda:0')\n"
     ]
    },
    {
     "name": "stderr",
     "output_type": "stream",
     "text": [
      " 71%|███████▏  | 607/850 [00:02<00:01, 212.12it/s]"
     ]
    },
    {
     "name": "stdout",
     "output_type": "stream",
     "text": [
      "XXX HERE True False tensor(0, device='cuda:0')\n",
      "XXX HERE False False tensor(0, device='cuda:0')\n",
      "XXX HERE True False tensor(0, device='cuda:0')\n",
      "XXX HERE True False tensor(0, device='cuda:0')\n",
      "XXX HERE True False tensor(0, device='cuda:0')\n",
      "XXX HERE True False tensor(0, device='cuda:0')\n"
     ]
    },
    {
     "name": "stderr",
     "output_type": "stream",
     "text": [
      " 77%|███████▋  | 652/850 [00:03<00:00, 213.10it/s]"
     ]
    },
    {
     "name": "stdout",
     "output_type": "stream",
     "text": [
      "XXX HERE False False tensor(0, device='cuda:0')\n",
      "XXX HERE True False tensor(0, device='cuda:0')\n",
      "XXX HERE True False tensor(0, device='cuda:0')\n",
      "XXX HERE True False tensor(0, device='cuda:0')\n",
      "XXX HERE False False tensor(0, device='cuda:0')\n"
     ]
    },
    {
     "name": "stderr",
     "output_type": "stream",
     "text": [
      " 82%|████████▏ | 697/850 [00:03<00:00, 216.77it/s]"
     ]
    },
    {
     "name": "stdout",
     "output_type": "stream",
     "text": [
      "XXX HERE True False tensor(0, device='cuda:0')\n",
      "XXX HERE False False tensor(0, device='cuda:0')\n"
     ]
    },
    {
     "name": "stderr",
     "output_type": "stream",
     "text": [
      " 93%|█████████▎| 792/850 [00:03<00:00, 225.02it/s]"
     ]
    },
    {
     "name": "stdout",
     "output_type": "stream",
     "text": [
      "XXX HERE True False tensor(0, device='cuda:0')\n",
      "XXX HERE True False tensor(0, device='cuda:0')\n"
     ]
    },
    {
     "name": "stderr",
     "output_type": "stream",
     "text": [
      " 96%|█████████▌| 815/850 [00:03<00:00, 217.80it/s]"
     ]
    },
    {
     "name": "stdout",
     "output_type": "stream",
     "text": [
      "XXX HERE True False tensor(0, device='cuda:0')\n",
      "XXX HERE True False tensor(0, device='cuda:0')\n",
      "XXX HERE True False tensor(0, device='cuda:0')\n",
      "XXX HERE True False tensor(0, device='cuda:0')\n",
      "XXX HERE True False tensor(0, device='cuda:0')\n",
      "XXX HERE True False tensor(0, device='cuda:0')\n",
      "XXX HERE True False "
     ]
    },
    {
     "name": "stderr",
     "output_type": "stream",
     "text": [
      "100%|██████████| 850/850 [00:03<00:00, 216.28it/s]"
     ]
    },
    {
     "name": "stdout",
     "output_type": "stream",
     "text": [
      "tensor(0, device='cuda:0')\n",
      "313 267 850\n"
     ]
    },
    {
     "name": "stderr",
     "output_type": "stream",
     "text": [
      "\n"
     ]
    }
   ],
   "source": [
    "grouped_filenames = collections.defaultdict(list)\n",
    "group_to_spacegroup = {}\n",
    "\n",
    "for filename in img_path.glob('valid/*'):\n",
    "    sample, _, space_group, _ = filename.name.split('.')\n",
    "    if space_group != '15': continue\n",
    "    grouped_filenames[sample].append(filename.name)\n",
    "    group_to_spacegroup[sample] = space_group\n",
    "\n",
    "grouped_filenames = dict(grouped_filenames)\n",
    "num_correct = 0\n",
    "num_correct2 = 0\n",
    "\n",
    "for group, filenames in tqdm.tqdm(grouped_filenames.items()):\n",
    "    space_group = group_to_spacegroup[group]\n",
    "\n",
    "    images = []\n",
    "    for filename in filenames:\n",
    "        fullpath = str(img_path/'valid'/filename)\n",
    "        images.append(PIL.Image.open(fullpath).convert('L'))\n",
    "\n",
    "    tensors = []\n",
    "    for img in images:\n",
    "        # for angle in range(0, 360, 5):\n",
    "        for angle in range(0, 360, 360):\n",
    "            tensors.append(pipeline._make_tensor_for_test(img, angle))\n",
    "\n",
    "    model_1415.eval()\n",
    "    model.eval()\n",
    "    with torch.no_grad():\n",
    "        out = model(torch.stack(tensors).cuda())\n",
    "        argmax_topk = F.softmax(out, dim=1).mean(dim=0).topk(k=2)\n",
    "\n",
    "    cat = cbed_data_loader.label_manager.raw_labels[argmax_topk.indices[0]]\n",
    "    if str(cat) == space_group:\n",
    "        num_correct += 1\n",
    "    \n",
    "    topk_cats = []\n",
    "    for idx in argmax_topk.indices:\n",
    "        topk_cats.append(cbed_data_loader.label_manager.raw_labels[idx])\n",
    "        \n",
    "    if '14' in topk_cats and '15' in topk_cats:\n",
    "        a = str(cat) == space_group\n",
    "        with torch.no_grad():\n",
    "            out2 = model_1415(torch.stack(tensors).cuda())\n",
    "            argmax = F.softmax(out2, dim=1).mean(dim=0).argmax()\n",
    "        cat = cbed_data_loader.label_manager.raw_labels[argmax]\n",
    "        if str(cat) == space_group:\n",
    "            num_correct2 += 1\n",
    "        b = str(cat) == space_group\n",
    "        \n",
    "        print(\"XXX HERE\", a, b, argmax)\n",
    "    else:\n",
    "        if str(cat) == space_group:\n",
    "            num_correct2 += 1\n",
    "\n",
    "# num_correct was 319 / 850 (37.5%)\n",
    "print(num_correct, num_correct2, len(grouped_filenames))"
   ]
  },
  {
   "cell_type": "code",
   "execution_count": 52,
   "metadata": {},
   "outputs": [
    {
     "name": "stderr",
     "output_type": "stream",
     "text": [
      "100%|██████████| 850/850 [00:03<00:00, 243.02it/s]"
     ]
    },
    {
     "name": "stdout",
     "output_type": "stream",
     "text": [
      "313 850\n"
     ]
    },
    {
     "name": "stderr",
     "output_type": "stream",
     "text": [
      "\n"
     ]
    }
   ],
   "source": [
    "grouped_filenames = collections.defaultdict(list)\n",
    "group_to_spacegroup = {}\n",
    "\n",
    "for filename in img_path.glob('valid/*'):\n",
    "    sample, _, space_group, _ = filename.name.split('.')\n",
    "    if space_group != '15': continue\n",
    "    grouped_filenames[sample].append(filename.name)\n",
    "    group_to_spacegroup[sample] = space_group\n",
    "\n",
    "grouped_filenames = dict(grouped_filenames)\n",
    "num_correct = 0\n",
    "\n",
    "for group, filenames in tqdm.tqdm(grouped_filenames.items()):\n",
    "    space_group = group_to_spacegroup[group]\n",
    "\n",
    "    images = []\n",
    "    for filename in filenames:\n",
    "        fullpath = str(img_path/'valid'/filename)\n",
    "        images.append(PIL.Image.open(fullpath).convert('L'))\n",
    "\n",
    "    tensors = []\n",
    "    for img in images:\n",
    "        for angle in range(0, 360, 360):\n",
    "            tensors.append(pipeline._make_tensor_for_test(img, angle))\n",
    "\n",
    "    # model_1415.eval()\n",
    "    model.eval()\n",
    "    with torch.no_grad():\n",
    "        # out = model_1415(torch.stack(tensors).cuda())\n",
    "        out = model(torch.stack(tensors).cuda())\n",
    "        argmax = F.softmax(out, dim=1).mean(dim=0).argmax()\n",
    "    cat = cbed_data_loader.label_manager.raw_labels[argmax]\n",
    "    if str(cat) == space_group:\n",
    "        num_correct += 1\n",
    "        if num_correct % 500 == 0:\n",
    "            print(num_correct)\n",
    "\n",
    "# num_correct was 319 / 850 (37.5%)\n",
    "print(num_correct, len(grouped_filenames))"
   ]
  },
  {
   "cell_type": "code",
   "execution_count": 36,
   "metadata": {},
   "outputs": [
    {
     "data": {
      "text/html": [
       "<div>\n",
       "<style scoped>\n",
       "    .dataframe tbody tr th:only-of-type {\n",
       "        vertical-align: middle;\n",
       "    }\n",
       "\n",
       "    .dataframe tbody tr th {\n",
       "        vertical-align: top;\n",
       "    }\n",
       "\n",
       "    .dataframe thead th {\n",
       "        text-align: right;\n",
       "    }\n",
       "</style>\n",
       "<table border=\"1\" class=\"dataframe\">\n",
       "  <thead>\n",
       "    <tr style=\"text-align: right;\">\n",
       "      <th></th>\n",
       "      <th></th>\n",
       "      <th>sample</th>\n",
       "      <th>topk_values</th>\n",
       "      <th>topk_cats</th>\n",
       "    </tr>\n",
       "    <tr>\n",
       "      <th>actual</th>\n",
       "      <th>predicted</th>\n",
       "      <th></th>\n",
       "      <th></th>\n",
       "      <th></th>\n",
       "    </tr>\n",
       "  </thead>\n",
       "  <tbody>\n",
       "    <tr>\n",
       "      <th>221</th>\n",
       "      <th>225</th>\n",
       "      <td>231</td>\n",
       "      <td>231</td>\n",
       "      <td>231</td>\n",
       "    </tr>\n",
       "    <tr>\n",
       "      <th>15</th>\n",
       "      <th>14</th>\n",
       "      <td>223</td>\n",
       "      <td>223</td>\n",
       "      <td>223</td>\n",
       "    </tr>\n",
       "    <tr>\n",
       "      <th>2</th>\n",
       "      <th>14</th>\n",
       "      <td>182</td>\n",
       "      <td>182</td>\n",
       "      <td>182</td>\n",
       "    </tr>\n",
       "    <tr>\n",
       "      <th>216</th>\n",
       "      <th>225</th>\n",
       "      <td>177</td>\n",
       "      <td>177</td>\n",
       "      <td>177</td>\n",
       "    </tr>\n",
       "    <tr>\n",
       "      <th>139</th>\n",
       "      <th>225</th>\n",
       "      <td>158</td>\n",
       "      <td>158</td>\n",
       "      <td>158</td>\n",
       "    </tr>\n",
       "    <tr>\n",
       "      <th>...</th>\n",
       "      <th>...</th>\n",
       "      <td>...</td>\n",
       "      <td>...</td>\n",
       "      <td>...</td>\n",
       "    </tr>\n",
       "    <tr>\n",
       "      <th>162</th>\n",
       "      <th>11</th>\n",
       "      <td>1</td>\n",
       "      <td>1</td>\n",
       "      <td>1</td>\n",
       "    </tr>\n",
       "    <tr>\n",
       "      <th>161</th>\n",
       "      <th>139</th>\n",
       "      <td>1</td>\n",
       "      <td>1</td>\n",
       "      <td>1</td>\n",
       "    </tr>\n",
       "    <tr>\n",
       "      <th>60</th>\n",
       "      <th>15</th>\n",
       "      <td>1</td>\n",
       "      <td>1</td>\n",
       "      <td>1</td>\n",
       "    </tr>\n",
       "    <tr>\n",
       "      <th>160</th>\n",
       "      <th>221</th>\n",
       "      <td>1</td>\n",
       "      <td>1</td>\n",
       "      <td>1</td>\n",
       "    </tr>\n",
       "    <tr>\n",
       "      <th>197</th>\n",
       "      <th>166</th>\n",
       "      <td>1</td>\n",
       "      <td>1</td>\n",
       "      <td>1</td>\n",
       "    </tr>\n",
       "  </tbody>\n",
       "</table>\n",
       "<p>997 rows × 3 columns</p>\n",
       "</div>"
      ],
      "text/plain": [
       "                  sample  topk_values  topk_cats\n",
       "actual predicted                                \n",
       "221    225           231          231        231\n",
       "15     14            223          223        223\n",
       "2      14            182          182        182\n",
       "216    225           177          177        177\n",
       "139    225           158          158        158\n",
       "...                  ...          ...        ...\n",
       "162    11              1            1          1\n",
       "161    139             1            1          1\n",
       "60     15              1            1          1\n",
       "160    221             1            1          1\n",
       "197    166             1            1          1\n",
       "\n",
       "[997 rows x 3 columns]"
      ]
     },
     "execution_count": 36,
     "metadata": {},
     "output_type": "execute_result"
    }
   ],
   "source": [
    "errors_df.groupby(['actual', 'predicted']).count().sort_values('sample', ascending=False)"
   ]
  },
  {
   "cell_type": "code",
   "execution_count": 70,
   "metadata": {},
   "outputs": [],
   "source": [
    "model_1415 = pipeline.make_resnet34_1chan(\n",
    "    pretrained=False,\n",
    "    num_classes=2,\n",
    "    dropout=0.25,\n",
    ").cuda()\n",
    "\n",
    "pipeline.ModelOptBuf().load(model_1415, opt, 'img12_0')"
   ]
  },
  {
   "cell_type": "code",
   "execution_count": null,
   "metadata": {},
   "outputs": [],
   "source": []
  },
  {
   "cell_type": "code",
   "execution_count": 12,
   "metadata": {},
   "outputs": [],
   "source": [
    "pipeline.ModelOptBuf().save(model, opt, 'img12_0')"
   ]
  },
  {
   "cell_type": "code",
   "execution_count": 10,
   "metadata": {},
   "outputs": [
    {
     "name": "stderr",
     "output_type": "stream",
     "text": [
      " 26%|██▌       | 633/2440 [01:13<03:30,  8.60it/s]"
     ]
    },
    {
     "name": "stdout",
     "output_type": "stream",
     "text": [
      "500\n"
     ]
    },
    {
     "name": "stderr",
     "output_type": "stream",
     "text": [
      " 51%|█████     | 1236/2440 [02:24<02:25,  8.25it/s]"
     ]
    },
    {
     "name": "stdout",
     "output_type": "stream",
     "text": [
      "1000\n"
     ]
    },
    {
     "name": "stderr",
     "output_type": "stream",
     "text": [
      " 77%|███████▋  | 1873/2440 [03:39<01:05,  8.65it/s]"
     ]
    },
    {
     "name": "stdout",
     "output_type": "stream",
     "text": [
      "1500\n"
     ]
    },
    {
     "name": "stderr",
     "output_type": "stream",
     "text": [
      "100%|██████████| 2440/2440 [04:45<00:00,  8.56it/s]\n"
     ]
    },
    {
     "name": "stdout",
     "output_type": "stream",
     "text": [
      "1970 2440\n"
     ]
    }
   ],
   "source": [
    "outcomes_12 = pipeline.test_validation_set(img_path, model, cbed_data_loader.label_manager, topk=2)"
   ]
  },
  {
   "cell_type": "code",
   "execution_count": 71,
   "metadata": {},
   "outputs": [
    {
     "name": "stderr",
     "output_type": "stream",
     "text": [
      " 31%|███       | 756/2440 [01:26<03:07,  8.96it/s]"
     ]
    },
    {
     "name": "stdout",
     "output_type": "stream",
     "text": [
      "500\n"
     ]
    },
    {
     "name": "stderr",
     "output_type": "stream",
     "text": [
      " 63%|██████▎   | 1529/2440 [02:54<01:43,  8.80it/s]"
     ]
    },
    {
     "name": "stdout",
     "output_type": "stream",
     "text": [
      "1000\n"
     ]
    },
    {
     "name": "stderr",
     "output_type": "stream",
     "text": [
      " 94%|█████████▍| 2298/2440 [04:21<00:15,  8.97it/s]"
     ]
    },
    {
     "name": "stdout",
     "output_type": "stream",
     "text": [
      "1500\n"
     ]
    },
    {
     "name": "stderr",
     "output_type": "stream",
     "text": [
      "100%|██████████| 2440/2440 [04:37<00:00,  8.78it/s]\n"
     ]
    },
    {
     "name": "stdout",
     "output_type": "stream",
     "text": [
      "1590 2440\n"
     ]
    }
   ],
   "source": [
    "outcomes_12 = pipeline.test_validation_set(img_path12, model_1415, cbed_data_loader12.label_manager, topk=2)"
   ]
  },
  {
   "cell_type": "code",
   "execution_count": 13,
   "metadata": {},
   "outputs": [
    {
     "name": "stderr",
     "output_type": "stream",
     "text": [
      "  0%|          | 0/100 [00:00<?, ?it/s]"
     ]
    },
    {
     "name": "stdout",
     "output_type": "stream",
     "text": [
      "Logging to runs/Jun23_13-53-21_panda__img12_0\n"
     ]
    },
    {
     "name": "stderr",
     "output_type": "stream",
     "text": [
      "100%|██████████| 100/100 [33:04<00:00, 19.84s/it]\n"
     ]
    }
   ],
   "source": [
    "save_filename = 'models/model_1415'\n",
    "# save_filename = ''\n",
    "\n",
    "with torch.utils.tensorboard.SummaryWriter(comment='__img12_0') as tbw:\n",
    "    print(f\"Logging to {tbw.log_dir}\")\n",
    "\n",
    "    tbw.add_text('desc', \"dropout p=25%; cutout torch_default p=80%\")\n",
    "    if save_filename:\n",
    "        tbw.add_text('save_filename', save_filename)\n",
    "    num_classes = len(cbed_data_loader12.label_manager.raw_labels)\n",
    "\n",
    "    learner = pipeline.Learner(\n",
    "        model=pipeline.make_resnet34_1chan(\n",
    "            pretrained=False,\n",
    "            num_classes=num_classes,\n",
    "            dropout=0.25,\n",
    "        ).cuda(),\n",
    "        loss_fn=F.cross_entropy,\n",
    "        tbw=tbw,\n",
    "        train_loader=cbed_data_loader12.train_loader,\n",
    "        valid_loader=cbed_data_loader12.valid_loader,\n",
    "        topk=1,\n",
    "    )\n",
    "    learner.train_model(100, lr=3e-2, weight_decay=0.01)\n",
    "    pipeline.notify(\"training done\")\n",
    "    \n",
    "if save_filename:\n",
    "    pipeline.ModelOptBuf().save(learner.model, learner.opt, save_filename)"
   ]
  },
  {
   "cell_type": "code",
   "execution_count": 18,
   "metadata": {},
   "outputs": [],
   "source": [
    "model_1415 = pipeline.make_resnet34_1chan(\n",
    "    pretrained=False,\n",
    "    num_classes=2,\n",
    "    dropout=0.25,\n",
    ").cuda()\n",
    "pipeline.ModelOptBuf().load(model_1415, None, 'models/model_1415')"
   ]
  },
  {
   "cell_type": "code",
   "execution_count": 14,
   "metadata": {},
   "outputs": [
    {
     "name": "stderr",
     "output_type": "stream",
     "text": [
      "  0%|          | 0/100 [00:00<?, ?it/s]"
     ]
    },
    {
     "name": "stdout",
     "output_type": "stream",
     "text": [
      "Logging to runs/Jun23_14-26-26_panda__img12_0\n"
     ]
    },
    {
     "name": "stderr",
     "output_type": "stream",
     "text": [
      "100%|██████████| 100/100 [33:02<00:00, 19.83s/it]\n"
     ]
    }
   ],
   "source": [
    "save_filename = 'models/model_1415_2'\n",
    "# save_filename = ''\n",
    "\n",
    "with torch.utils.tensorboard.SummaryWriter(comment='__img12_0') as tbw:\n",
    "    print(f\"Logging to {tbw.log_dir}\")\n",
    "\n",
    "    tbw.add_text('desc', \"dropout p=50%; cutout torch_default p=80%\")\n",
    "    if save_filename:\n",
    "        tbw.add_text('save_filename', save_filename)\n",
    "    num_classes = len(cbed_data_loader12.label_manager.raw_labels)\n",
    "\n",
    "    learner = pipeline.Learner(\n",
    "        model=pipeline.make_resnet34_1chan(\n",
    "            pretrained=False,\n",
    "            num_classes=num_classes,\n",
    "            dropout=0.50,\n",
    "        ).cuda(),\n",
    "        loss_fn=F.cross_entropy,\n",
    "        tbw=tbw,\n",
    "        train_loader=cbed_data_loader12.train_loader,\n",
    "        valid_loader=cbed_data_loader12.valid_loader,\n",
    "        topk=1,\n",
    "    )\n",
    "    learner.train_model(100, lr=3e-2, weight_decay=0.01)\n",
    "    pipeline.notify(\"training done\")\n",
    "    \n",
    "if save_filename:\n",
    "    pipeline.ModelOptBuf().save(learner.model, learner.opt, save_filename)"
   ]
  },
  {
   "cell_type": "code",
   "execution_count": 15,
   "metadata": {},
   "outputs": [
    {
     "name": "stderr",
     "output_type": "stream",
     "text": [
      "  0%|          | 0/100 [00:00<?, ?it/s]"
     ]
    },
    {
     "name": "stdout",
     "output_type": "stream",
     "text": [
      "Logging to runs/Jun23_14-59-29_panda__img12_0\n"
     ]
    },
    {
     "name": "stderr",
     "output_type": "stream",
     "text": [
      "100%|██████████| 100/100 [32:50<00:00, 19.71s/it]\n"
     ]
    }
   ],
   "source": [
    "save_filename = 'models/model_1415_3'\n",
    "# save_filename = ''\n",
    "\n",
    "with torch.utils.tensorboard.SummaryWriter(comment='__img12_0') as tbw:\n",
    "    print(f\"Logging to {tbw.log_dir}\")\n",
    "\n",
    "    tbw.add_text('desc', \"dropout p=50%; cutout torch_default p=80%; wd=0.1\")\n",
    "    if save_filename:\n",
    "        tbw.add_text('save_filename', save_filename)\n",
    "    num_classes = len(cbed_data_loader12.label_manager.raw_labels)\n",
    "\n",
    "    learner = pipeline.Learner(\n",
    "        model=pipeline.make_resnet34_1chan(\n",
    "            pretrained=False,\n",
    "            num_classes=num_classes,\n",
    "            dropout=0.50,\n",
    "        ).cuda(),\n",
    "        loss_fn=F.cross_entropy,\n",
    "        tbw=tbw,\n",
    "        train_loader=cbed_data_loader12.train_loader,\n",
    "        valid_loader=cbed_data_loader12.valid_loader,\n",
    "        topk=1,\n",
    "    )\n",
    "    learner.train_model(100, lr=3e-2, weight_decay=0.1)\n",
    "    pipeline.notify(\"training done\")\n",
    "    \n",
    "if save_filename:\n",
    "    pipeline.ModelOptBuf().save(learner.model, learner.opt, save_filename)"
   ]
  },
  {
   "cell_type": "code",
   "execution_count": 7,
   "metadata": {},
   "outputs": [],
   "source": [
    "tbw.file_writer"
   ]
  },
  {
   "cell_type": "code",
   "execution_count": 9,
   "metadata": {},
   "outputs": [
    {
     "data": {
      "text/plain": [
       "''"
      ]
     },
     "execution_count": 9,
     "metadata": {},
     "output_type": "execute_result"
    }
   ],
   "source": [
    "tbw.filename_suffix"
   ]
  },
  {
   "cell_type": "code",
   "execution_count": 23,
   "metadata": {},
   "outputs": [
    {
     "name": "stderr",
     "output_type": "stream",
     "text": [
      "Acc: 78.77%: 100%|██████████| 2440/2440 [00:31<00:00, 78.43it/s]\n"
     ]
    },
    {
     "name": "stdout",
     "output_type": "stream",
     "text": [
      "1922 2440\n"
     ]
    }
   ],
   "source": [
    "model_1415 = pipeline.make_resnet34_1chan(\n",
    "    pretrained=False,\n",
    "    num_classes=2,\n",
    "    dropout=0.25,\n",
    ").cuda()\n",
    "pipeline.ModelOptBuf().load(model_1415, None, 'models/model_1415')\n",
    "\n",
    "outcomes_12 = pipeline.test_validation_set(\n",
    "    img_path12, model_1415, cbed_data_loader12.label_manager, rotate_deg=90, topk=2)"
   ]
  },
  {
   "cell_type": "code",
   "execution_count": 20,
   "metadata": {},
   "outputs": [
    {
     "name": "stderr",
     "output_type": "stream",
     "text": [
      " 26%|██▋       | 644/2440 [01:12<03:17,  9.07it/s]"
     ]
    },
    {
     "name": "stdout",
     "output_type": "stream",
     "text": [
      "500\n"
     ]
    },
    {
     "name": "stderr",
     "output_type": "stream",
     "text": [
      " 52%|█████▏    | 1267/2440 [02:22<02:11,  8.89it/s]"
     ]
    },
    {
     "name": "stdout",
     "output_type": "stream",
     "text": [
      "1000\n"
     ]
    },
    {
     "name": "stderr",
     "output_type": "stream",
     "text": [
      " 79%|███████▊  | 1916/2440 [03:35<00:59,  8.84it/s]"
     ]
    },
    {
     "name": "stdout",
     "output_type": "stream",
     "text": [
      "1500\n"
     ]
    },
    {
     "name": "stderr",
     "output_type": "stream",
     "text": [
      "100%|██████████| 2440/2440 [04:40<00:00,  8.69it/s]\n"
     ]
    },
    {
     "name": "stdout",
     "output_type": "stream",
     "text": [
      "1928 2440\n"
     ]
    }
   ],
   "source": [
    "outcomes_12 = pipeline.test_validation_set(\n",
    "    img_path12, model_1415, cbed_data_loader12.label_manager, topk=2)"
   ]
  },
  {
   "cell_type": "code",
   "execution_count": 27,
   "metadata": {},
   "outputs": [
    {
     "name": "stderr",
     "output_type": "stream",
     "text": [
      "Acc: 79.39%: 100%|██████████| 2440/2440 [00:29<00:00, 82.59it/s]\n"
     ]
    },
    {
     "name": "stdout",
     "output_type": "stream",
     "text": [
      "1937 2440\n"
     ]
    }
   ],
   "source": [
    "tmp_model = pipeline.make_resnet34_1chan(\n",
    "    pretrained=False,\n",
    "    num_classes=2,\n",
    "    dropout=0.5,\n",
    ").cuda()\n",
    "pipeline.ModelOptBuf().load(tmp_model, None, 'models/model_1415_2')\n",
    "\n",
    "# 1937 / 2440 (79.4%)\n",
    "outcomes_12 = pipeline.test_validation_set(\n",
    "    img_path12, tmp_model, cbed_data_loader12.label_manager, rotate_deg=90, topk=2)"
   ]
  },
  {
   "cell_type": "code",
   "execution_count": 26,
   "metadata": {},
   "outputs": [
    {
     "name": "stderr",
     "output_type": "stream",
     "text": [
      "Acc: 80.08%: 100%|██████████| 2440/2440 [05:14<00:00,  7.76it/s]\n"
     ]
    },
    {
     "name": "stdout",
     "output_type": "stream",
     "text": [
      "1954 2440\n"
     ]
    }
   ],
   "source": [
    "tmp_model = pipeline.make_resnet34_1chan(\n",
    "    pretrained=False,\n",
    "    num_classes=2,\n",
    "    dropout=0.5,\n",
    ").cuda()\n",
    "pipeline.ModelOptBuf().load(tmp_model, None, 'models/model_1415_2')\n",
    "\n",
    "outcomes_12 = pipeline.test_validation_set(\n",
    "    img_path12, tmp_model, cbed_data_loader12.label_manager, topk=2)"
   ]
  },
  {
   "cell_type": "code",
   "execution_count": 25,
   "metadata": {},
   "outputs": [
    {
     "name": "stderr",
     "output_type": "stream",
     "text": [
      "Acc: 78.20%: 100%|██████████| 2440/2440 [00:29<00:00, 82.04it/s]\n"
     ]
    },
    {
     "name": "stdout",
     "output_type": "stream",
     "text": [
      "1908 2440\n"
     ]
    }
   ],
   "source": [
    "tmp_model = pipeline.make_resnet34_1chan(\n",
    "    pretrained=False,\n",
    "    num_classes=2,\n",
    "    dropout=0.25,\n",
    ").cuda()\n",
    "pipeline.ModelOptBuf().load(tmp_model, None, 'models/model_1415_3')\n",
    "\n",
    "outcomes_12 = pipeline.test_validation_set(\n",
    "    img_path12, tmp_model, cbed_data_loader12.label_manager, rotate_deg=90, topk=2)"
   ]
  },
  {
   "cell_type": "code",
   "execution_count": null,
   "metadata": {},
   "outputs": [],
   "source": [
    "outcomes_12 = pipeline.test_validation_set(\n",
    "    img_path12, model_1415, cbed_data_loader12.label_manager,\n",
    "    filedir='train', rotate_deg=30, topk=2)"
   ]
  },
  {
   "cell_type": "code",
   "execution_count": 68,
   "metadata": {},
   "outputs": [
    {
     "data": {
      "text/html": [
       "<div>\n",
       "<style scoped>\n",
       "    .dataframe tbody tr th:only-of-type {\n",
       "        vertical-align: middle;\n",
       "    }\n",
       "\n",
       "    .dataframe tbody tr th {\n",
       "        vertical-align: top;\n",
       "    }\n",
       "\n",
       "    .dataframe thead th {\n",
       "        text-align: right;\n",
       "    }\n",
       "</style>\n",
       "<table border=\"1\" class=\"dataframe\">\n",
       "  <thead>\n",
       "    <tr style=\"text-align: right;\">\n",
       "      <th></th>\n",
       "      <th>sample</th>\n",
       "      <th>actual</th>\n",
       "      <th>predicted</th>\n",
       "      <th>topk_values</th>\n",
       "      <th>topk_cats</th>\n",
       "    </tr>\n",
       "  </thead>\n",
       "  <tbody>\n",
       "    <tr>\n",
       "      <th>0</th>\n",
       "      <td>321_sample_0_4</td>\n",
       "      <td>14</td>\n",
       "      <td>14</td>\n",
       "      <td>[0.666670560836792, 0.33332952857017517]</td>\n",
       "      <td>[14, 15]</td>\n",
       "    </tr>\n",
       "    <tr>\n",
       "      <th>1</th>\n",
       "      <td>265_sample_5_7</td>\n",
       "      <td>14</td>\n",
       "      <td>14</td>\n",
       "      <td>[0.7377837300300598, 0.2622162401676178]</td>\n",
       "      <td>[14, 15]</td>\n",
       "    </tr>\n",
       "    <tr>\n",
       "      <th>2</th>\n",
       "      <td>151_sample_5_1</td>\n",
       "      <td>14</td>\n",
       "      <td>14</td>\n",
       "      <td>[0.7732498645782471, 0.2267502099275589]</td>\n",
       "      <td>[14, 15]</td>\n",
       "    </tr>\n",
       "    <tr>\n",
       "      <th>3</th>\n",
       "      <td>130_sample_3_3</td>\n",
       "      <td>14</td>\n",
       "      <td>14</td>\n",
       "      <td>[0.6894300580024719, 0.31056997179985046]</td>\n",
       "      <td>[14, 15]</td>\n",
       "    </tr>\n",
       "    <tr>\n",
       "      <th>4</th>\n",
       "      <td>116_sample_2_8</td>\n",
       "      <td>14</td>\n",
       "      <td>14</td>\n",
       "      <td>[0.6429608464241028, 0.35703912377357483]</td>\n",
       "      <td>[14, 15]</td>\n",
       "    </tr>\n",
       "    <tr>\n",
       "      <th>...</th>\n",
       "      <td>...</td>\n",
       "      <td>...</td>\n",
       "      <td>...</td>\n",
       "      <td>...</td>\n",
       "      <td>...</td>\n",
       "    </tr>\n",
       "    <tr>\n",
       "      <th>2435</th>\n",
       "      <td>229_sample_4_8</td>\n",
       "      <td>14</td>\n",
       "      <td>14</td>\n",
       "      <td>[0.7023070454597473, 0.2976929843425751]</td>\n",
       "      <td>[14, 15]</td>\n",
       "    </tr>\n",
       "    <tr>\n",
       "      <th>2436</th>\n",
       "      <td>159_sample_5_4</td>\n",
       "      <td>15</td>\n",
       "      <td>14</td>\n",
       "      <td>[0.7641213536262512, 0.2358786016702652]</td>\n",
       "      <td>[14, 15]</td>\n",
       "    </tr>\n",
       "    <tr>\n",
       "      <th>2437</th>\n",
       "      <td>299_sample_0_5</td>\n",
       "      <td>15</td>\n",
       "      <td>14</td>\n",
       "      <td>[0.6665453910827637, 0.3334546387195587]</td>\n",
       "      <td>[14, 15]</td>\n",
       "    </tr>\n",
       "    <tr>\n",
       "      <th>2438</th>\n",
       "      <td>309_sample_3_2</td>\n",
       "      <td>14</td>\n",
       "      <td>14</td>\n",
       "      <td>[0.6732885837554932, 0.3267114758491516]</td>\n",
       "      <td>[14, 15]</td>\n",
       "    </tr>\n",
       "    <tr>\n",
       "      <th>2439</th>\n",
       "      <td>342_sample_0_6</td>\n",
       "      <td>14</td>\n",
       "      <td>14</td>\n",
       "      <td>[0.6920806169509888, 0.30791935324668884]</td>\n",
       "      <td>[14, 15]</td>\n",
       "    </tr>\n",
       "  </tbody>\n",
       "</table>\n",
       "<p>2440 rows × 5 columns</p>\n",
       "</div>"
      ],
      "text/plain": [
       "              sample actual predicted  \\\n",
       "0     321_sample_0_4     14        14   \n",
       "1     265_sample_5_7     14        14   \n",
       "2     151_sample_5_1     14        14   \n",
       "3     130_sample_3_3     14        14   \n",
       "4     116_sample_2_8     14        14   \n",
       "...              ...    ...       ...   \n",
       "2435  229_sample_4_8     14        14   \n",
       "2436  159_sample_5_4     15        14   \n",
       "2437  299_sample_0_5     15        14   \n",
       "2438  309_sample_3_2     14        14   \n",
       "2439  342_sample_0_6     14        14   \n",
       "\n",
       "                                    topk_values topk_cats  \n",
       "0      [0.666670560836792, 0.33332952857017517]  [14, 15]  \n",
       "1      [0.7377837300300598, 0.2622162401676178]  [14, 15]  \n",
       "2      [0.7732498645782471, 0.2267502099275589]  [14, 15]  \n",
       "3     [0.6894300580024719, 0.31056997179985046]  [14, 15]  \n",
       "4     [0.6429608464241028, 0.35703912377357483]  [14, 15]  \n",
       "...                                         ...       ...  \n",
       "2435   [0.7023070454597473, 0.2976929843425751]  [14, 15]  \n",
       "2436   [0.7641213536262512, 0.2358786016702652]  [14, 15]  \n",
       "2437   [0.6665453910827637, 0.3334546387195587]  [14, 15]  \n",
       "2438   [0.6732885837554932, 0.3267114758491516]  [14, 15]  \n",
       "2439  [0.6920806169509888, 0.30791935324668884]  [14, 15]  \n",
       "\n",
       "[2440 rows x 5 columns]"
      ]
     },
     "execution_count": 68,
     "metadata": {},
     "output_type": "execute_result"
    }
   ],
   "source": [
    "outcomes12_df = pd.DataFrame(outcomes_12)\n",
    "outcomes12_df"
   ]
  },
  {
   "cell_type": "code",
   "execution_count": 64,
   "metadata": {},
   "outputs": [
    {
     "data": {
      "text/html": [
       "<div>\n",
       "<style scoped>\n",
       "    .dataframe tbody tr th:only-of-type {\n",
       "        vertical-align: middle;\n",
       "    }\n",
       "\n",
       "    .dataframe tbody tr th {\n",
       "        vertical-align: top;\n",
       "    }\n",
       "\n",
       "    .dataframe thead th {\n",
       "        text-align: right;\n",
       "    }\n",
       "</style>\n",
       "<table border=\"1\" class=\"dataframe\">\n",
       "  <thead>\n",
       "    <tr style=\"text-align: right;\">\n",
       "      <th></th>\n",
       "      <th>sample</th>\n",
       "      <th>predicted</th>\n",
       "      <th>topk_values</th>\n",
       "      <th>topk_cats</th>\n",
       "    </tr>\n",
       "    <tr>\n",
       "      <th>actual</th>\n",
       "      <th></th>\n",
       "      <th></th>\n",
       "      <th></th>\n",
       "      <th></th>\n",
       "    </tr>\n",
       "  </thead>\n",
       "  <tbody>\n",
       "    <tr>\n",
       "      <th>14</th>\n",
       "      <td>1590</td>\n",
       "      <td>1590</td>\n",
       "      <td>1590</td>\n",
       "      <td>1590</td>\n",
       "    </tr>\n",
       "    <tr>\n",
       "      <th>15</th>\n",
       "      <td>850</td>\n",
       "      <td>850</td>\n",
       "      <td>850</td>\n",
       "      <td>850</td>\n",
       "    </tr>\n",
       "  </tbody>\n",
       "</table>\n",
       "</div>"
      ],
      "text/plain": [
       "        sample  predicted  topk_values  topk_cats\n",
       "actual                                           \n",
       "14        1590       1590         1590       1590\n",
       "15         850        850          850        850"
      ]
     },
     "execution_count": 64,
     "metadata": {},
     "output_type": "execute_result"
    }
   ],
   "source": [
    "outcomes12_df.groupby('actual').count()"
   ]
  },
  {
   "cell_type": "code",
   "execution_count": 65,
   "metadata": {},
   "outputs": [
    {
     "data": {
      "text/html": [
       "<div>\n",
       "<style scoped>\n",
       "    .dataframe tbody tr th:only-of-type {\n",
       "        vertical-align: middle;\n",
       "    }\n",
       "\n",
       "    .dataframe tbody tr th {\n",
       "        vertical-align: top;\n",
       "    }\n",
       "\n",
       "    .dataframe thead th {\n",
       "        text-align: right;\n",
       "    }\n",
       "</style>\n",
       "<table border=\"1\" class=\"dataframe\">\n",
       "  <thead>\n",
       "    <tr style=\"text-align: right;\">\n",
       "      <th></th>\n",
       "      <th>sample</th>\n",
       "      <th>actual</th>\n",
       "      <th>topk_values</th>\n",
       "      <th>topk_cats</th>\n",
       "    </tr>\n",
       "    <tr>\n",
       "      <th>predicted</th>\n",
       "      <th></th>\n",
       "      <th></th>\n",
       "      <th></th>\n",
       "      <th></th>\n",
       "    </tr>\n",
       "  </thead>\n",
       "  <tbody>\n",
       "    <tr>\n",
       "      <th>14</th>\n",
       "      <td>2440</td>\n",
       "      <td>2440</td>\n",
       "      <td>2440</td>\n",
       "      <td>2440</td>\n",
       "    </tr>\n",
       "  </tbody>\n",
       "</table>\n",
       "</div>"
      ],
      "text/plain": [
       "           sample  actual  topk_values  topk_cats\n",
       "predicted                                        \n",
       "14           2440    2440         2440       2440"
      ]
     },
     "execution_count": 65,
     "metadata": {},
     "output_type": "execute_result"
    }
   ],
   "source": [
    "outcomes12_df.groupby('predicted').count()"
   ]
  },
  {
   "cell_type": "code",
   "execution_count": null,
   "metadata": {},
   "outputs": [],
   "source": []
  },
  {
   "cell_type": "code",
   "execution_count": 55,
   "metadata": {},
   "outputs": [],
   "source": [
    "errors_df = pd.DataFrame(errors)"
   ]
  },
  {
   "cell_type": "code",
   "execution_count": 56,
   "metadata": {},
   "outputs": [
    {
     "data": {
      "text/plain": [
       "(10410, 3)"
      ]
     },
     "execution_count": 56,
     "metadata": {},
     "output_type": "execute_result"
    }
   ],
   "source": [
    "errors_df.shape"
   ]
  },
  {
   "cell_type": "code",
   "execution_count": 57,
   "metadata": {},
   "outputs": [
    {
     "data": {
      "text/html": [
       "<div>\n",
       "<style scoped>\n",
       "    .dataframe tbody tr th:only-of-type {\n",
       "        vertical-align: middle;\n",
       "    }\n",
       "\n",
       "    .dataframe tbody tr th {\n",
       "        vertical-align: top;\n",
       "    }\n",
       "\n",
       "    .dataframe thead th {\n",
       "        text-align: right;\n",
       "    }\n",
       "</style>\n",
       "<table border=\"1\" class=\"dataframe\">\n",
       "  <thead>\n",
       "    <tr style=\"text-align: right;\">\n",
       "      <th></th>\n",
       "      <th>sample</th>\n",
       "      <th>actual</th>\n",
       "      <th>predicted</th>\n",
       "    </tr>\n",
       "  </thead>\n",
       "  <tbody>\n",
       "    <tr>\n",
       "      <th>0</th>\n",
       "      <td>341_sample_2_6</td>\n",
       "      <td>88</td>\n",
       "      <td>14</td>\n",
       "    </tr>\n",
       "    <tr>\n",
       "      <th>1</th>\n",
       "      <td>223_sample_2_3</td>\n",
       "      <td>1</td>\n",
       "      <td>166</td>\n",
       "    </tr>\n",
       "    <tr>\n",
       "      <th>2</th>\n",
       "      <td>237_sample_5_1</td>\n",
       "      <td>136</td>\n",
       "      <td>14</td>\n",
       "    </tr>\n",
       "    <tr>\n",
       "      <th>3</th>\n",
       "      <td>319_sample_0_8</td>\n",
       "      <td>2</td>\n",
       "      <td>14</td>\n",
       "    </tr>\n",
       "    <tr>\n",
       "      <th>4</th>\n",
       "      <td>151_sample_2_7</td>\n",
       "      <td>147</td>\n",
       "      <td>4</td>\n",
       "    </tr>\n",
       "    <tr>\n",
       "      <th>...</th>\n",
       "      <td>...</td>\n",
       "      <td>...</td>\n",
       "      <td>...</td>\n",
       "    </tr>\n",
       "    <tr>\n",
       "      <th>10405</th>\n",
       "      <td>167_sample_2_3</td>\n",
       "      <td>220</td>\n",
       "      <td>225</td>\n",
       "    </tr>\n",
       "    <tr>\n",
       "      <th>10406</th>\n",
       "      <td>341_sample_0_0</td>\n",
       "      <td>109</td>\n",
       "      <td>225</td>\n",
       "    </tr>\n",
       "    <tr>\n",
       "      <th>10407</th>\n",
       "      <td>62_sample_4_5</td>\n",
       "      <td>148</td>\n",
       "      <td>14</td>\n",
       "    </tr>\n",
       "    <tr>\n",
       "      <th>10408</th>\n",
       "      <td>5_sample_4_6</td>\n",
       "      <td>8</td>\n",
       "      <td>12</td>\n",
       "    </tr>\n",
       "    <tr>\n",
       "      <th>10409</th>\n",
       "      <td>58_sample_2_8</td>\n",
       "      <td>221</td>\n",
       "      <td>225</td>\n",
       "    </tr>\n",
       "  </tbody>\n",
       "</table>\n",
       "<p>10410 rows × 3 columns</p>\n",
       "</div>"
      ],
      "text/plain": [
       "               sample actual predicted\n",
       "0      341_sample_2_6     88        14\n",
       "1      223_sample_2_3      1       166\n",
       "2      237_sample_5_1    136        14\n",
       "3      319_sample_0_8      2        14\n",
       "4      151_sample_2_7    147         4\n",
       "...               ...    ...       ...\n",
       "10405  167_sample_2_3    220       225\n",
       "10406  341_sample_0_0    109       225\n",
       "10407   62_sample_4_5    148        14\n",
       "10408    5_sample_4_6      8        12\n",
       "10409   58_sample_2_8    221       225\n",
       "\n",
       "[10410 rows x 3 columns]"
      ]
     },
     "execution_count": 57,
     "metadata": {},
     "output_type": "execute_result"
    }
   ],
   "source": [
    "errors_df"
   ]
  },
  {
   "cell_type": "code",
   "execution_count": 58,
   "metadata": {},
   "outputs": [
    {
     "data": {
      "text/plain": [
       "array(['88', '1', '136', '2', ..., '73', '120', '163', '35'], dtype=object)"
      ]
     },
     "execution_count": 58,
     "metadata": {},
     "output_type": "execute_result"
    }
   ],
   "source": [
    "errors_df['actual'].unique()"
   ]
  },
  {
   "cell_type": "code",
   "execution_count": 76,
   "metadata": {},
   "outputs": [
    {
     "data": {
      "text/html": [
       "<div>\n",
       "<style scoped>\n",
       "    .dataframe tbody tr th:only-of-type {\n",
       "        vertical-align: middle;\n",
       "    }\n",
       "\n",
       "    .dataframe tbody tr th {\n",
       "        vertical-align: top;\n",
       "    }\n",
       "\n",
       "    .dataframe thead th {\n",
       "        text-align: right;\n",
       "    }\n",
       "</style>\n",
       "<table border=\"1\" class=\"dataframe\">\n",
       "  <thead>\n",
       "    <tr style=\"text-align: right;\">\n",
       "      <th></th>\n",
       "      <th>sample</th>\n",
       "      <th>predicted</th>\n",
       "    </tr>\n",
       "    <tr>\n",
       "      <th>actual</th>\n",
       "      <th></th>\n",
       "      <th></th>\n",
       "    </tr>\n",
       "  </thead>\n",
       "  <tbody>\n",
       "    <tr>\n",
       "      <th>15</th>\n",
       "      <td>559</td>\n",
       "      <td>559</td>\n",
       "    </tr>\n",
       "    <tr>\n",
       "      <th>1</th>\n",
       "      <td>539</td>\n",
       "      <td>539</td>\n",
       "    </tr>\n",
       "    <tr>\n",
       "      <th>2</th>\n",
       "      <td>521</td>\n",
       "      <td>521</td>\n",
       "    </tr>\n",
       "    <tr>\n",
       "      <th>62</th>\n",
       "      <td>478</td>\n",
       "      <td>478</td>\n",
       "    </tr>\n",
       "    <tr>\n",
       "      <th>12</th>\n",
       "      <td>390</td>\n",
       "      <td>390</td>\n",
       "    </tr>\n",
       "    <tr>\n",
       "      <th>...</th>\n",
       "      <td>...</td>\n",
       "      <td>...</td>\n",
       "    </tr>\n",
       "    <tr>\n",
       "      <th>157</th>\n",
       "      <td>10</td>\n",
       "      <td>10</td>\n",
       "    </tr>\n",
       "    <tr>\n",
       "      <th>56</th>\n",
       "      <td>10</td>\n",
       "      <td>10</td>\n",
       "    </tr>\n",
       "    <tr>\n",
       "      <th>155</th>\n",
       "      <td>10</td>\n",
       "      <td>10</td>\n",
       "    </tr>\n",
       "    <tr>\n",
       "      <th>48</th>\n",
       "      <td>10</td>\n",
       "      <td>10</td>\n",
       "    </tr>\n",
       "    <tr>\n",
       "      <th>47</th>\n",
       "      <td>9</td>\n",
       "      <td>9</td>\n",
       "    </tr>\n",
       "  </tbody>\n",
       "</table>\n",
       "<p>141 rows × 2 columns</p>\n",
       "</div>"
      ],
      "text/plain": [
       "        sample  predicted\n",
       "actual                   \n",
       "15         559        559\n",
       "1          539        539\n",
       "2          521        521\n",
       "62         478        478\n",
       "12         390        390\n",
       "...        ...        ...\n",
       "157         10         10\n",
       "56          10         10\n",
       "155         10         10\n",
       "48          10         10\n",
       "47           9          9\n",
       "\n",
       "[141 rows x 2 columns]"
      ]
     },
     "execution_count": 76,
     "metadata": {},
     "output_type": "execute_result"
    }
   ],
   "source": [
    "errors_df.groupby('actual').count().sort_values('sample', ascending=False)"
   ]
  },
  {
   "cell_type": "code",
   "execution_count": 73,
   "metadata": {},
   "outputs": [
    {
     "data": {
      "text/plain": [
       "<matplotlib.axes._subplots.AxesSubplot at 0x7f271c03b240>"
      ]
     },
     "execution_count": 73,
     "metadata": {},
     "output_type": "execute_result"
    },
    {
     "data": {
      "image/png": "[encoded data removed]",
      "text/plain": [
       "<Figure size 432x288 with 1 Axes>"
      ]
     },
     "metadata": {
      "needs_background": "light"
     },
     "output_type": "display_data"
    }
   ],
   "source": [
    "errors_df.groupby(['actual', 'predicted']).count().sort_values('sample', ascending=False).cumsum().plot()"
   ]
  },
  {
   "cell_type": "code",
   "execution_count": 66,
   "metadata": {},
   "outputs": [
    {
     "data": {
      "text/html": [
       "<div>\n",
       "<style scoped>\n",
       "    .dataframe tbody tr th:only-of-type {\n",
       "        vertical-align: middle;\n",
       "    }\n",
       "\n",
       "    .dataframe tbody tr th {\n",
       "        vertical-align: top;\n",
       "    }\n",
       "\n",
       "    .dataframe thead th {\n",
       "        text-align: right;\n",
       "    }\n",
       "</style>\n",
       "<table border=\"1\" class=\"dataframe\">\n",
       "  <thead>\n",
       "    <tr style=\"text-align: right;\">\n",
       "      <th></th>\n",
       "      <th></th>\n",
       "      <th>sample</th>\n",
       "    </tr>\n",
       "    <tr>\n",
       "      <th>actual</th>\n",
       "      <th>predicted</th>\n",
       "      <th></th>\n",
       "    </tr>\n",
       "  </thead>\n",
       "  <tbody>\n",
       "    <tr>\n",
       "      <th>15</th>\n",
       "      <th>14</th>\n",
       "      <td>243</td>\n",
       "    </tr>\n",
       "    <tr>\n",
       "      <th>221</th>\n",
       "      <th>225</th>\n",
       "      <td>215</td>\n",
       "    </tr>\n",
       "    <tr>\n",
       "      <th>227</th>\n",
       "      <th>225</th>\n",
       "      <td>179</td>\n",
       "    </tr>\n",
       "    <tr>\n",
       "      <th>216</th>\n",
       "      <th>225</th>\n",
       "      <td>176</td>\n",
       "    </tr>\n",
       "    <tr>\n",
       "      <th>2</th>\n",
       "      <th>14</th>\n",
       "      <td>174</td>\n",
       "    </tr>\n",
       "    <tr>\n",
       "      <th>...</th>\n",
       "      <th>...</th>\n",
       "      <td>...</td>\n",
       "    </tr>\n",
       "    <tr>\n",
       "      <th>38</th>\n",
       "      <th>194</th>\n",
       "      <td>1</td>\n",
       "    </tr>\n",
       "    <tr>\n",
       "      <th>186</th>\n",
       "      <th>14</th>\n",
       "      <td>1</td>\n",
       "    </tr>\n",
       "    <tr>\n",
       "      <th>38</th>\n",
       "      <th>191</th>\n",
       "      <td>1</td>\n",
       "    </tr>\n",
       "    <tr>\n",
       "      <th>113</th>\n",
       "      <th>57</th>\n",
       "      <td>1</td>\n",
       "    </tr>\n",
       "    <tr>\n",
       "      <th>44</th>\n",
       "      <th>166</th>\n",
       "      <td>1</td>\n",
       "    </tr>\n",
       "  </tbody>\n",
       "</table>\n",
       "<p>976 rows × 1 columns</p>\n",
       "</div>"
      ],
      "text/plain": [
       "                  sample\n",
       "actual predicted        \n",
       "15     14            243\n",
       "221    225           215\n",
       "227    225           179\n",
       "216    225           176\n",
       "2      14            174\n",
       "...                  ...\n",
       "38     194             1\n",
       "186    14              1\n",
       "38     191             1\n",
       "113    57              1\n",
       "44     166             1\n",
       "\n",
       "[976 rows x 1 columns]"
      ]
     },
     "execution_count": 66,
     "metadata": {},
     "output_type": "execute_result"
    }
   ],
   "source": [
    "errors_df.groupby(['actual', 'predicted']).count().sort_values('sample', ascending=False)"
   ]
  },
  {
   "cell_type": "code",
   "execution_count": 69,
   "metadata": {},
   "outputs": [
    {
     "name": "stdout",
     "output_type": "stream",
     "text": [
      "sample       243\n",
      "actual       243\n",
      "predicted    243\n",
      "dtype: int64\n",
      "sample       40\n",
      "actual       40\n",
      "predicted    40\n",
      "dtype: int64\n"
     ]
    }
   ],
   "source": [
    "print(errors_df[(errors_df['actual']=='15')&(errors_df['predicted']=='14')].count())\n",
    "print(errors_df[(errors_df['actual']=='14')&(errors_df['predicted']=='15')].count())"
   ]
  },
  {
   "cell_type": "code",
   "execution_count": 79,
   "metadata": {},
   "outputs": [
    {
     "name": "stderr",
     "output_type": "stream",
     "text": [
      "  0%|          | 0/4110 [00:00<?, ?it/s]\n"
     ]
    },
    {
     "ename": "AssertionError",
     "evalue": "",
     "output_type": "error",
     "traceback": [
      "\u001b[0;31m---------------------------------------------------------------------------\u001b[0m",
      "\u001b[0;31mAssertionError\u001b[0m                            Traceback (most recent call last)",
      "\u001b[0;32m<ipython-input-79-82de9ffa4990>\u001b[0m in \u001b[0;36m<module>\u001b[0;34m\u001b[0m\n\u001b[1;32m     27\u001b[0m         \u001b[0mout\u001b[0m \u001b[0;34m=\u001b[0m \u001b[0mmodel\u001b[0m\u001b[0;34m(\u001b[0m\u001b[0mtorch\u001b[0m\u001b[0;34m.\u001b[0m\u001b[0mstack\u001b[0m\u001b[0;34m(\u001b[0m\u001b[0mtensors\u001b[0m\u001b[0;34m)\u001b[0m\u001b[0;34m.\u001b[0m\u001b[0mcuda\u001b[0m\u001b[0;34m(\u001b[0m\u001b[0;34m)\u001b[0m\u001b[0;34m)\u001b[0m\u001b[0;34m\u001b[0m\u001b[0;34m\u001b[0m\u001b[0m\n\u001b[1;32m     28\u001b[0m         \u001b[0margmax\u001b[0m \u001b[0;34m=\u001b[0m \u001b[0mF\u001b[0m\u001b[0;34m.\u001b[0m\u001b[0msoftmax\u001b[0m\u001b[0;34m(\u001b[0m\u001b[0mout\u001b[0m\u001b[0;34m,\u001b[0m \u001b[0mdim\u001b[0m\u001b[0;34m=\u001b[0m\u001b[0;36m1\u001b[0m\u001b[0;34m)\u001b[0m\u001b[0;34m.\u001b[0m\u001b[0mmean\u001b[0m\u001b[0;34m(\u001b[0m\u001b[0mdim\u001b[0m\u001b[0;34m=\u001b[0m\u001b[0;36m0\u001b[0m\u001b[0;34m)\u001b[0m\u001b[0;34m.\u001b[0m\u001b[0margmax\u001b[0m\u001b[0;34m(\u001b[0m\u001b[0;34m)\u001b[0m\u001b[0;34m\u001b[0m\u001b[0;34m\u001b[0m\u001b[0m\n\u001b[0;32m---> 29\u001b[0;31m         \u001b[0;32massert\u001b[0m \u001b[0;32mFalse\u001b[0m\u001b[0;34m\u001b[0m\u001b[0;34m\u001b[0m\u001b[0m\n\u001b[0m",
      "\u001b[0;31mAssertionError\u001b[0m: "
     ]
    }
   ],
   "source": [
    "grouped_filenames = collections.defaultdict(list)\n",
    "group_to_spacegroup = {}\n",
    "\n",
    "for filename in img_path.glob('valid/*'):\n",
    "    sample, _, space_group, _ = filename.name.split('.')\n",
    "    grouped_filenames[sample].append(filename.name)\n",
    "    group_to_spacegroup[sample] = space_group\n",
    "\n",
    "grouped_filenames = dict(grouped_filenames)\n",
    "num_correct = 0\n",
    "\n",
    "\n",
    "\n",
    "for group, filenames in tqdm.tqdm(grouped_filenames.items()):\n",
    "    space_group = group_to_spacegroup[group]\n",
    "\n",
    "    images = []\n",
    "    for filename in filenames:\n",
    "        fullpath = str(img_path/'valid'/filename)\n",
    "        images.append(PIL.Image.open(fullpath).convert('L'))\n",
    "\n",
    "    tensors = []\n",
    "    for img in images:\n",
    "        for angle in range(0, 360, 5):\n",
    "            tensors.append(pipeline._make_tensor_for_test(img, angle))\n",
    "\n",
    "    model.eval()\n",
    "    with torch.no_grad():\n",
    "        out = model(torch.stack(tensors).cuda())\n",
    "        argmax = F.softmax(out, dim=1).mean(dim=0).argmax()\n",
    "        assert False"
   ]
  },
  {
   "cell_type": "code",
   "execution_count": 81,
   "metadata": {},
   "outputs": [
    {
     "data": {
      "text/plain": [
       "torch.Size([216, 200])"
      ]
     },
     "execution_count": 81,
     "metadata": {},
     "output_type": "execute_result"
    }
   ],
   "source": [
    "out.shape"
   ]
  },
  {
   "cell_type": "code",
   "execution_count": 100,
   "metadata": {},
   "outputs": [
    {
     "data": {
      "text/plain": [
       "(['341_sample_2_6.0.88.png',\n",
       "  '341_sample_2_6.1.88.png',\n",
       "  '341_sample_2_6.2.88.png'],\n",
       " '88')"
      ]
     },
     "execution_count": 100,
     "metadata": {},
     "output_type": "execute_result"
    }
   ],
   "source": [
    "filenames, space_group"
   ]
  },
  {
   "cell_type": "code",
   "execution_count": 112,
   "metadata": {},
   "outputs": [
    {
     "data": {
      "text/plain": [
       "torch.return_types.topk(\n",
       "values=tensor([0.0656, 0.0526, 0.0443, 0.0424, 0.0411], device='cuda:0'),\n",
       "indices=tensor([154,  72, 189,  10,  82], device='cuda:0'))"
      ]
     },
     "execution_count": 112,
     "metadata": {},
     "output_type": "execute_result"
    }
   ],
   "source": [
    "F.softmax(out, dim=1).mean(dim=0).topk(k=5)"
   ]
  },
  {
   "cell_type": "code",
   "execution_count": 113,
   "metadata": {},
   "outputs": [
    {
     "data": {
      "text/plain": [
       "tensor(154, device='cuda:0')"
      ]
     },
     "execution_count": 113,
     "metadata": {},
     "output_type": "execute_result"
    }
   ],
   "source": [
    "F.softmax(out, dim=1).mean(dim=0).argmax()"
   ]
  },
  {
   "cell_type": "code",
   "execution_count": 105,
   "metadata": {},
   "outputs": [
    {
     "name": "stderr",
     "output_type": "stream",
     "text": [
      "/home/jin/sandbox/smc_challenge2/smc_env/lib/python3.7/site-packages/ipykernel_launcher.py:1: UserWarning: Implicit dimension choice for softmax has been deprecated. Change the call to include dim=X as an argument.\n",
      "  \"\"\"Entry point for launching an IPython kernel.\n"
     ]
    },
    {
     "data": {
      "text/plain": [
       "tensor([0.0083, 0.0095, 0.0027, 0.0135, 0.0041, 0.0063, 0.0003, 0.0051, 0.0031,\n",
       "        0.0049, 0.0200, 0.0084, 0.0013, 0.0035, 0.0012, 0.0176, 0.0052, 0.0024,\n",
       "        0.0085, 0.0008, 0.0020, 0.0091, 0.0065, 0.0047, 0.0052, 0.0049, 0.0020,\n",
       "        0.0059, 0.0038, 0.0153, 0.0023, 0.0005, 0.0019, 0.0013, 0.0016, 0.0013,\n",
       "        0.0057, 0.0148, 0.0026, 0.0038, 0.0013, 0.0016, 0.0035, 0.0045, 0.0076,\n",
       "        0.0053, 0.0034, 0.0026, 0.0006, 0.0012, 0.0016, 0.0038, 0.0014, 0.0022,\n",
       "        0.0018, 0.0015, 0.0117, 0.0025, 0.0056, 0.0007, 0.0020, 0.0007, 0.0010,\n",
       "        0.0073, 0.0043, 0.0103, 0.0013, 0.0008, 0.0029, 0.0012, 0.0082, 0.0008,\n",
       "        0.0235, 0.0009, 0.0019, 0.0100, 0.0022, 0.0119, 0.0007, 0.0006, 0.0039,\n",
       "        0.0023, 0.0189, 0.0014, 0.0161, 0.0095, 0.0044, 0.0052, 0.0016, 0.0006,\n",
       "        0.0015, 0.0054, 0.0113, 0.0009, 0.0025, 0.0029, 0.0031, 0.0055, 0.0019,\n",
       "        0.0037, 0.0008, 0.0100, 0.0027, 0.0024, 0.0036, 0.0014, 0.0024, 0.0019,\n",
       "        0.0087, 0.0013, 0.0021, 0.0033, 0.0102, 0.0021, 0.0012, 0.0058, 0.0165,\n",
       "        0.0014, 0.0035, 0.0036, 0.0007, 0.0112, 0.0021, 0.0005, 0.0038, 0.0034,\n",
       "        0.0110, 0.0020, 0.0032, 0.0029, 0.0013, 0.0021, 0.0034, 0.0012, 0.0098,\n",
       "        0.0076, 0.0026, 0.0035, 0.0035, 0.0014, 0.0006, 0.0120, 0.0061, 0.0096,\n",
       "        0.0014, 0.0165, 0.0051, 0.0172, 0.0011, 0.0074, 0.0083, 0.0020, 0.0037,\n",
       "        0.0031, 0.0251, 0.0024, 0.0091, 0.0015, 0.0008, 0.0086, 0.0055, 0.0037,\n",
       "        0.0076, 0.0087, 0.0096, 0.0082, 0.0022, 0.0039, 0.0105, 0.0071, 0.0009,\n",
       "        0.0106, 0.0047, 0.0067, 0.0022, 0.0029, 0.0019, 0.0013, 0.0043, 0.0041,\n",
       "        0.0041, 0.0017, 0.0039, 0.0096, 0.0024, 0.0004, 0.0191, 0.0023, 0.0055,\n",
       "        0.0198, 0.0015, 0.0019, 0.0026, 0.0018, 0.0063, 0.0026, 0.0011, 0.0063,\n",
       "        0.0029, 0.0125], device='cuda:0')"
      ]
     },
     "execution_count": 105,
     "metadata": {},
     "output_type": "execute_result"
    }
   ],
   "source": [
    "F.softmax(out[0])"
   ]
  },
  {
   "cell_type": "code",
   "execution_count": 111,
   "metadata": {},
   "outputs": [
    {
     "name": "stdout",
     "output_type": "stream",
     "text": [
      "torch.return_types.topk(\n",
      "values=tensor([0.0656, 0.0526, 0.0443, 0.0424, 0.0411, 0.0389, 0.0328, 0.0271, 0.0263,\n",
      "        0.0212, 0.0200, 0.0176, 0.0141, 0.0117, 0.0106, 0.0099, 0.0099, 0.0092,\n",
      "        0.0091, 0.0087, 0.0085, 0.0081, 0.0075, 0.0075, 0.0073, 0.0072, 0.0071,\n",
      "        0.0071, 0.0069, 0.0068], device='cuda:0'),\n",
      "indices=tensor([154,  72, 189,  10,  82, 186,  15, 147, 116,  84,  37, 145,  29,   3,\n",
      "         56, 141, 199, 126, 121,  92,  77, 171,  75,  65, 183, 168,  85, 112,\n",
      "        143, 101], device='cuda:0'))\n",
      "100 6.5595\n",
      "130 5.262\n",
      "103 4.4315\n",
      "221 4.2381\n",
      "60  4.1113\n",
      "116 3.8871\n",
      "62  3.2785\n",
      "159 2.7071\n",
      "83  2.6283\n",
      "187 2.1177\n",
      "20  2.0008\n",
      "66  1.7563\n",
      "58  1.4148\n",
      "167 1.1682\n",
      "161 1.0562\n",
      "110 0.9929\n",
      "108 0.9901\n",
      "3   0.9228\n",
      "126 0.9137\n",
      "69  0.8653\n",
      "155 0.8459\n",
      "102 0.8069\n",
      "164 0.7531\n",
      "113 0.7473\n",
      "111 0.7273\n",
      "181 0.7183\n",
      "149 0.7121\n",
      "220 0.7067\n",
      "182 0.6897\n",
      "109 0.6787\n"
     ]
    }
   ],
   "source": [
    "topk = F.softmax(out, dim=1).mean(dim=0).topk(k=30)\n",
    "print(topk)\n",
    "\n",
    "for idx, val in zip(topk.indices, topk.values):\n",
    "    label = cbed_data_loader.label_manager.raw_labels[idx]\n",
    "    \n",
    "    print(f\"{label:3s}\", round(100*val.item(), 4))"
   ]
  },
  {
   "cell_type": "code",
   "execution_count": 93,
   "metadata": {},
   "outputs": [
    {
     "data": {
      "text/plain": [
       "'100'"
      ]
     },
     "execution_count": 93,
     "metadata": {},
     "output_type": "execute_result"
    }
   ],
   "source": [
    "cbed_data_loader.label_manager.raw_labels[154]"
   ]
  },
  {
   "cell_type": "code",
   "execution_count": 123,
   "metadata": {},
   "outputs": [],
   "source": [
    "pipeline.ModelOptBuf().load(model, opt, '/tmp/dropout_cutout4')"
   ]
  },
  {
   "cell_type": "code",
   "execution_count": 134,
   "metadata": {},
   "outputs": [
    {
     "name": "stderr",
     "output_type": "stream",
     "text": [
      "  0%|          | 10/20400 [00:01<1:07:00,  5.07it/s]\n"
     ]
    },
    {
     "name": "stdout",
     "output_type": "stream",
     "text": [
      "6 20400\n"
     ]
    }
   ],
   "source": [
    "outcomes = pipeline.test_validation_set(img_path, model, cbed_data_loader.label_manager)"
   ]
  },
  {
   "cell_type": "code",
   "execution_count": 135,
   "metadata": {},
   "outputs": [
    {
     "name": "stdout",
     "output_type": "stream",
     "text": [
      "PredictionOutcome(sample='341_sample_2_6', actual='88', predicted='14', topk_values=[-4.3986029624938965, -4.927013874053955, -4.945870399475098, -5.079024791717529, -5.081502437591553], topk_cats=['14', '225', '2', '5', '15'])\n",
      "PredictionOutcome(sample='223_sample_2_3', actual='1', predicted='166', topk_values=[-4.496982097625732, -4.70926570892334, -5.016360282897949, -5.083792209625244, -5.120553016662598], topk_cats=['166', '14', '63', '139', '225'])\n",
      "PredictionOutcome(sample='237_sample_5_1', actual='136', predicted='14', topk_values=[-4.7234416007995605, -4.913516044616699, -5.086152076721191, -5.108957290649414, -5.123511791229248], topk_cats=['14', '136', '62', '1', '2'])\n",
      "PredictionOutcome(sample='319_sample_0_8', actual='2', predicted='14', topk_values=[-4.539793968200684, -4.578898906707764, -4.846573352813721, -5.014871120452881, -5.137719631195068], topk_cats=['14', '2', '1', '139', '166'])\n",
      "PredictionOutcome(sample='151_sample_2_7', actual='147', predicted='4', topk_values=[-4.907224178314209, -5.024603843688965, -5.046874046325684, -5.124265193939209, -5.136508464813232], topk_cats=['4', '186', '162', '62', '164'])\n"
     ]
    }
   ],
   "source": [
    "for outcome in outcomes:\n",
    "    if outcome.actual == outcome.predicted: continue\n",
    "    \n",
    "    print(outcome)"
   ]
  },
  {
   "cell_type": "code",
   "execution_count": 131,
   "metadata": {},
   "outputs": [
    {
     "data": {
      "text/plain": [
       "[PredictionOutcome(sample='83_sample_2_5', actual='198', predicted='198', topk_values=[0.026920711621642113, 0.007386916782706976, 0.005507403519004583, 0.005405521485954523, 0.005327933933585882], topk_cats=['198', '19', '14', '176', '139']),\n",
       " PredictionOutcome(sample='346_sample_6_5', actual='2', predicted='2', topk_values=[0.01503811776638031, 0.00787915475666523, 0.006932166870683432, 0.006700919941067696, 0.006496070418506861], topk_cats=['2', '225', '12', '221', '139']),\n",
       " PredictionOutcome(sample='341_sample_2_6', actual='88', predicted='14', topk_values=[0.015285809524357319, 0.008213683031499386, 0.007559382356703281, 0.00642734207212925, 0.0062938774935901165], topk_cats=['14', '225', '2', '5', '15']),\n",
       " PredictionOutcome(sample='156_sample_3_8', actual='141', predicted='141', topk_values=[0.028526153415441513, 0.0064929574728012085, 0.0055015431717038155, 0.005474638193845749, 0.005358243361115456], topk_cats=['141', '148', '1', '70', '166']),\n",
       " PredictionOutcome(sample='321_sample_0_4', actual='14', predicted='14', topk_values=[0.016126390546560287, 0.008628981187939644, 0.008075489662587643, 0.007850880734622478, 0.006847413256764412], topk_cats=['14', '15', '12', '11', '2'])]"
      ]
     },
     "execution_count": 131,
     "metadata": {},
     "output_type": "execute_result"
    }
   ],
   "source": [
    "outcomes[:5]"
   ]
  },
  {
   "cell_type": "code",
   "execution_count": 132,
   "metadata": {},
   "outputs": [
    {
     "data": {
      "text/plain": [
       "PredictionOutcome(sample='341_sample_2_6', actual='88', predicted='14', topk_values=[0.015285809524357319, 0.008213683031499386, 0.007559382356703281, 0.00642734207212925, 0.0062938774935901165], topk_cats=['14', '225', '2', '5', '15'])"
      ]
     },
     "execution_count": 132,
     "metadata": {},
     "output_type": "execute_result"
    }
   ],
   "source": [
    "outcomes[2]"
   ]
  },
  {
   "cell_type": "code",
   "execution_count": 10,
   "metadata": {},
   "outputs": [
    {
     "data": {
      "text/plain": [
       "torch.Size([200])"
      ]
     },
     "execution_count": 10,
     "metadata": {},
     "output_type": "execute_result"
    }
   ],
   "source": [
    "out.mean(dim=0).shape"
   ]
  },
  {
   "cell_type": "code",
   "execution_count": 12,
   "metadata": {},
   "outputs": [
    {
     "data": {
      "text/plain": [
       "tensor(51, device='cuda:0')"
      ]
     },
     "execution_count": 12,
     "metadata": {},
     "output_type": "execute_result"
    }
   ],
   "source": [
    "out.mean(dim=0).argmax()"
   ]
  },
  {
   "cell_type": "code",
   "execution_count": null,
   "metadata": {},
   "outputs": [],
   "source": [
    "F.softmax(out."
   ]
  },
  {
   "cell_type": "code",
   "execution_count": 30,
   "metadata": {},
   "outputs": [
    {
     "data": {
      "text/plain": [
       "0"
      ]
     },
     "execution_count": 30,
     "metadata": {},
     "output_type": "execute_result"
    }
   ],
   "source": [
    "q.qsize()"
   ]
  },
  {
   "cell_type": "code",
   "execution_count": 17,
   "metadata": {},
   "outputs": [],
   "source": [
    "q = torch.multiprocessing.Queue()"
   ]
  },
  {
   "cell_type": "code",
   "execution_count": 21,
   "metadata": {},
   "outputs": [],
   "source": [
    "q.put(\"bar\")"
   ]
  },
  {
   "cell_type": "code",
   "execution_count": 9,
   "metadata": {},
   "outputs": [
    {
     "data": {
      "text/plain": [
       "216"
      ]
     },
     "execution_count": 9,
     "metadata": {},
     "output_type": "execute_result"
    }
   ],
   "source": [
    "len(tensors)"
   ]
  },
  {
   "cell_type": "code",
   "execution_count": 2,
   "metadata": {},
   "outputs": [
    {
     "name": "stderr",
     "output_type": "stream",
     "text": [
      "100%|██████████| 5/5 [08:17<00:00, 99.40s/it]\n"
     ]
    }
   ],
   "source": [
    "img_path = path2/'img11'\n",
    "    \n",
    "cbed_data_loader = pipeline.CbedDataLoader(img_path)\n",
    "tbw = torch.utils.tensorboard.SummaryWriter(comment='__img11_6')\n",
    "\n",
    "num_classes = len(cbed_data_loader.label_manager.raw_labels)\n",
    "\n",
    "model = pipeline.make_cnn_model(\n",
    "    base_arch=fastai.vision.models.resnet18,\n",
    "    num_classes=num_classes,\n",
    "    pretrained=False\n",
    ").cuda()\n",
    "\n",
    "lr = 3e-2\n",
    "opt = pipeline.LambOptimizer(model.parameters(), lr=lr)\n",
    "\n",
    "learner = pipeline.Learner(\n",
    "    model,\n",
    "    F.cross_entropy,\n",
    "    opt,\n",
    "    tbw,\n",
    "    cbed_data_loader.train_loader,\n",
    "    cbed_data_loader.valid_loader,\n",
    ")\n",
    "learner.train_model(5, lr)"
   ]
  },
  {
   "cell_type": "code",
   "execution_count": 3,
   "metadata": {},
   "outputs": [],
   "source": [
    "buf0 = pipeline.save_to_buf(model, opt)"
   ]
  },
  {
   "cell_type": "code",
   "execution_count": 10,
   "metadata": {},
   "outputs": [
    {
     "name": "stderr",
     "output_type": "stream",
     "text": [
      "100%|██████████| 10/10 [13:29<00:00, 80.91s/it]\n"
     ]
    }
   ],
   "source": [
    "pipeline.load_from_buf(buf0, model, opt)\n",
    "\n",
    "lr = 1e-2\n",
    "opt = pipeline.LambOptimizer(model.parameters(), lr=lr)\n",
    "\n",
    "learner.train_model(10, lr)\n",
    "\n",
    "buf1 = pipeline.save_to_buf(model, opt)"
   ]
  },
  {
   "cell_type": "code",
   "execution_count": null,
   "metadata": {},
   "outputs": [],
   "source": []
  },
  {
   "cell_type": "code",
   "execution_count": 24,
   "metadata": {},
   "outputs": [
    {
     "name": "stderr",
     "output_type": "stream",
     "text": [
      "100%|██████████| 5/5 [08:17<00:00, 99.41s/it]\n"
     ]
    }
   ],
   "source": [
    "pipeline.load_from_buf(buf1, model, opt)\n",
    "\n",
    "lr = 1e-2\n",
    "opt = pipeline.LambOptimizer(model.parameters(), lr=lr)\n",
    "\n",
    "learner.train_model(5, lr)\n",
    "\n",
    "buf2 = pipeline.save_to_buf(model, opt)"
   ]
  },
  {
   "cell_type": "code",
   "execution_count": 14,
   "metadata": {},
   "outputs": [
    {
     "data": {
      "text/plain": [
       "0.03"
      ]
     },
     "execution_count": 14,
     "metadata": {},
     "output_type": "execute_result"
    }
   ],
   "source": [
    "opt.lr"
   ]
  },
  {
   "cell_type": "code",
   "execution_count": 4,
   "metadata": {},
   "outputs": [
    {
     "data": {
      "text/plain": [
       "1254580"
      ]
     },
     "execution_count": 4,
     "metadata": {},
     "output_type": "execute_result"
    }
   ],
   "source": [
    "_model = make_resnet18_1chan()\n",
    "sum(p.numel() for p in _model.parameters() if p.requires_grad)"
   ]
  },
  {
   "cell_type": "code",
   "execution_count": 5,
   "metadata": {},
   "outputs": [
    {
     "data": {
      "text/plain": [
       "11689512"
      ]
     },
     "execution_count": 5,
     "metadata": {},
     "output_type": "execute_result"
    }
   ],
   "source": [
    "_model = fastai.vision.models.resnet18()\n",
    "sum(p.numel() for p in _model.parameters() if p.requires_grad)"
   ]
  },
  {
   "cell_type": "code",
   "execution_count": 2,
   "metadata": {},
   "outputs": [
    {
     "name": "stderr",
     "output_type": "stream",
     "text": [
      "444018it [01:39, 4452.02it/s]\n",
      "61200it [00:13, 4471.62it/s]\n"
     ]
    }
   ],
   "source": [
    "img_path = path2/'img9'\n",
    "\n",
    "cbed_data_loader = pipeline.CbedDataLoader(\n",
    "    img_path, batch_size=700, chans='L')"
   ]
  },
  {
   "cell_type": "code",
   "execution_count": 3,
   "metadata": {},
   "outputs": [
    {
     "data": {
      "application/vnd.jupyter.widget-view+json": {
       "model_id": "7ca8febf4f194a2d8dfce29433e5c24a",
       "version_major": 2,
       "version_minor": 0
      },
      "text/plain": [
       "HBox(children=(FloatProgress(value=0.0), HTML(value='')))"
      ]
     },
     "metadata": {},
     "output_type": "display_data"
    },
    {
     "name": "stdout",
     "output_type": "stream",
     "text": [
      "Stopping early, the loss has diverged\n",
      "\n",
      "Learning rate search finished. See the graph with {finder_name}.plot()\n"
     ]
    },
    {
     "data": {
      "image/png": "[encoded data removed]",
      "text/plain": [
       "<Figure size 432x288 with 1 Axes>"
      ]
     },
     "metadata": {
      "needs_background": "light"
     },
     "output_type": "display_data"
    }
   ],
   "source": [
    "num_classes = len(cbed_data_loader.label_manager.raw_labels)\n",
    "\n",
    "model = pipeline.make_cnn_model1d_flat(\n",
    "    base_arch=pipeline.make_resnet50_1chan,\n",
    "    num_classes=num_classes,\n",
    "    pretrained=False\n",
    ").cuda()\n",
    "# pipeline.freeze_body(model)\n",
    "\n",
    "criterion = torch.nn.CrossEntropyLoss()\n",
    "\n",
    "# opt = pipeline.Lamb2(model.parameters(), lr=1e-7, wd=0.01)\n",
    "# opt = apex.optimizers.FusedLAMB(model.parameters(), lr=1e-7)\n",
    "\n",
    "opt = pipeline.Lamb2(model.parameters(), lr=1e-7, weight_decay=1e-2)\n",
    "lr_finder = torch_lr_finder.LRFinder(model, opt, criterion, device=\"cuda\")\n",
    "lr_finder.range_test(cbed_data_loader.train_loader, end_lr=100, num_iter=100)\n",
    "lr_finder.plot() # to inspect the loss-learning rate graph\n",
    "lr_finder.reset() # to reset the model and optimizer to their initial state"
   ]
  },
  {
   "cell_type": "code",
   "execution_count": 16,
   "metadata": {},
   "outputs": [],
   "source": [
    "num_classes = 200"
   ]
  },
  {
   "cell_type": "code",
   "execution_count": 17,
   "metadata": {},
   "outputs": [
    {
     "data": {
      "application/vnd.jupyter.widget-view+json": {
       "model_id": "808ca6ccb3314eaa97b190bdbd648ac0",
       "version_major": 2,
       "version_minor": 0
      },
      "text/plain": [
       "HBox(children=(FloatProgress(value=0.0), HTML(value='')))"
      ]
     },
     "metadata": {},
     "output_type": "display_data"
    },
    {
     "name": "stdout",
     "output_type": "stream",
     "text": [
      "Stopping early, the loss has diverged\n",
      "\n",
      "Learning rate search finished. See the graph with {finder_name}.plot()\n"
     ]
    },
    {
     "data": {
      "image/png": "[encoded data removed]",
      "text/plain": [
       "<Figure size 432x288 with 1 Axes>"
      ]
     },
     "metadata": {
      "needs_background": "light"
     },
     "output_type": "display_data"
    }
   ],
   "source": [
    "img_path = path2/'img9'\n",
    "\n",
    "# cbed_data_loader = pipeline.CbedDataLoader(img_path, chans='L')\n",
    "\n",
    "# criterion = torch.nn.CrossEntropyLoss()\n",
    "model = pipeline.make_resnet34_1chan(\n",
    "        pretrained=False,\n",
    "        num_classes=num_classes,\n",
    "        dropout=0.25,\n",
    "    ).cuda()\n",
    "\n",
    "opt2 = pipeline.Lamb2(model.parameters(), lr=1e-7, weight_decay=0.01)\n",
    "criterion = pipeline.LabelSmoothingCrossEntropy(eps=0.1)\n",
    "\n",
    "lr_finder = torch_lr_finder.LRFinder(model, opt2, criterion, device=\"cuda\")\n",
    "lr_finder.range_test(cbed_data_loader.train_loader, end_lr=100, num_iter=100, diverge_th=1.5)\n",
    "lr_finder.plot() # to inspect the loss-learning rate graph\n",
    "lr_finder.reset() # to reset the model and optimizer to their initial state"
   ]
  },
  {
   "cell_type": "code",
   "execution_count": 18,
   "metadata": {},
   "outputs": [
    {
     "data": {
      "application/vnd.jupyter.widget-view+json": {
       "model_id": "9c836025efb84b68b688e3685bfa6dc0",
       "version_major": 2,
       "version_minor": 0
      },
      "text/plain": [
       "HBox(children=(FloatProgress(value=0.0), HTML(value='')))"
      ]
     },
     "metadata": {},
     "output_type": "display_data"
    },
    {
     "name": "stdout",
     "output_type": "stream",
     "text": [
      "Stopping early, the loss has diverged\n",
      "\n",
      "Learning rate search finished. See the graph with {finder_name}.plot()\n"
     ]
    },
    {
     "data": {
      "image/png": "[encoded data removed]",
      "text/plain": [
       "<Figure size 432x288 with 1 Axes>"
      ]
     },
     "metadata": {
      "needs_background": "light"
     },
     "output_type": "display_data"
    }
   ],
   "source": [
    "img_path = path2/'img9'\n",
    "\n",
    "# cbed_data_loader = pipeline.CbedDataLoader(img_path, chans='L')\n",
    "\n",
    "# criterion = torch.nn.CrossEntropyLoss()\n",
    "model = pipeline.make_resnet34_1chan(\n",
    "        pretrained=False,\n",
    "        num_classes=num_classes,\n",
    "        dropout=0.25,\n",
    "    ).cuda()\n",
    "\n",
    "opt2 = pipeline.Lamb2(model.parameters(), lr=1e-7, weight_decay=0.01)\n",
    "criterion = pipeline.LabelSmoothingCrossEntropy(eps=0.05)\n",
    "\n",
    "lr_finder = torch_lr_finder.LRFinder(model, opt2, criterion, device=\"cuda\")\n",
    "lr_finder.range_test(cbed_data_loader.train_loader, end_lr=100, num_iter=100, diverge_th=1.5)\n",
    "lr_finder.plot() # to inspect the loss-learning rate graph\n",
    "lr_finder.reset() # to reset the model and optimizer to their initial state"
   ]
  },
  {
   "cell_type": "code",
   "execution_count": 17,
   "metadata": {},
   "outputs": [
    {
     "data": {
      "application/vnd.jupyter.widget-view+json": {
       "model_id": "a9fa39b7c03a4a288b664d887eb6fd0d",
       "version_major": 2,
       "version_minor": 0
      },
      "text/plain": [
       "HBox(children=(FloatProgress(value=0.0), HTML(value='')))"
      ]
     },
     "metadata": {},
     "output_type": "display_data"
    },
    {
     "name": "stdout",
     "output_type": "stream",
     "text": [
      "Stopping early, the loss has diverged\n",
      "\n",
      "Learning rate search finished. See the graph with {finder_name}.plot()\n"
     ]
    },
    {
     "data": {
      "image/png": "[encoded data removed]",
      "text/plain": [
       "<Figure size 432x288 with 1 Axes>"
      ]
     },
     "metadata": {
      "needs_background": "light"
     },
     "output_type": "display_data"
    }
   ],
   "source": [
    "img_path = path2/'img11'\n",
    "\n",
    "cbed_data_loader = pipeline.CbedDataLoader(img_path)\n",
    "\n",
    "criterion = torch.nn.CrossEntropyLoss()\n",
    "\n",
    "opt2 = pipeline.LambOptimizer(model.parameters(), lr=1e-7, wd=0.01)\n",
    "\n",
    "# optimizer = pipeline.Lamb2(model.parameters(), lr=1e-7, weight_decay=1e-2)\n",
    "lr_finder = torch_lr_finder.LRFinder(model, opt2, criterion, device=\"cuda\")\n",
    "lr_finder.range_test(cbed_data_loader.train_loader, end_lr=100, num_iter=100)\n",
    "lr_finder.plot() # to inspect the loss-learning rate graph\n",
    "lr_finder.reset() # to reset the model and optimizer to their initial state"
   ]
  },
  {
   "cell_type": "code",
   "execution_count": 6,
   "metadata": {},
   "outputs": [
    {
     "data": {
      "text/plain": [
       "ResNet1Chan(\n",
       "  (conv1): Conv2d(1, 20, kernel_size=(7, 7), stride=(2, 2), padding=(3, 3), bias=False)\n",
       "  (bn1): BatchNorm2d(20, eps=1e-05, momentum=0.1, affine=True, track_running_stats=True)\n",
       "  (relu): ReLU(inplace=True)\n",
       "  (maxpool): MaxPool2d(kernel_size=3, stride=2, padding=1, dilation=1, ceil_mode=False)\n",
       "  (layer1): Sequential(\n",
       "    (0): BasicBlock(\n",
       "      (conv1): Conv2d(20, 20, kernel_size=(3, 3), stride=(1, 1), padding=(1, 1), bias=False)\n",
       "      (bn1): BatchNorm2d(20, eps=1e-05, momentum=0.1, affine=True, track_running_stats=True)\n",
       "      (relu): ReLU(inplace=True)\n",
       "      (conv2): Conv2d(20, 20, kernel_size=(3, 3), stride=(1, 1), padding=(1, 1), bias=False)\n",
       "      (bn2): BatchNorm2d(20, eps=1e-05, momentum=0.1, affine=True, track_running_stats=True)\n",
       "    )\n",
       "    (1): BasicBlock(\n",
       "      (conv1): Conv2d(20, 20, kernel_size=(3, 3), stride=(1, 1), padding=(1, 1), bias=False)\n",
       "      (bn1): BatchNorm2d(20, eps=1e-05, momentum=0.1, affine=True, track_running_stats=True)\n",
       "      (relu): ReLU(inplace=True)\n",
       "      (conv2): Conv2d(20, 20, kernel_size=(3, 3), stride=(1, 1), padding=(1, 1), bias=False)\n",
       "      (bn2): BatchNorm2d(20, eps=1e-05, momentum=0.1, affine=True, track_running_stats=True)\n",
       "    )\n",
       "    (2): BasicBlock(\n",
       "      (conv1): Conv2d(20, 20, kernel_size=(3, 3), stride=(1, 1), padding=(1, 1), bias=False)\n",
       "      (bn1): BatchNorm2d(20, eps=1e-05, momentum=0.1, affine=True, track_running_stats=True)\n",
       "      (relu): ReLU(inplace=True)\n",
       "      (conv2): Conv2d(20, 20, kernel_size=(3, 3), stride=(1, 1), padding=(1, 1), bias=False)\n",
       "      (bn2): BatchNorm2d(20, eps=1e-05, momentum=0.1, affine=True, track_running_stats=True)\n",
       "    )\n",
       "  )\n",
       "  (layer2): Sequential(\n",
       "    (0): BasicBlock(\n",
       "      (conv1): Conv2d(20, 40, kernel_size=(3, 3), stride=(2, 2), padding=(1, 1), bias=False)\n",
       "      (bn1): BatchNorm2d(40, eps=1e-05, momentum=0.1, affine=True, track_running_stats=True)\n",
       "      (relu): ReLU(inplace=True)\n",
       "      (conv2): Conv2d(40, 40, kernel_size=(3, 3), stride=(1, 1), padding=(1, 1), bias=False)\n",
       "      (bn2): BatchNorm2d(40, eps=1e-05, momentum=0.1, affine=True, track_running_stats=True)\n",
       "      (downsample): Sequential(\n",
       "        (0): Conv2d(20, 40, kernel_size=(1, 1), stride=(2, 2), bias=False)\n",
       "        (1): BatchNorm2d(40, eps=1e-05, momentum=0.1, affine=True, track_running_stats=True)\n",
       "      )\n",
       "    )\n",
       "    (1): BasicBlock(\n",
       "      (conv1): Conv2d(40, 40, kernel_size=(3, 3), stride=(1, 1), padding=(1, 1), bias=False)\n",
       "      (bn1): BatchNorm2d(40, eps=1e-05, momentum=0.1, affine=True, track_running_stats=True)\n",
       "      (relu): ReLU(inplace=True)\n",
       "      (conv2): Conv2d(40, 40, kernel_size=(3, 3), stride=(1, 1), padding=(1, 1), bias=False)\n",
       "      (bn2): BatchNorm2d(40, eps=1e-05, momentum=0.1, affine=True, track_running_stats=True)\n",
       "    )\n",
       "    (2): BasicBlock(\n",
       "      (conv1): Conv2d(40, 40, kernel_size=(3, 3), stride=(1, 1), padding=(1, 1), bias=False)\n",
       "      (bn1): BatchNorm2d(40, eps=1e-05, momentum=0.1, affine=True, track_running_stats=True)\n",
       "      (relu): ReLU(inplace=True)\n",
       "      (conv2): Conv2d(40, 40, kernel_size=(3, 3), stride=(1, 1), padding=(1, 1), bias=False)\n",
       "      (bn2): BatchNorm2d(40, eps=1e-05, momentum=0.1, affine=True, track_running_stats=True)\n",
       "    )\n",
       "    (3): BasicBlock(\n",
       "      (conv1): Conv2d(40, 40, kernel_size=(3, 3), stride=(1, 1), padding=(1, 1), bias=False)\n",
       "      (bn1): BatchNorm2d(40, eps=1e-05, momentum=0.1, affine=True, track_running_stats=True)\n",
       "      (relu): ReLU(inplace=True)\n",
       "      (conv2): Conv2d(40, 40, kernel_size=(3, 3), stride=(1, 1), padding=(1, 1), bias=False)\n",
       "      (bn2): BatchNorm2d(40, eps=1e-05, momentum=0.1, affine=True, track_running_stats=True)\n",
       "    )\n",
       "  )\n",
       "  (layer3): Sequential(\n",
       "    (0): BasicBlock(\n",
       "      (conv1): Conv2d(40, 80, kernel_size=(3, 3), stride=(2, 2), padding=(1, 1), bias=False)\n",
       "      (bn1): BatchNorm2d(80, eps=1e-05, momentum=0.1, affine=True, track_running_stats=True)\n",
       "      (relu): ReLU(inplace=True)\n",
       "      (conv2): Conv2d(80, 80, kernel_size=(3, 3), stride=(1, 1), padding=(1, 1), bias=False)\n",
       "      (bn2): BatchNorm2d(80, eps=1e-05, momentum=0.1, affine=True, track_running_stats=True)\n",
       "      (downsample): Sequential(\n",
       "        (0): Conv2d(40, 80, kernel_size=(1, 1), stride=(2, 2), bias=False)\n",
       "        (1): BatchNorm2d(80, eps=1e-05, momentum=0.1, affine=True, track_running_stats=True)\n",
       "      )\n",
       "    )\n",
       "    (1): BasicBlock(\n",
       "      (conv1): Conv2d(80, 80, kernel_size=(3, 3), stride=(1, 1), padding=(1, 1), bias=False)\n",
       "      (bn1): BatchNorm2d(80, eps=1e-05, momentum=0.1, affine=True, track_running_stats=True)\n",
       "      (relu): ReLU(inplace=True)\n",
       "      (conv2): Conv2d(80, 80, kernel_size=(3, 3), stride=(1, 1), padding=(1, 1), bias=False)\n",
       "      (bn2): BatchNorm2d(80, eps=1e-05, momentum=0.1, affine=True, track_running_stats=True)\n",
       "    )\n",
       "    (2): BasicBlock(\n",
       "      (conv1): Conv2d(80, 80, kernel_size=(3, 3), stride=(1, 1), padding=(1, 1), bias=False)\n",
       "      (bn1): BatchNorm2d(80, eps=1e-05, momentum=0.1, affine=True, track_running_stats=True)\n",
       "      (relu): ReLU(inplace=True)\n",
       "      (conv2): Conv2d(80, 80, kernel_size=(3, 3), stride=(1, 1), padding=(1, 1), bias=False)\n",
       "      (bn2): BatchNorm2d(80, eps=1e-05, momentum=0.1, affine=True, track_running_stats=True)\n",
       "    )\n",
       "    (3): BasicBlock(\n",
       "      (conv1): Conv2d(80, 80, kernel_size=(3, 3), stride=(1, 1), padding=(1, 1), bias=False)\n",
       "      (bn1): BatchNorm2d(80, eps=1e-05, momentum=0.1, affine=True, track_running_stats=True)\n",
       "      (relu): ReLU(inplace=True)\n",
       "      (conv2): Conv2d(80, 80, kernel_size=(3, 3), stride=(1, 1), padding=(1, 1), bias=False)\n",
       "      (bn2): BatchNorm2d(80, eps=1e-05, momentum=0.1, affine=True, track_running_stats=True)\n",
       "    )\n",
       "    (4): BasicBlock(\n",
       "      (conv1): Conv2d(80, 80, kernel_size=(3, 3), stride=(1, 1), padding=(1, 1), bias=False)\n",
       "      (bn1): BatchNorm2d(80, eps=1e-05, momentum=0.1, affine=True, track_running_stats=True)\n",
       "      (relu): ReLU(inplace=True)\n",
       "      (conv2): Conv2d(80, 80, kernel_size=(3, 3), stride=(1, 1), padding=(1, 1), bias=False)\n",
       "      (bn2): BatchNorm2d(80, eps=1e-05, momentum=0.1, affine=True, track_running_stats=True)\n",
       "    )\n",
       "    (5): BasicBlock(\n",
       "      (conv1): Conv2d(80, 80, kernel_size=(3, 3), stride=(1, 1), padding=(1, 1), bias=False)\n",
       "      (bn1): BatchNorm2d(80, eps=1e-05, momentum=0.1, affine=True, track_running_stats=True)\n",
       "      (relu): ReLU(inplace=True)\n",
       "      (conv2): Conv2d(80, 80, kernel_size=(3, 3), stride=(1, 1), padding=(1, 1), bias=False)\n",
       "      (bn2): BatchNorm2d(80, eps=1e-05, momentum=0.1, affine=True, track_running_stats=True)\n",
       "    )\n",
       "  )\n",
       "  (layer4): Sequential(\n",
       "    (0): BasicBlock(\n",
       "      (conv1): Conv2d(80, 160, kernel_size=(3, 3), stride=(2, 2), padding=(1, 1), bias=False)\n",
       "      (bn1): BatchNorm2d(160, eps=1e-05, momentum=0.1, affine=True, track_running_stats=True)\n",
       "      (relu): ReLU(inplace=True)\n",
       "      (conv2): Conv2d(160, 160, kernel_size=(3, 3), stride=(1, 1), padding=(1, 1), bias=False)\n",
       "      (bn2): BatchNorm2d(160, eps=1e-05, momentum=0.1, affine=True, track_running_stats=True)\n",
       "      (downsample): Sequential(\n",
       "        (0): Conv2d(80, 160, kernel_size=(1, 1), stride=(2, 2), bias=False)\n",
       "        (1): BatchNorm2d(160, eps=1e-05, momentum=0.1, affine=True, track_running_stats=True)\n",
       "      )\n",
       "    )\n",
       "    (1): BasicBlock(\n",
       "      (conv1): Conv2d(160, 160, kernel_size=(3, 3), stride=(1, 1), padding=(1, 1), bias=False)\n",
       "      (bn1): BatchNorm2d(160, eps=1e-05, momentum=0.1, affine=True, track_running_stats=True)\n",
       "      (relu): ReLU(inplace=True)\n",
       "      (conv2): Conv2d(160, 160, kernel_size=(3, 3), stride=(1, 1), padding=(1, 1), bias=False)\n",
       "      (bn2): BatchNorm2d(160, eps=1e-05, momentum=0.1, affine=True, track_running_stats=True)\n",
       "    )\n",
       "    (2): BasicBlock(\n",
       "      (conv1): Conv2d(160, 160, kernel_size=(3, 3), stride=(1, 1), padding=(1, 1), bias=False)\n",
       "      (bn1): BatchNorm2d(160, eps=1e-05, momentum=0.1, affine=True, track_running_stats=True)\n",
       "      (relu): ReLU(inplace=True)\n",
       "      (conv2): Conv2d(160, 160, kernel_size=(3, 3), stride=(1, 1), padding=(1, 1), bias=False)\n",
       "      (bn2): BatchNorm2d(160, eps=1e-05, momentum=0.1, affine=True, track_running_stats=True)\n",
       "    )\n",
       "  )\n",
       "  (avgpool): AdaptiveAvgPool2d(output_size=(1, 1))\n",
       "  (fc): Sequential(\n",
       "    (0): Dropout(p=0.5, inplace=False)\n",
       "    (1): Linear(in_features=160, out_features=1000, bias=True)\n",
       "  )\n",
       ")"
      ]
     },
     "execution_count": 6,
     "metadata": {},
     "output_type": "execute_result"
    }
   ],
   "source": [
    "pipeline.make_resnet34_1chan(dropout=True)"
   ]
  },
  {
   "cell_type": "code",
   "execution_count": null,
   "metadata": {},
   "outputs": [],
   "source": []
  },
  {
   "cell_type": "code",
   "execution_count": 18,
   "metadata": {},
   "outputs": [],
   "source": [
    "pipeline.load_from_buf(buf, model, opt)"
   ]
  },
  {
   "cell_type": "code",
   "execution_count": 22,
   "metadata": {},
   "outputs": [
    {
     "name": "stderr",
     "output_type": "stream",
     "text": [
      "87798it [00:18, 4709.41it/s]\n",
      "12330it [00:02, 4627.98it/s]\n",
      "87798it [00:18, 4838.32it/s]\n",
      "12330it [00:02, 4728.99it/s]\n"
     ]
    }
   ],
   "source": [
    "cbed_data_loader_rgb = pipeline.CbedDataLoader(img_path, chans='RGB')\n",
    "cbed_data_loader_l = pipeline.CbedDataLoader(img_path, chans='L')"
   ]
  },
  {
   "cell_type": "code",
   "execution_count": 16,
   "metadata": {},
   "outputs": [
    {
     "data": {
      "image/png": "[encoded data removed]",
      "text/plain": [
       "<Figure size 432x288 with 1 Axes>"
      ]
     },
     "metadata": {
      "needs_background": "light"
     },
     "output_type": "display_data"
    }
   ],
   "source": [
    "img = PIL.Image.open(filename).convert('RGB')\n",
    "\n",
    "img = torchvision.transforms.functional.rotate(\n",
    "    img, -30, resample=PIL.Image.BICUBIC)\n",
    "\n",
    "img_t = torchvision.transforms.functional.to_tensor(img)\n",
    "\n",
    "pipeline.imshow(img_t)"
   ]
  },
  {
   "cell_type": "code",
   "execution_count": 7,
   "metadata": {},
   "outputs": [
    {
     "data": {
      "image/png": "[encoded data removed]",
      "text/plain": [
       "<Figure size 432x288 with 1 Axes>"
      ]
     },
     "metadata": {
      "needs_background": "light"
     },
     "output_type": "display_data"
    }
   ],
   "source": [
    "pipeline.imshow(cbed_data_loader._train_set[0][0])"
   ]
  },
  {
   "cell_type": "code",
   "execution_count": 8,
   "metadata": {},
   "outputs": [
    {
     "data": {
      "image/png": "[encoded data removed]",
      "text/plain": [
       "<Figure size 432x288 with 1 Axes>"
      ]
     },
     "metadata": {
      "needs_background": "light"
     },
     "output_type": "display_data"
    }
   ],
   "source": [
    "pipeline.imshow(cbed_data_loader._train_set[0][0])"
   ]
  },
  {
   "cell_type": "code",
   "execution_count": 9,
   "metadata": {},
   "outputs": [
    {
     "data": {
      "image/png": "[encoded data removed]",
      "text/plain": [
       "<Figure size 432x288 with 1 Axes>"
      ]
     },
     "metadata": {
      "needs_background": "light"
     },
     "output_type": "display_data"
    }
   ],
   "source": [
    "pipeline.imshow(cbed_data_loader._train_set[0][0])"
   ]
  },
  {
   "cell_type": "code",
   "execution_count": 10,
   "metadata": {},
   "outputs": [
    {
     "data": {
      "image/png": "[encoded data removed]",
      "text/plain": [
       "<Figure size 432x288 with 1 Axes>"
      ]
     },
     "metadata": {
      "needs_background": "light"
     },
     "output_type": "display_data"
    }
   ],
   "source": [
    "pipeline.imshow(cbed_data_loader._train_set[0][0])"
   ]
  },
  {
   "cell_type": "code",
   "execution_count": null,
   "metadata": {},
   "outputs": [],
   "source": []
  }
 ],
 "metadata": {
  "kernelspec": {
   "display_name": "smc_env",
   "language": "python",
   "name": "smc_env"
  },
  "language_info": {
   "codemirror_mode": {
    "name": "ipython",
    "version": 3
   },
   "file_extension": ".py",
   "mimetype": "text/x-python",
   "name": "python",
   "nbconvert_exporter": "python",
   "pygments_lexer": "ipython3",
   "version": "3.7.3"
  }
 },
 "nbformat": 4,
 "nbformat_minor": 4
}
