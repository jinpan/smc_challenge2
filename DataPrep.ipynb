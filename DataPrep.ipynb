{
 "cells": [
  {
   "cell_type": "code",
   "execution_count": 1,
   "metadata": {},
   "outputs": [],
   "source": [
    "%reload_ext autoreload\n",
    "%autoreload 2\n",
    "\n",
    "import time\n",
    "\n",
    "from IPython import display\n",
    "\n",
    "import pipeline"
   ]
  },
  {
   "cell_type": "code",
   "execution_count": 221,
   "metadata": {},
   "outputs": [
    {
     "name": "stderr",
     "output_type": "stream",
     "text": [
      "100%|██████████| 1138/1138 [1:45:19<00:00,  5.55s/it] \n"
     ]
    },
    {
     "data": {
      "application/javascript": [
       "new Notification(\"DataPrep done\")"
      ],
      "text/plain": [
       "<IPython.core.display.Javascript object>"
      ]
     },
     "execution_count": 221,
     "metadata": {},
     "output_type": "execute_result"
    }
   ],
   "source": [
    "cfg = pipeline.ImageProducerConfig(\n",
    "    h5_root='/mnt/data1/smc_data/challenge2',\n",
    "    output_dir='/home/jin/sandbox/smc_challenge2/images/img8',\n",
    "    scale_config=pipeline.ImageScalingConfig(\n",
    "        type='log',\n",
    "        type_param1=-17,\n",
    "        type_param2=10,\n",
    "        normalize_brightness=False,\n",
    "        size=(128, 128),\n",
    "    ),\n",
    "    rotate=False,\n",
    ")\n",
    "\n",
    "pipeline.ImageProducer(cfg).produce()\n",
    "\n",
    "notify(\"DataPrep done\")"
   ]
  },
  {
   "cell_type": "code",
   "execution_count": 223,
   "metadata": {},
   "outputs": [
    {
     "name": "stderr",
     "output_type": "stream",
     "text": [
      "100%|██████████| 1138/1138 [1:07:55<00:00,  3.58s/it]\n"
     ]
    },
    {
     "data": {
      "application/javascript": [
       "new Notification(\"DataPrep done\")"
      ],
      "text/plain": [
       "<IPython.core.display.Javascript object>"
      ]
     },
     "execution_count": 223,
     "metadata": {},
     "output_type": "execute_result"
    }
   ],
   "source": [
    "cfg = pipeline.ImageProducerConfig(\n",
    "    h5_root='/mnt/data1/smc_data/challenge2',\n",
    "    output_dir='/home/jin/sandbox/smc_challenge2/images/img9',\n",
    "    scale_config=pipeline.ImageScalingConfig(\n",
    "        type='log',\n",
    "        type_param1=-17,\n",
    "        type_param2=10,\n",
    "        normalize_brightness=False,\n",
    "        size=(128, 128),\n",
    "    ),\n",
    ")\n",
    "\n",
    "pipeline.ImageProducer(cfg).produce(combine_stack=False, parallelism=6)\n",
    "\n",
    "notify(\"DataPrep done\")"
   ]
  },
  {
   "cell_type": "code",
   "execution_count": null,
   "metadata": {},
   "outputs": [
    {
     "name": "stderr",
     "output_type": "stream",
     "text": [
      " 38%|███▊      | 427/1138 [12:14<1:47:15,  9.05s/it]"
     ]
    }
   ],
   "source": [
    "cfg = pipeline.ImageProducerConfig(\n",
    "    h5_root='/mnt/data1/smc_data/challenge2',\n",
    "    output_dir='/home/jin/sandbox/smc_challenge2/images/img11',\n",
    "    scale_config=pipeline.ImageScalingConfig(\n",
    "        type='log',\n",
    "        type_param1=-17,\n",
    "        type_param2=10,\n",
    "        normalize_brightness=False,\n",
    "        size=(128, 128),\n",
    "    ),\n",
    ")\n",
    "\n",
    "pipeline.ImageProducer(cfg).produce(combine_stack=False, parallelism=6)\n",
    "\n",
    "notify(\"DataPrep done\")"
   ]
  },
  {
   "cell_type": "code",
   "execution_count": 5,
   "metadata": {},
   "outputs": [
    {
     "name": "stderr",
     "output_type": "stream",
     "text": [
      "100%|██████████| 1138/1138 [1:29:03<00:00,  4.70s/it] \n"
     ]
    },
    {
     "data": {
      "application/javascript": [
       "new Notification(\"DataPrep done\")"
      ],
      "text/plain": [
       "<IPython.core.display.Javascript object>"
      ]
     },
     "execution_count": 5,
     "metadata": {},
     "output_type": "execute_result"
    }
   ],
   "source": [
    "cfg = pipeline.ImageProducerConfig(\n",
    "    h5_root='/mnt/data1/smc_data/challenge2',\n",
    "    output_dir='/home/jin/sandbox/smc_challenge2/images/img12',\n",
    "    scale_config=pipeline.ImageScalingConfig(\n",
    "        type='log',\n",
    "        type_param1=-17,\n",
    "        type_param2=10,\n",
    "        normalize_brightness=False,\n",
    "        size=(128, 128),\n",
    "    ),\n",
    ")\n",
    "\n",
    "pipeline.ImageProducer(cfg).produce(combine_stack=False, parallelism=6)\n",
    "\n",
    "notify(\"DataPrep done\")"
   ]
  },
  {
   "cell_type": "code",
   "execution_count": null,
   "metadata": {},
   "outputs": [
    {
     "name": "stderr",
     "output_type": "stream",
     "text": [
      " 93%|█████████▎| 1060/1138 [1:06:11<01:44,  1.34s/it]"
     ]
    }
   ],
   "source": [
    "cfg = pipeline.ImageProducerConfig(\n",
    "    h5_root='/mnt/data1/smc_data/challenge2',\n",
    "    output_dir='/home/jin/sandbox/smc_challenge2/images/img13',\n",
    "    scale_config=pipeline.ImageScalingConfig(\n",
    "        type='log_middleout',\n",
    "        type_param1=-17,\n",
    "        type_param2=10,\n",
    "        size=(128, 128),\n",
    "    ),\n",
    ")\n",
    "\n",
    "pipeline.ImageProducer(cfg).produce(combine_stack=False, parallelism=6)\n",
    "\n",
    "pipeline.notify(\"img13 done\")"
   ]
  },
  {
   "cell_type": "code",
   "execution_count": null,
   "metadata": {},
   "outputs": [],
   "source": []
  }
 ],
 "metadata": {
  "kernelspec": {
   "display_name": "env3",
   "language": "python",
   "name": "env3"
  },
  "language_info": {
   "codemirror_mode": {
    "name": "ipython",
    "version": 3
   },
   "file_extension": ".py",
   "mimetype": "text/x-python",
   "name": "python",
   "nbconvert_exporter": "python",
   "pygments_lexer": "ipython3",
   "version": "3.7.3"
  }
 },
 "nbformat": 4,
 "nbformat_minor": 4
}
