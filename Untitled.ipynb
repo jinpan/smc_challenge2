{
 "cells": [
  {
   "cell_type": "code",
   "execution_count": 56,
   "metadata": {},
   "outputs": [],
   "source": [
    "%reload_ext autoreload\n",
    "%autoreload 2\n",
    "\n",
    "import collections\n",
    "import gc\n",
    "import pathlib\n",
    "import random\n",
    "import shutil\n",
    "\n",
    "import fastai\n",
    "import fastai.vision\n",
    "import h5py\n",
    "from matplotlib import pyplot as plt\n",
    "import numpy as np\n",
    "import pandas as pd\n",
    "import PIL\n",
    "import torch\n",
    "import torchvision\n",
    "import tqdm\n",
    "\n",
    "import pipeline\n",
    "\n",
    "path = pathlib.Path('/mnt/data1/smc_data/challenge2')\n",
    "path2 = pathlib.Path('/home/jin/sandbox/smc_challenge2/images')"
   ]
  },
  {
   "cell_type": "code",
   "execution_count": null,
   "metadata": {},
   "outputs": [],
   "source": []
  },
  {
   "cell_type": "code",
   "execution_count": null,
   "metadata": {},
   "outputs": [],
   "source": [
    "lr = 1e-3\n",
    "\n",
    "optimizer = torch.optim.SGD([torch.randn(1, requires_grad=True)], lr=lr)\n",
    "\n",
    "\n",
    "num_epochs, num_batches = 30, 100\n",
    "\n",
    "opt_scheduler = torch.optim.lr_scheduler.OneCycleLR(\n",
    "    optimizer,\n",
    "    max_lr=lr,\n",
    "    steps_per_epoch=num_batches,\n",
    "    epochs=num_epochs,\n",
    "    div_factor=3.,\n",
    "    final_div_factor=10.,\n",
    ")\n",
    "\n",
    "lrs = []\n",
    "\n",
    "for epoch in range(num_epochs):\n",
    "    for batch in range(num_batches):\n",
    "        \n",
    "        lrs.append(optimizer.param_groups[0]['lr'])\n",
    "        opt_scheduler.step()\n",
    "    \n",
    "lr = 5e-4\n",
    "opt_scheduler2 = torch.optim.lr_scheduler.OneCycleLR(\n",
    "    optimizer,\n",
    "    max_lr=lr,\n",
    "    steps_per_epoch=num_batches,\n",
    "    epochs=num_epochs,\n",
    ")\n",
    "\n",
    "for epoch in range(num_epochs):\n",
    "    for batch in range(num_batches):\n",
    "        \n",
    "        lrs.append(optimizer.param_groups[0]['lr'])\n",
    "        opt_scheduler2.step()\n",
    "    \n",
    "plt.plot(list(range(len(lrs))), lrs)"
   ]
  },
  {
   "cell_type": "code",
   "execution_count": null,
   "metadata": {},
   "outputs": [],
   "source": [
    "torch.optim.lr_scheduler.OneCycleLR?"
   ]
  },
  {
   "cell_type": "code",
   "execution_count": null,
   "metadata": {},
   "outputs": [],
   "source": [
    "torchvision.transforms.RandomRotation"
   ]
  },
  {
   "cell_type": "code",
   "execution_count": null,
   "metadata": {},
   "outputs": [],
   "source": [
    "transform = torchvision.transforms.Compose([\n",
    "    torchvision.transforms.RandomHorizontalFlip(),\n",
    "    torchvision.transforms.RandomRotation(360., resample=PIL.Image.BICUBIC),\n",
    "    torchvision.transforms.ToTensor(),\n",
    "    torchvision.transforms.RandomErasing(),\n",
    "])"
   ]
  },
  {
   "cell_type": "code",
   "execution_count": null,
   "metadata": {},
   "outputs": [],
   "source": [
    "img_path = path2/'img11'\n",
    "\n",
    "label_manager = pipeline.LabelManager()\n",
    "\n",
    "cbed_dl = pipeline.CbedDataLoader(\n",
    "    img_path, batch_size=1500, chans='L')\n",
    "\n",
    "# cbed_ds = pipeline.CbedDataset(\n",
    "#     img_path/'valid', label_manager, transform=transform, chans='L')"
   ]
  },
  {
   "cell_type": "code",
   "execution_count": null,
   "metadata": {},
   "outputs": [],
   "source": [
    "pipeline.imshow(cbed_dl._train_set[2][0])"
   ]
  },
  {
   "cell_type": "code",
   "execution_count": null,
   "metadata": {},
   "outputs": [],
   "source": [
    "random.randint(0, 3)"
   ]
  },
  {
   "cell_type": "code",
   "execution_count": null,
   "metadata": {},
   "outputs": [],
   "source": [
    "img_path = path2/'img9'"
   ]
  },
  {
   "cell_type": "code",
   "execution_count": null,
   "metadata": {},
   "outputs": [],
   "source": [
    "means, stds = [], []\n",
    "\n",
    "for filename in tqdm.tqdm(img_path.glob('train/*.png')):\n",
    "    img = PIL.Image.open(filename).convert('L')\n",
    "    t = torchvision.transforms.functional.to_tensor(img)\n",
    "    means.append(t.mean())\n",
    "    stds.append(t.std())"
   ]
  },
  {
   "cell_type": "code",
   "execution_count": null,
   "metadata": {},
   "outputs": [],
   "source": [
    "torch.stack(means).mean()"
   ]
  },
  {
   "cell_type": "code",
   "execution_count": null,
   "metadata": {},
   "outputs": [],
   "source": [
    "torch.stack(stds).mean()"
   ]
  },
  {
   "cell_type": "code",
   "execution_count": null,
   "metadata": {},
   "outputs": [],
   "source": [
    "img"
   ]
  },
  {
   "cell_type": "code",
   "execution_count": null,
   "metadata": {},
   "outputs": [],
   "source": [
    "pipeline.imshow(t)"
   ]
  },
  {
   "cell_type": "code",
   "execution_count": null,
   "metadata": {},
   "outputs": [],
   "source": [
    "pipeline.imshow(\n",
    "    torchvision.transforms.functional.normalize(\n",
    "        t, mean=0.0474, std=0.0547))"
   ]
  },
  {
   "cell_type": "code",
   "execution_count": null,
   "metadata": {},
   "outputs": [],
   "source": [
    "torchvision.transforms.functional.normalize?"
   ]
  },
  {
   "cell_type": "code",
   "execution_count": null,
   "metadata": {},
   "outputs": [],
   "source": [
    "t.mean()"
   ]
  },
  {
   "cell_type": "code",
   "execution_count": null,
   "metadata": {},
   "outputs": [],
   "source": [
    "t.std()"
   ]
  },
  {
   "cell_type": "code",
   "execution_count": 2,
   "metadata": {},
   "outputs": [],
   "source": [
    "model = pipeline.make_resnet34_1chan(\n",
    "    pretrained=False,\n",
    "    num_classes=200,\n",
    "    dropout=0.25,\n",
    ").cuda()\n",
    "\n",
    "opt = pipeline.Lamb2(\n",
    "    model.parameters(), lr=5e-2, weight_decay=0.01)"
   ]
  },
  {
   "cell_type": "code",
   "execution_count": 3,
   "metadata": {},
   "outputs": [
    {
     "name": "stdout",
     "output_type": "stream",
     "text": [
      "'param_groups'\n"
     ]
    }
   ],
   "source": [
    "try:\n",
    "    pipeline.ModelOptBuf().load(model, opt, '/tmp/dropout_cutout2')\n",
    "except KeyError as e:\n",
    "    print(e)"
   ]
  },
  {
   "cell_type": "code",
   "execution_count": 4,
   "metadata": {},
   "outputs": [
    {
     "name": "stderr",
     "output_type": "stream",
     "text": [
      "87798it [00:18, 4696.91it/s]\n",
      "12330it [00:02, 4610.09it/s]\n"
     ]
    }
   ],
   "source": [
    "img_path = path2/'img11'\n",
    "\n",
    "cbed_data_loader = pipeline.CbedDataLoader(\n",
    "    img_path, batch_size=1500, chans='L')"
   ]
  },
  {
   "cell_type": "code",
   "execution_count": 22,
   "metadata": {},
   "outputs": [
    {
     "data": {
      "text/plain": [
       "(0.5285412262156448, 0.5315379163713678)"
      ]
     },
     "execution_count": 22,
     "metadata": {},
     "output_type": "execute_result"
    }
   ],
   "source": [
    "1500 / 2838, 1500 / 2822"
   ]
  },
  {
   "cell_type": "code",
   "execution_count": 28,
   "metadata": {},
   "outputs": [],
   "source": [
    "A = collections.namedtuple('A', ('a', 'b'))\n",
    "\n",
    "a1 = A(1, 2)\n",
    "a2 = A(3, 4)"
   ]
  },
  {
   "cell_type": "code",
   "execution_count": 30,
   "metadata": {},
   "outputs": [
    {
     "data": {
      "text/html": [
       "<div>\n",
       "<style scoped>\n",
       "    .dataframe tbody tr th:only-of-type {\n",
       "        vertical-align: middle;\n",
       "    }\n",
       "\n",
       "    .dataframe tbody tr th {\n",
       "        vertical-align: top;\n",
       "    }\n",
       "\n",
       "    .dataframe thead th {\n",
       "        text-align: right;\n",
       "    }\n",
       "</style>\n",
       "<table border=\"1\" class=\"dataframe\">\n",
       "  <thead>\n",
       "    <tr style=\"text-align: right;\">\n",
       "      <th></th>\n",
       "      <th>a</th>\n",
       "      <th>b</th>\n",
       "    </tr>\n",
       "  </thead>\n",
       "  <tbody>\n",
       "    <tr>\n",
       "      <th>0</th>\n",
       "      <td>1</td>\n",
       "      <td>2</td>\n",
       "    </tr>\n",
       "    <tr>\n",
       "      <th>1</th>\n",
       "      <td>3</td>\n",
       "      <td>4</td>\n",
       "    </tr>\n",
       "  </tbody>\n",
       "</table>\n",
       "</div>"
      ],
      "text/plain": [
       "   a  b\n",
       "0  1  2\n",
       "1  3  4"
      ]
     },
     "execution_count": 30,
     "metadata": {},
     "output_type": "execute_result"
    }
   ],
   "source": [
    "pd.DataFrame([a1, a2])"
   ]
  },
  {
   "cell_type": "code",
   "execution_count": 34,
   "metadata": {},
   "outputs": [
    {
     "data": {
      "text/plain": [
       "1138"
      ]
     },
     "execution_count": 34,
     "metadata": {},
     "output_type": "execute_result"
    }
   ],
   "source": [
    "len(list(path.glob('*/*.h5')))"
   ]
  },
  {
   "cell_type": "code",
   "execution_count": 59,
   "metadata": {},
   "outputs": [
    {
     "data": {
      "text/plain": [
       "[<matplotlib.lines.Line2D at 0x7f0e7084bd30>]"
      ]
     },
     "execution_count": 59,
     "metadata": {},
     "output_type": "execute_result"
    },
    {
     "data": {
      "image/png": "[encoded data removed]",
      "text/plain": [
       "<Figure size 1152x288 with 2 Axes>"
      ]
     },
     "metadata": {
      "needs_background": "light"
     },
     "output_type": "display_data"
    }
   ],
   "source": [
    "max_dist = 362\n",
    "image_center = (511/2, 511/2)\n",
    "\n",
    "num_samples_by_dist_per_img = np.zeros(max_dist, dtype=np.int)\n",
    "img_dist_sample_idxs = []\n",
    "for _ in range(max_dist):\n",
    "    img_dist_sample_idxs.append([])\n",
    "dist_mat = np.empty((512, 512), dtype=np.int)\n",
    "\n",
    "for row in range(512):\n",
    "    for col in range(512):\n",
    "        dist_sq = (row - image_center[0]) ** 2 + (col - image_center[0]) ** 2\n",
    "        dist = int(dist_sq ** 0.5)\n",
    "        \n",
    "        dist_mat[row][col] = dist\n",
    "        num_samples_by_dist_per_img[dist] += 1\n",
    "        img_dist_sample_idxs[dist].append((row, col))\n",
    "        \n",
    "\n",
    "fig, (ax0, ax1) = plt.subplots(1, 2, figsize=(16, 4))\n",
    "ax0.imshow(dist_mat)\n",
    "# ax1.plot(num_samples_by_dist_per_img)\n",
    "ax1.plot([len(a) for a in  img_dist_sample_idxs])\n"
   ]
  },
  {
   "cell_type": "code",
   "execution_count": 73,
   "metadata": {},
   "outputs": [],
   "source": [
    "h5f = h5py.File(filename, 'r')"
   ]
  },
  {
   "cell_type": "code",
   "execution_count": 82,
   "metadata": {},
   "outputs": [
    {
     "data": {
      "text/plain": [
       "(438,\n",
       " ['sample_0_0',\n",
       "  'sample_0_1',\n",
       "  'sample_0_2',\n",
       "  'sample_0_3',\n",
       "  'sample_0_4',\n",
       "  'sample_0_5',\n",
       "  'sample_0_6',\n",
       "  'sample_0_7',\n",
       "  'sample_0_8',\n",
       "  'sample_0_9'])"
      ]
     },
     "execution_count": 82,
     "metadata": {},
     "output_type": "execute_result"
    }
   ],
   "source": [
    "len(h5f), sorted(h5f.keys())[:10]"
   ]
  },
  {
   "cell_type": "code",
   "execution_count": 98,
   "metadata": {},
   "outputs": [
    {
     "data": {
      "text/plain": [
       "3.1203897e-19"
      ]
     },
     "execution_count": 98,
     "metadata": {},
     "output_type": "execute_result"
    }
   ],
   "source": [
    "h5f['sample_0_0']['cbed_stack'][0][1][2]"
   ]
  },
  {
   "cell_type": "code",
   "execution_count": 62,
   "metadata": {},
   "outputs": [
    {
     "name": "stderr",
     "output_type": "stream",
     "text": [
      "100%|██████████| 1138/1138 [00:00<00:00, 4288.87it/s]\n"
     ]
    },
    {
     "data": {
      "text/plain": [
       "[<matplotlib.lines.Line2D at 0x7f0e707c34e0>]"
      ]
     },
     "execution_count": 62,
     "metadata": {},
     "output_type": "execute_result"
    },
    {
     "data": {
      "image/png": "[encoded data removed]",
      "text/plain": [
       "<Figure size 432x288 with 1 Axes>"
      ]
     },
     "metadata": {
      "needs_background": "light"
     },
     "output_type": "display_data"
    }
   ],
   "source": [
    "max_dist = 362\n",
    "\n",
    "filenames = sorted(path.glob('*/*.h5'))\n",
    "num_samples_per_file = []\n",
    "\n",
    "for filename in tqdm.tqdm(filenames):\n",
    "    with h5py.File(filename, 'r') as h5f:\n",
    "        assert len(h5f) == len(h5f.values())\n",
    "        \n",
    "        num_samples_per_file.append(len(h5f))\n",
    "\n",
    "total_num_samples = sum(num_samples_per_file)\n",
    "\n",
    "num_samples_by_dist = 3 * total_num_samples * num_samples_by_dist_per_img\n",
    "\n",
    "\n",
    "plt.plot(num_samples_by_dist)"
   ]
  },
  {
   "cell_type": "code",
   "execution_count": 99,
   "metadata": {},
   "outputs": [],
   "source": [
    "DotDescriptor = collections.namedtuple('DotDescriptor', (\n",
    "    'filename',  # which filename to use\n",
    "    'group_offset',  # which group to use\n",
    "    'sample_offset',\n",
    "    'row',\n",
    "    'col',\n",
    "))\n",
    "\n",
    "def idx_to_dot_descriptor(\n",
    "    idx, dist,\n",
    "    filenames, num_samples_per_file, num_samples_by_dist_per_img, img_dist_sample_idxs):\n",
    "    \n",
    "    num_samples_per_img = num_samples_by_dist_per_img[dist]\n",
    "    \n",
    "    # Get filename for this idx\n",
    "    found = False\n",
    "    for filename, num_samples in zip(filenames, num_samples_per_file):\n",
    "        num_dots_in_this_file = num_samples * 3 * num_samples_per_img\n",
    "        if idx < num_dots_in_this_file:\n",
    "            found = True\n",
    "            break\n",
    "        idx -= num_dots_in_this_file\n",
    "    assert found\n",
    "    \n",
    "    # Now idx is relative offset within this file\n",
    "    group_offset = idx // (3 * num_samples_per_img)\n",
    "    assert group_offset < num_samples\n",
    "    \n",
    "    idx = idx % (3 * num_samples_per_img)\n",
    "    \n",
    "    sample_offset = idx // num_samples_per_img\n",
    "    idx = idx % num_samples_per_img\n",
    "    \n",
    "    row, col = img_dist_sample_idxs[dist][idx]\n",
    "    \n",
    "    return DotDescriptor(filename, group_offset, sample_offset, row, col)\n",
    "\n",
    "def get_dot(dd, h5f=None):\n",
    "    h5f_was_none = h5f is None\n",
    "    if h5f_was_none:\n",
    "        h5f = h5py.File(dd.filename, 'r')\n",
    "    \n",
    "    try:\n",
    "        key = sorted(h5f.keys())[dd.group_offset]\n",
    "        cbed_slice = h5f[key]['cbed_stack'][dd.sample_offset]\n",
    "        \n",
    "        return cbed_slice[dd.row][dd.col]\n",
    "        \n",
    "    finally:\n",
    "        if h5f_was_none:\n",
    "            h5f.close()\n",
    "        "
   ]
  },
  {
   "cell_type": "code",
   "execution_count": 101,
   "metadata": {},
   "outputs": [
    {
     "name": "stdout",
     "output_type": "stream",
     "text": [
      "0.005350871\n"
     ]
    }
   ],
   "source": [
    "dd = idx_to_dot_descriptor(\n",
    "    100, 0,\n",
    "    filenames, num_samples_per_file, num_samples_by_dist_per_img, img_dist_sample_idxs)\n",
    "\n",
    "print(get_dot(dd))"
   ]
  },
  {
   "cell_type": "code",
   "execution_count": 92,
   "metadata": {},
   "outputs": [
    {
     "name": "stderr",
     "output_type": "stream",
     "text": [
      "100%|██████████| 2245860/2245860 [08:22<00:00, 4473.80it/s]\n"
     ]
    }
   ],
   "source": [
    "for idx in tqdm.tqdm(range(num_samples_by_dist[0])):\n",
    "    idx_to_dot_descriptor(\n",
    "        idx, 0,\n",
    "        filenames, num_samples_per_file, num_samples_by_dist_per_img, img_dist_sample_idxs)"
   ]
  },
  {
   "cell_type": "code",
   "execution_count": 93,
   "metadata": {},
   "outputs": [
    {
     "ename": "AssertionError",
     "evalue": "",
     "output_type": "error",
     "traceback": [
      "\u001b[0;31m---------------------------------------------------------------------------\u001b[0m",
      "\u001b[0;31mAssertionError\u001b[0m                            Traceback (most recent call last)",
      "\u001b[0;32m<ipython-input-93-46a722506bd6>\u001b[0m in \u001b[0;36m<module>\u001b[0;34m\u001b[0m\n\u001b[1;32m      1\u001b[0m idx_to_dot_descriptor(\n\u001b[1;32m      2\u001b[0m         \u001b[0midx\u001b[0m\u001b[0;34m+\u001b[0m\u001b[0;36m1\u001b[0m\u001b[0;34m,\u001b[0m \u001b[0;36m0\u001b[0m\u001b[0;34m,\u001b[0m\u001b[0;34m\u001b[0m\u001b[0;34m\u001b[0m\u001b[0m\n\u001b[0;32m----> 3\u001b[0;31m         filenames, num_samples_per_file, num_samples_by_dist_per_img, img_dist_sample_idxs)\n\u001b[0m",
      "\u001b[0;32m<ipython-input-85-2623b5d7713a>\u001b[0m in \u001b[0;36midx_to_dot_descriptor\u001b[0;34m(idx, dist, filenames, num_samples_per_file, num_samples_by_dist_per_img, img_dist_sample_idxs)\u001b[0m\n\u001b[1;32m     21\u001b[0m             \u001b[0;32mbreak\u001b[0m\u001b[0;34m\u001b[0m\u001b[0;34m\u001b[0m\u001b[0m\n\u001b[1;32m     22\u001b[0m         \u001b[0midx\u001b[0m \u001b[0;34m-=\u001b[0m \u001b[0mnum_dots_in_this_file\u001b[0m\u001b[0;34m\u001b[0m\u001b[0;34m\u001b[0m\u001b[0m\n\u001b[0;32m---> 23\u001b[0;31m     \u001b[0;32massert\u001b[0m \u001b[0mfound\u001b[0m\u001b[0;34m\u001b[0m\u001b[0;34m\u001b[0m\u001b[0m\n\u001b[0m\u001b[1;32m     24\u001b[0m \u001b[0;34m\u001b[0m\u001b[0m\n\u001b[1;32m     25\u001b[0m     \u001b[0;31m# Now idx is relative offset within this file\u001b[0m\u001b[0;34m\u001b[0m\u001b[0;34m\u001b[0m\u001b[0;34m\u001b[0m\u001b[0m\n",
      "\u001b[0;31mAssertionError\u001b[0m: "
     ]
    }
   ],
   "source": [
    "idx_to_dot_descriptor(\n",
    "        idx, 0,\n",
    "        filenames, num_samples_per_file, num_samples_by_dist_per_img, img_dist_sample_idxs)"
   ]
  },
  {
   "cell_type": "code",
   "execution_count": null,
   "metadata": {},
   "outputs": [],
   "source": []
  },
  {
   "cell_type": "code",
   "execution_count": 50,
   "metadata": {},
   "outputs": [
    {
     "ename": "TypeError",
     "evalue": "Not a location id (invalid object ID)",
     "output_type": "error",
     "traceback": [
      "\u001b[0;31m---------------------------------------------------------------------------\u001b[0m",
      "\u001b[0;31mTypeError\u001b[0m                                 Traceback (most recent call last)",
      "\u001b[0;32m<ipython-input-50-2dfda01e3793>\u001b[0m in \u001b[0;36m<module>\u001b[0;34m\u001b[0m\n\u001b[0;32m----> 1\u001b[0;31m \u001b[0mlen\u001b[0m\u001b[0;34m(\u001b[0m\u001b[0mh5f\u001b[0m\u001b[0;34m)\u001b[0m\u001b[0;34m\u001b[0m\u001b[0;34m\u001b[0m\u001b[0m\n\u001b[0m",
      "\u001b[0;32mh5py/_objects.pyx\u001b[0m in \u001b[0;36mh5py._objects.with_phil.wrapper\u001b[0;34m()\u001b[0m\n",
      "\u001b[0;32mh5py/_objects.pyx\u001b[0m in \u001b[0;36mh5py._objects.with_phil.wrapper\u001b[0;34m()\u001b[0m\n",
      "\u001b[0;32m~/sandbox/fastai/env3/lib/python3.7/site-packages/h5py/_hl/group.py\u001b[0m in \u001b[0;36m__len__\u001b[0;34m(self)\u001b[0m\n\u001b[1;32m    402\u001b[0m     \u001b[0;32mdef\u001b[0m \u001b[0m__len__\u001b[0m\u001b[0;34m(\u001b[0m\u001b[0mself\u001b[0m\u001b[0;34m)\u001b[0m\u001b[0;34m:\u001b[0m\u001b[0;34m\u001b[0m\u001b[0;34m\u001b[0m\u001b[0m\n\u001b[1;32m    403\u001b[0m         \u001b[0;34m\"\"\" Number of members attached to this group \"\"\"\u001b[0m\u001b[0;34m\u001b[0m\u001b[0;34m\u001b[0m\u001b[0m\n\u001b[0;32m--> 404\u001b[0;31m         \u001b[0;32mreturn\u001b[0m \u001b[0mself\u001b[0m\u001b[0;34m.\u001b[0m\u001b[0mid\u001b[0m\u001b[0;34m.\u001b[0m\u001b[0mget_num_objs\u001b[0m\u001b[0;34m(\u001b[0m\u001b[0;34m)\u001b[0m\u001b[0;34m\u001b[0m\u001b[0;34m\u001b[0m\u001b[0m\n\u001b[0m\u001b[1;32m    405\u001b[0m \u001b[0;34m\u001b[0m\u001b[0m\n\u001b[1;32m    406\u001b[0m     \u001b[0;34m@\u001b[0m\u001b[0mwith_phil\u001b[0m\u001b[0;34m\u001b[0m\u001b[0;34m\u001b[0m\u001b[0m\n",
      "\u001b[0;32mh5py/_objects.pyx\u001b[0m in \u001b[0;36mh5py._objects.with_phil.wrapper\u001b[0;34m()\u001b[0m\n",
      "\u001b[0;32mh5py/_objects.pyx\u001b[0m in \u001b[0;36mh5py._objects.with_phil.wrapper\u001b[0;34m()\u001b[0m\n",
      "\u001b[0;32mh5py/h5g.pyx\u001b[0m in \u001b[0;36mh5py.h5g.GroupID.get_num_objs\u001b[0;34m()\u001b[0m\n",
      "\u001b[0;31mTypeError\u001b[0m: Not a location id (invalid object ID)"
     ]
    }
   ],
   "source": [
    "filenames = list(path.glob('*/*.h5'))\n"
   ]
  },
  {
   "cell_type": "code",
   "execution_count": null,
   "metadata": {},
   "outputs": [],
   "source": []
  }
 ],
 "metadata": {
  "kernelspec": {
   "display_name": "env3",
   "language": "python",
   "name": "env3"
  },
  "language_info": {
   "codemirror_mode": {
    "name": "ipython",
    "version": 3
   },
   "file_extension": ".py",
   "mimetype": "text/x-python",
   "name": "python",
   "nbconvert_exporter": "python",
   "pygments_lexer": "ipython3",
   "version": "3.7.3"
  }
 },
 "nbformat": 4,
 "nbformat_minor": 4
}
