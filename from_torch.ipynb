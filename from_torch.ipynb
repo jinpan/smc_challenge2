{
 "cells": [
  {
   "cell_type": "code",
   "execution_count": 1,
   "metadata": {},
   "outputs": [],
   "source": [
    "%reload_ext autoreload\n",
    "%autoreload 2\n",
    "\n",
    "import collections\n",
    "import dataclasses\n",
    "import enum\n",
    "import functools\n",
    "import io\n",
    "import os\n",
    "import pathlib\n",
    "import re\n",
    "import typing\n",
    "\n",
    "import fastai\n",
    "import fastai.vision\n",
    "import IPython\n",
    "import numpy as np\n",
    "import pandas as pd\n",
    "import PIL\n",
    "import tqdm\n",
    "import torch\n",
    "import torch.nn.functional as F\n",
    "import torch.utils.tensorboard\n",
    "import torchvision\n",
    "from matplotlib import pyplot as plt\n",
    "\n",
    "import pipeline\n",
    "\n",
    "path = pathlib.Path('/mnt/data1/smc_data/challenge2')\n",
    "path2 = pathlib.Path('/home/jin/sandbox/smc_challenge2/images')"
   ]
  },
  {
   "cell_type": "code",
   "execution_count": 16,
   "metadata": {},
   "outputs": [],
   "source": [
    "img_path = path2/'img11'\n",
    "\n",
    "data = (\n",
    "    fastai.vision.ImageList.from_folder(img_path, extensions='.png')\n",
    "    .split_by_folder(train='train', valid='valid')\n",
    "    .label_from_re(r'.*\\.(\\d{1,3})\\.png$')\n",
    "    .transform([[], []])\n",
    "    .databunch(\n",
    "        bs=500,\n",
    "    )\n",
    ")\n",
    "\n",
    "learn = fastai.vision.cnn_learner(\n",
    "    data,\n",
    "    fastai.vision.models.resnet18,  # fastai passes pretrained=True\n",
    "    metrics=[\n",
    "        fastai.metrics.accuracy,\n",
    "        fastai.metrics.top_k_accuracy,\n",
    "    ],\n",
    ")\n",
    "\n",
    "learn2 = fastai.vision.cnn_learner(\n",
    "    data,\n",
    "    fastai.vision.models.resnet18,  # fastai passes pretrained=True\n",
    "    metrics=[\n",
    "        fastai.metrics.accuracy,\n",
    "        fastai.metrics.top_k_accuracy,\n",
    "    ],\n",
    ")\n",
    "learn2.unfreeze()\n",
    "\n",
    "learn3 = fastai.vision.cnn_learner(\n",
    "    data,\n",
    "    fastai.vision.models.resnet34,  # fastai passes pretrained=True\n",
    "    metrics=[\n",
    "        fastai.metrics.accuracy,\n",
    "        fastai.metrics.top_k_accuracy,\n",
    "    ],\n",
    ")\n",
    "learn3.unfreeze()"
   ]
  },
  {
   "cell_type": "code",
   "execution_count": 13,
   "metadata": {},
   "outputs": [
    {
     "name": "stdout",
     "output_type": "stream",
     "text": [
      "0 slice(None, 0.003, None)\n",
      "20 slice(None, 0.003, None)\n",
      "0 slice(None, 0.003, None)\n",
      "20 slice(None, 0.003, None)\n",
      "2 slice(None, 0.003, None)\n",
      "6 slice(None, 0.003, None)\n"
     ]
    }
   ],
   "source": [
    "for pg in learn.opt.opt.param_groups:\n",
    "    print(len(pg['params']), pg['lr'])"
   ]
  },
  {
   "cell_type": "code",
   "execution_count": 15,
   "metadata": {},
   "outputs": [
    {
     "name": "stdout",
     "output_type": "stream",
     "text": [
      "10 slice(None, 0.003, None)\n",
      "20 slice(None, 0.003, None)\n",
      "10 slice(None, 0.003, None)\n",
      "20 slice(None, 0.003, None)\n",
      "2 slice(None, 0.003, None)\n",
      "6 slice(None, 0.003, None)\n"
     ]
    }
   ],
   "source": [
    "for pg in learn2.opt.opt.param_groups:\n",
    "    print(len(pg['params']), pg['lr'])"
   ]
  },
  {
   "cell_type": "code",
   "execution_count": 17,
   "metadata": {},
   "outputs": [
    {
     "name": "stdout",
     "output_type": "stream",
     "text": [
      "16 slice(None, 0.003, None)\n",
      "32 slice(None, 0.003, None)\n",
      "20 slice(None, 0.003, None)\n",
      "40 slice(None, 0.003, None)\n",
      "2 slice(None, 0.003, None)\n",
      "6 slice(None, 0.003, None)\n"
     ]
    }
   ],
   "source": [
    "for pg in learn3.opt.opt.param_groups:\n",
    "    print(len(pg['params']), pg['lr'])"
   ]
  },
  {
   "cell_type": "code",
   "execution_count": null,
   "metadata": {},
   "outputs": [],
   "source": []
  },
  {
   "cell_type": "code",
   "execution_count": 2,
   "metadata": {},
   "outputs": [
    {
     "data": {
      "text/html": [
       "<table border=\"1\" class=\"dataframe\">\n",
       "  <thead>\n",
       "    <tr style=\"text-align: left;\">\n",
       "      <th>epoch</th>\n",
       "      <th>train_loss</th>\n",
       "      <th>valid_loss</th>\n",
       "      <th>accuracy</th>\n",
       "      <th>top_k_accuracy</th>\n",
       "      <th>time</th>\n",
       "    </tr>\n",
       "  </thead>\n",
       "  <tbody>\n",
       "    <tr>\n",
       "      <td>0</td>\n",
       "      <td>3.621696</td>\n",
       "      <td>3.156859</td>\n",
       "      <td>0.179481</td>\n",
       "      <td>0.453366</td>\n",
       "      <td>00:48</td>\n",
       "    </tr>\n",
       "    <tr>\n",
       "      <td>1</td>\n",
       "      <td>2.626819</td>\n",
       "      <td>2.858997</td>\n",
       "      <td>0.232360</td>\n",
       "      <td>0.518573</td>\n",
       "      <td>00:48</td>\n",
       "    </tr>\n",
       "    <tr>\n",
       "      <td>2</td>\n",
       "      <td>2.127303</td>\n",
       "      <td>2.761771</td>\n",
       "      <td>0.270235</td>\n",
       "      <td>0.545742</td>\n",
       "      <td>00:47</td>\n",
       "    </tr>\n",
       "    <tr>\n",
       "      <td>3</td>\n",
       "      <td>1.852388</td>\n",
       "      <td>2.719260</td>\n",
       "      <td>0.292701</td>\n",
       "      <td>0.555637</td>\n",
       "      <td>00:48</td>\n",
       "    </tr>\n",
       "    <tr>\n",
       "      <td>4</td>\n",
       "      <td>1.640450</td>\n",
       "      <td>2.653157</td>\n",
       "      <td>0.309651</td>\n",
       "      <td>0.573155</td>\n",
       "      <td>00:48</td>\n",
       "    </tr>\n",
       "    <tr>\n",
       "      <td>5</td>\n",
       "      <td>1.455553</td>\n",
       "      <td>2.610607</td>\n",
       "      <td>0.325791</td>\n",
       "      <td>0.580454</td>\n",
       "      <td>00:48</td>\n",
       "    </tr>\n",
       "    <tr>\n",
       "      <td>6</td>\n",
       "      <td>1.308812</td>\n",
       "      <td>2.612769</td>\n",
       "      <td>0.349554</td>\n",
       "      <td>0.594809</td>\n",
       "      <td>00:48</td>\n",
       "    </tr>\n",
       "    <tr>\n",
       "      <td>7</td>\n",
       "      <td>1.201765</td>\n",
       "      <td>2.608010</td>\n",
       "      <td>0.354826</td>\n",
       "      <td>0.595134</td>\n",
       "      <td>00:48</td>\n",
       "    </tr>\n",
       "    <tr>\n",
       "      <td>8</td>\n",
       "      <td>1.122652</td>\n",
       "      <td>2.606626</td>\n",
       "      <td>0.360503</td>\n",
       "      <td>0.597161</td>\n",
       "      <td>00:48</td>\n",
       "    </tr>\n",
       "    <tr>\n",
       "      <td>9</td>\n",
       "      <td>1.094221</td>\n",
       "      <td>2.607162</td>\n",
       "      <td>0.361395</td>\n",
       "      <td>0.597648</td>\n",
       "      <td>00:48</td>\n",
       "    </tr>\n",
       "  </tbody>\n",
       "</table>"
      ],
      "text/plain": [
       "<IPython.core.display.HTML object>"
      ]
     },
     "metadata": {},
     "output_type": "display_data"
    },
    {
     "data": {
      "text/html": [
       "<table border=\"1\" class=\"dataframe\">\n",
       "  <thead>\n",
       "    <tr style=\"text-align: left;\">\n",
       "      <th>epoch</th>\n",
       "      <th>train_loss</th>\n",
       "      <th>valid_loss</th>\n",
       "      <th>accuracy</th>\n",
       "      <th>top_k_accuracy</th>\n",
       "      <th>time</th>\n",
       "    </tr>\n",
       "  </thead>\n",
       "  <tbody>\n",
       "    <tr>\n",
       "      <td>0</td>\n",
       "      <td>1.064087</td>\n",
       "      <td>2.686949</td>\n",
       "      <td>0.350527</td>\n",
       "      <td>0.594079</td>\n",
       "      <td>01:03</td>\n",
       "    </tr>\n",
       "    <tr>\n",
       "      <td>1</td>\n",
       "      <td>1.043612</td>\n",
       "      <td>3.058603</td>\n",
       "      <td>0.297080</td>\n",
       "      <td>0.562044</td>\n",
       "      <td>01:02</td>\n",
       "    </tr>\n",
       "    <tr>\n",
       "      <td>2</td>\n",
       "      <td>0.698682</td>\n",
       "      <td>2.929678</td>\n",
       "      <td>0.364558</td>\n",
       "      <td>0.613625</td>\n",
       "      <td>01:02</td>\n",
       "    </tr>\n",
       "    <tr>\n",
       "      <td>3</td>\n",
       "      <td>0.404928</td>\n",
       "      <td>3.248407</td>\n",
       "      <td>0.373479</td>\n",
       "      <td>0.605110</td>\n",
       "      <td>01:02</td>\n",
       "    </tr>\n",
       "    <tr>\n",
       "      <td>4</td>\n",
       "      <td>0.244832</td>\n",
       "      <td>3.241570</td>\n",
       "      <td>0.399351</td>\n",
       "      <td>0.616383</td>\n",
       "      <td>01:02</td>\n",
       "    </tr>\n",
       "    <tr>\n",
       "      <td>5</td>\n",
       "      <td>0.143717</td>\n",
       "      <td>3.432838</td>\n",
       "      <td>0.422952</td>\n",
       "      <td>0.614761</td>\n",
       "      <td>01:02</td>\n",
       "    </tr>\n",
       "    <tr>\n",
       "      <td>6</td>\n",
       "      <td>0.094521</td>\n",
       "      <td>3.504128</td>\n",
       "      <td>0.448175</td>\n",
       "      <td>0.632441</td>\n",
       "      <td>01:02</td>\n",
       "    </tr>\n",
       "    <tr>\n",
       "      <td>7</td>\n",
       "      <td>0.065236</td>\n",
       "      <td>3.397700</td>\n",
       "      <td>0.461963</td>\n",
       "      <td>0.651014</td>\n",
       "      <td>01:02</td>\n",
       "    </tr>\n",
       "    <tr>\n",
       "      <td>8</td>\n",
       "      <td>0.045216</td>\n",
       "      <td>3.374265</td>\n",
       "      <td>0.469911</td>\n",
       "      <td>0.648094</td>\n",
       "      <td>01:02</td>\n",
       "    </tr>\n",
       "    <tr>\n",
       "      <td>9</td>\n",
       "      <td>0.033763</td>\n",
       "      <td>3.469223</td>\n",
       "      <td>0.469343</td>\n",
       "      <td>0.652717</td>\n",
       "      <td>01:02</td>\n",
       "    </tr>\n",
       "  </tbody>\n",
       "</table>"
      ],
      "text/plain": [
       "<IPython.core.display.HTML object>"
      ]
     },
     "metadata": {},
     "output_type": "display_data"
    },
    {
     "data": {
      "text/html": [
       "<table border=\"1\" class=\"dataframe\">\n",
       "  <thead>\n",
       "    <tr style=\"text-align: left;\">\n",
       "      <th>epoch</th>\n",
       "      <th>train_loss</th>\n",
       "      <th>valid_loss</th>\n",
       "      <th>accuracy</th>\n",
       "      <th>top_k_accuracy</th>\n",
       "      <th>time</th>\n",
       "    </tr>\n",
       "  </thead>\n",
       "  <tbody>\n",
       "    <tr>\n",
       "      <td>0</td>\n",
       "      <td>3.607224</td>\n",
       "      <td>3.157668</td>\n",
       "      <td>0.192214</td>\n",
       "      <td>0.457908</td>\n",
       "      <td>00:48</td>\n",
       "    </tr>\n",
       "    <tr>\n",
       "      <td>1</td>\n",
       "      <td>2.606337</td>\n",
       "      <td>2.856024</td>\n",
       "      <td>0.247932</td>\n",
       "      <td>0.514436</td>\n",
       "      <td>00:48</td>\n",
       "    </tr>\n",
       "    <tr>\n",
       "      <td>2</td>\n",
       "      <td>2.121955</td>\n",
       "      <td>2.698741</td>\n",
       "      <td>0.281022</td>\n",
       "      <td>0.555556</td>\n",
       "      <td>00:48</td>\n",
       "    </tr>\n",
       "    <tr>\n",
       "      <td>3</td>\n",
       "      <td>1.859565</td>\n",
       "      <td>2.661242</td>\n",
       "      <td>0.304947</td>\n",
       "      <td>0.569100</td>\n",
       "      <td>00:48</td>\n",
       "    </tr>\n",
       "    <tr>\n",
       "      <td>4</td>\n",
       "      <td>1.640001</td>\n",
       "      <td>2.608747</td>\n",
       "      <td>0.319546</td>\n",
       "      <td>0.582968</td>\n",
       "      <td>00:48</td>\n",
       "    </tr>\n",
       "    <tr>\n",
       "      <td>5</td>\n",
       "      <td>1.461968</td>\n",
       "      <td>2.584419</td>\n",
       "      <td>0.337226</td>\n",
       "      <td>0.591079</td>\n",
       "      <td>00:48</td>\n",
       "    </tr>\n",
       "    <tr>\n",
       "      <td>6</td>\n",
       "      <td>1.308068</td>\n",
       "      <td>2.622968</td>\n",
       "      <td>0.351176</td>\n",
       "      <td>0.589375</td>\n",
       "      <td>00:48</td>\n",
       "    </tr>\n",
       "    <tr>\n",
       "      <td>7</td>\n",
       "      <td>1.188873</td>\n",
       "      <td>2.593885</td>\n",
       "      <td>0.361395</td>\n",
       "      <td>0.595296</td>\n",
       "      <td>00:48</td>\n",
       "    </tr>\n",
       "    <tr>\n",
       "      <td>8</td>\n",
       "      <td>1.137205</td>\n",
       "      <td>2.622176</td>\n",
       "      <td>0.364558</td>\n",
       "      <td>0.594079</td>\n",
       "      <td>00:48</td>\n",
       "    </tr>\n",
       "    <tr>\n",
       "      <td>9</td>\n",
       "      <td>1.108838</td>\n",
       "      <td>2.605835</td>\n",
       "      <td>0.361557</td>\n",
       "      <td>0.595539</td>\n",
       "      <td>00:48</td>\n",
       "    </tr>\n",
       "  </tbody>\n",
       "</table>"
      ],
      "text/plain": [
       "<IPython.core.display.HTML object>"
      ]
     },
     "metadata": {},
     "output_type": "display_data"
    },
    {
     "data": {
      "text/html": [
       "<table border=\"1\" class=\"dataframe\">\n",
       "  <thead>\n",
       "    <tr style=\"text-align: left;\">\n",
       "      <th>epoch</th>\n",
       "      <th>train_loss</th>\n",
       "      <th>valid_loss</th>\n",
       "      <th>accuracy</th>\n",
       "      <th>top_k_accuracy</th>\n",
       "      <th>time</th>\n",
       "    </tr>\n",
       "  </thead>\n",
       "  <tbody>\n",
       "    <tr>\n",
       "      <td>0</td>\n",
       "      <td>1.060928</td>\n",
       "      <td>2.614197</td>\n",
       "      <td>0.349878</td>\n",
       "      <td>0.601946</td>\n",
       "      <td>01:02</td>\n",
       "    </tr>\n",
       "    <tr>\n",
       "      <td>1</td>\n",
       "      <td>1.049840</td>\n",
       "      <td>2.974785</td>\n",
       "      <td>0.285483</td>\n",
       "      <td>0.544526</td>\n",
       "      <td>01:02</td>\n",
       "    </tr>\n",
       "    <tr>\n",
       "      <td>2</td>\n",
       "      <td>0.714234</td>\n",
       "      <td>2.825806</td>\n",
       "      <td>0.362206</td>\n",
       "      <td>0.595215</td>\n",
       "      <td>01:02</td>\n",
       "    </tr>\n",
       "    <tr>\n",
       "      <td>3</td>\n",
       "      <td>0.397325</td>\n",
       "      <td>3.095306</td>\n",
       "      <td>0.394242</td>\n",
       "      <td>0.624331</td>\n",
       "      <td>01:02</td>\n",
       "    </tr>\n",
       "    <tr>\n",
       "      <td>4</td>\n",
       "      <td>0.246598</td>\n",
       "      <td>3.255173</td>\n",
       "      <td>0.391484</td>\n",
       "      <td>0.616383</td>\n",
       "      <td>01:02</td>\n",
       "    </tr>\n",
       "    <tr>\n",
       "      <td>5</td>\n",
       "      <td>0.142461</td>\n",
       "      <td>3.069091</td>\n",
       "      <td>0.433901</td>\n",
       "      <td>0.636091</td>\n",
       "      <td>01:02</td>\n",
       "    </tr>\n",
       "    <tr>\n",
       "      <td>6</td>\n",
       "      <td>0.094466</td>\n",
       "      <td>3.225919</td>\n",
       "      <td>0.452393</td>\n",
       "      <td>0.643715</td>\n",
       "      <td>01:02</td>\n",
       "    </tr>\n",
       "    <tr>\n",
       "      <td>7</td>\n",
       "      <td>0.065208</td>\n",
       "      <td>3.233205</td>\n",
       "      <td>0.457664</td>\n",
       "      <td>0.649311</td>\n",
       "      <td>01:02</td>\n",
       "    </tr>\n",
       "    <tr>\n",
       "      <td>8</td>\n",
       "      <td>0.049633</td>\n",
       "      <td>3.392122</td>\n",
       "      <td>0.458962</td>\n",
       "      <td>0.652960</td>\n",
       "      <td>01:02</td>\n",
       "    </tr>\n",
       "    <tr>\n",
       "      <td>9</td>\n",
       "      <td>0.036947</td>\n",
       "      <td>3.485261</td>\n",
       "      <td>0.459611</td>\n",
       "      <td>0.649635</td>\n",
       "      <td>01:02</td>\n",
       "    </tr>\n",
       "  </tbody>\n",
       "</table>"
      ],
      "text/plain": [
       "<IPython.core.display.HTML object>"
      ]
     },
     "metadata": {},
     "output_type": "display_data"
    },
    {
     "data": {
      "text/html": [
       "<table border=\"1\" class=\"dataframe\">\n",
       "  <thead>\n",
       "    <tr style=\"text-align: left;\">\n",
       "      <th>epoch</th>\n",
       "      <th>train_loss</th>\n",
       "      <th>valid_loss</th>\n",
       "      <th>accuracy</th>\n",
       "      <th>top_k_accuracy</th>\n",
       "      <th>time</th>\n",
       "    </tr>\n",
       "  </thead>\n",
       "  <tbody>\n",
       "    <tr>\n",
       "      <td>0</td>\n",
       "      <td>3.604941</td>\n",
       "      <td>3.183689</td>\n",
       "      <td>0.187510</td>\n",
       "      <td>0.458394</td>\n",
       "      <td>00:48</td>\n",
       "    </tr>\n",
       "    <tr>\n",
       "      <td>1</td>\n",
       "      <td>2.592589</td>\n",
       "      <td>2.854240</td>\n",
       "      <td>0.238686</td>\n",
       "      <td>0.520519</td>\n",
       "      <td>00:48</td>\n",
       "    </tr>\n",
       "    <tr>\n",
       "      <td>2</td>\n",
       "      <td>2.114360</td>\n",
       "      <td>2.791667</td>\n",
       "      <td>0.270073</td>\n",
       "      <td>0.549148</td>\n",
       "      <td>00:48</td>\n",
       "    </tr>\n",
       "    <tr>\n",
       "      <td>3</td>\n",
       "      <td>1.844657</td>\n",
       "      <td>2.681212</td>\n",
       "      <td>0.297242</td>\n",
       "      <td>0.567234</td>\n",
       "      <td>00:48</td>\n",
       "    </tr>\n",
       "    <tr>\n",
       "      <td>4</td>\n",
       "      <td>1.639343</td>\n",
       "      <td>2.650315</td>\n",
       "      <td>0.314923</td>\n",
       "      <td>0.576480</td>\n",
       "      <td>00:48</td>\n",
       "    </tr>\n",
       "    <tr>\n",
       "      <td>5</td>\n",
       "      <td>1.459378</td>\n",
       "      <td>2.624608</td>\n",
       "      <td>0.330495</td>\n",
       "      <td>0.587997</td>\n",
       "      <td>00:48</td>\n",
       "    </tr>\n",
       "    <tr>\n",
       "      <td>6</td>\n",
       "      <td>1.326991</td>\n",
       "      <td>2.654064</td>\n",
       "      <td>0.349067</td>\n",
       "      <td>0.597891</td>\n",
       "      <td>00:48</td>\n",
       "    </tr>\n",
       "    <tr>\n",
       "      <td>7</td>\n",
       "      <td>1.203539</td>\n",
       "      <td>2.644008</td>\n",
       "      <td>0.353933</td>\n",
       "      <td>0.599838</td>\n",
       "      <td>00:48</td>\n",
       "    </tr>\n",
       "    <tr>\n",
       "      <td>8</td>\n",
       "      <td>1.133538</td>\n",
       "      <td>2.652872</td>\n",
       "      <td>0.358800</td>\n",
       "      <td>0.600162</td>\n",
       "      <td>00:48</td>\n",
       "    </tr>\n",
       "    <tr>\n",
       "      <td>9</td>\n",
       "      <td>1.096660</td>\n",
       "      <td>2.647113</td>\n",
       "      <td>0.358475</td>\n",
       "      <td>0.599351</td>\n",
       "      <td>00:48</td>\n",
       "    </tr>\n",
       "  </tbody>\n",
       "</table>"
      ],
      "text/plain": [
       "<IPython.core.display.HTML object>"
      ]
     },
     "metadata": {},
     "output_type": "display_data"
    },
    {
     "data": {
      "text/html": [
       "<table border=\"1\" class=\"dataframe\">\n",
       "  <thead>\n",
       "    <tr style=\"text-align: left;\">\n",
       "      <th>epoch</th>\n",
       "      <th>train_loss</th>\n",
       "      <th>valid_loss</th>\n",
       "      <th>accuracy</th>\n",
       "      <th>top_k_accuracy</th>\n",
       "      <th>time</th>\n",
       "    </tr>\n",
       "  </thead>\n",
       "  <tbody>\n",
       "    <tr>\n",
       "      <td>0</td>\n",
       "      <td>1.062255</td>\n",
       "      <td>2.718552</td>\n",
       "      <td>0.346553</td>\n",
       "      <td>0.594647</td>\n",
       "      <td>01:02</td>\n",
       "    </tr>\n",
       "    <tr>\n",
       "      <td>1</td>\n",
       "      <td>1.050670</td>\n",
       "      <td>3.124358</td>\n",
       "      <td>0.299270</td>\n",
       "      <td>0.578345</td>\n",
       "      <td>01:02</td>\n",
       "    </tr>\n",
       "    <tr>\n",
       "      <td>2</td>\n",
       "      <td>0.712572</td>\n",
       "      <td>2.996369</td>\n",
       "      <td>0.332522</td>\n",
       "      <td>0.582806</td>\n",
       "      <td>01:02</td>\n",
       "    </tr>\n",
       "    <tr>\n",
       "      <td>3</td>\n",
       "      <td>0.395038</td>\n",
       "      <td>3.210595</td>\n",
       "      <td>0.368613</td>\n",
       "      <td>0.608029</td>\n",
       "      <td>01:02</td>\n",
       "    </tr>\n",
       "    <tr>\n",
       "      <td>4</td>\n",
       "      <td>0.251199</td>\n",
       "      <td>3.445119</td>\n",
       "      <td>0.379238</td>\n",
       "      <td>0.606569</td>\n",
       "      <td>01:02</td>\n",
       "    </tr>\n",
       "    <tr>\n",
       "      <td>5</td>\n",
       "      <td>0.153246</td>\n",
       "      <td>3.374262</td>\n",
       "      <td>0.442822</td>\n",
       "      <td>0.637794</td>\n",
       "      <td>01:02</td>\n",
       "    </tr>\n",
       "    <tr>\n",
       "      <td>6</td>\n",
       "      <td>0.096500</td>\n",
       "      <td>3.151326</td>\n",
       "      <td>0.452960</td>\n",
       "      <td>0.647607</td>\n",
       "      <td>01:02</td>\n",
       "    </tr>\n",
       "    <tr>\n",
       "      <td>7</td>\n",
       "      <td>0.066969</td>\n",
       "      <td>3.371972</td>\n",
       "      <td>0.461963</td>\n",
       "      <td>0.658962</td>\n",
       "      <td>01:02</td>\n",
       "    </tr>\n",
       "    <tr>\n",
       "      <td>8</td>\n",
       "      <td>0.046352</td>\n",
       "      <td>3.459576</td>\n",
       "      <td>0.467153</td>\n",
       "      <td>0.658881</td>\n",
       "      <td>01:02</td>\n",
       "    </tr>\n",
       "    <tr>\n",
       "      <td>9</td>\n",
       "      <td>0.035848</td>\n",
       "      <td>3.549564</td>\n",
       "      <td>0.469100</td>\n",
       "      <td>0.658800</td>\n",
       "      <td>01:02</td>\n",
       "    </tr>\n",
       "  </tbody>\n",
       "</table>"
      ],
      "text/plain": [
       "<IPython.core.display.HTML object>"
      ]
     },
     "metadata": {},
     "output_type": "display_data"
    }
   ],
   "source": [
    "img_path = path2/'img11'\n",
    "\n",
    "data = (\n",
    "    fastai.vision.ImageList.from_folder(img_path, extensions='.png')\n",
    "    .split_by_folder(train='train', valid='valid')\n",
    "    .label_from_re(r'.*\\.(\\d{1,3})\\.png$')\n",
    "    .transform([[], []])\n",
    "    .databunch(\n",
    "        bs=500,\n",
    "    )\n",
    ")\n",
    "\n",
    "for _ in range(3):\n",
    "    with torch.utils.tensorboard.SummaryWriter(comment='__img11_fastai_tmp_wd') as tbw:\n",
    "        @dataclasses.dataclass\n",
    "        class MyCallback(fastai.callback.Callback):\n",
    "            learn: typing.Any\n",
    "\n",
    "            def on_epoch_end(self, epoch, last_metrics, **kwargs):\n",
    "                names = (\n",
    "                    'Loss/valid/fastai',\n",
    "                    'Accuracy/valid/fastai',\n",
    "                    'Accuracy/valid_top_5/fastai',\n",
    "                )\n",
    "                assert len(last_metrics) == len(names)\n",
    "\n",
    "                for name, val in zip(names, last_metrics):\n",
    "                    tbw.add_scalar(name, val, epoch)\n",
    "\n",
    "        learn = fastai.vision.cnn_learner(\n",
    "            data,\n",
    "            fastai.vision.models.resnet18,  # fastai passes pretrained=True\n",
    "            metrics=[\n",
    "                fastai.metrics.accuracy,\n",
    "                fastai.metrics.top_k_accuracy,\n",
    "            ],\n",
    "            callback_fns=[MyCallback],\n",
    "        )\n",
    "\n",
    "        learn.fit_one_cycle(10, 2e-3, wd=0.01)\n",
    "        \n",
    "        learn.unfreeze()\n",
    "        \n",
    "        learn.fit_one_cycle(10, 1e-3, wd=0.01)"
   ]
  },
  {
   "cell_type": "code",
   "execution_count": 4,
   "metadata": {},
   "outputs": [
    {
     "data": {
      "text/html": [
       "\n",
       "    <div>\n",
       "        <style>\n",
       "            /* Turns off some styling */\n",
       "            progress {\n",
       "                /* gets rid of default border in Firefox and Opera. */\n",
       "                border: none;\n",
       "                /* Needs to be in here for Safari polyfill so background images work as expected. */\n",
       "                background-size: auto;\n",
       "            }\n",
       "            .progress-bar-interrupted, .progress-bar-interrupted::-webkit-progress-bar {\n",
       "                background: #F44336;\n",
       "            }\n",
       "        </style>\n",
       "      <progress value='0' class='' max='1' style='width:300px; height:20px; vertical-align: middle;'></progress>\n",
       "      0.00% [0/1 00:00<00:00]\n",
       "    </div>\n",
       "    \n",
       "<table border=\"1\" class=\"dataframe\">\n",
       "  <thead>\n",
       "    <tr style=\"text-align: left;\">\n",
       "      <th>epoch</th>\n",
       "      <th>train_loss</th>\n",
       "      <th>valid_loss</th>\n",
       "      <th>accuracy</th>\n",
       "      <th>top_k_accuracy</th>\n",
       "      <th>time</th>\n",
       "    </tr>\n",
       "  </thead>\n",
       "  <tbody>\n",
       "  </tbody>\n",
       "</table><p>\n",
       "\n",
       "    <div>\n",
       "        <style>\n",
       "            /* Turns off some styling */\n",
       "            progress {\n",
       "                /* gets rid of default border in Firefox and Opera. */\n",
       "                border: none;\n",
       "                /* Needs to be in here for Safari polyfill so background images work as expected. */\n",
       "                background-size: auto;\n",
       "            }\n",
       "            .progress-bar-interrupted, .progress-bar-interrupted::-webkit-progress-bar {\n",
       "                background: #F44336;\n",
       "            }\n",
       "        </style>\n",
       "      <progress value='87' class='' max='175' style='width:300px; height:20px; vertical-align: middle;'></progress>\n",
       "      49.71% [87/175 00:21<00:21 3.1501]\n",
       "    </div>\n",
       "    "
      ],
      "text/plain": [
       "<IPython.core.display.HTML object>"
      ]
     },
     "metadata": {},
     "output_type": "display_data"
    },
    {
     "name": "stdout",
     "output_type": "stream",
     "text": [
      "LR Finder is complete, type {learner_name}.recorder.plot() to see the graph.\n"
     ]
    },
    {
     "ename": "AssertionError",
     "evalue": "",
     "output_type": "error",
     "traceback": [
      "\u001b[0;31m-------------------------------------------------------------\u001b[0m",
      "\u001b[0;31mAssertionError\u001b[0m              Traceback (most recent call last)",
      "\u001b[0;32m<ipython-input-4-c7a9c29f9dd1>\u001b[0m in \u001b[0;36m<module>\u001b[0;34m\u001b[0m\n\u001b[0;32m----> 1\u001b[0;31m \u001b[0mlearn\u001b[0m\u001b[0;34m.\u001b[0m\u001b[0mlr_find\u001b[0m\u001b[0;34m(\u001b[0m\u001b[0;34m)\u001b[0m\u001b[0;34m\u001b[0m\u001b[0;34m\u001b[0m\u001b[0m\n\u001b[0m\u001b[1;32m      2\u001b[0m \u001b[0mlearn\u001b[0m\u001b[0;34m.\u001b[0m\u001b[0mrecorder\u001b[0m\u001b[0;34m.\u001b[0m\u001b[0mplot\u001b[0m\u001b[0;34m(\u001b[0m\u001b[0;34m)\u001b[0m\u001b[0;34m\u001b[0m\u001b[0;34m\u001b[0m\u001b[0m\n",
      "\u001b[0;32m~/sandbox/smc_challenge2/smc_env/lib/python3.7/site-packages/fastai/train.py\u001b[0m in \u001b[0;36mlr_find\u001b[0;34m(learn, start_lr, end_lr, num_it, stop_div, wd)\u001b[0m\n\u001b[1;32m     39\u001b[0m     \u001b[0mcb\u001b[0m \u001b[0;34m=\u001b[0m \u001b[0mLRFinder\u001b[0m\u001b[0;34m(\u001b[0m\u001b[0mlearn\u001b[0m\u001b[0;34m,\u001b[0m \u001b[0mstart_lr\u001b[0m\u001b[0;34m,\u001b[0m \u001b[0mend_lr\u001b[0m\u001b[0;34m,\u001b[0m \u001b[0mnum_it\u001b[0m\u001b[0;34m,\u001b[0m \u001b[0mstop_div\u001b[0m\u001b[0;34m)\u001b[0m\u001b[0;34m\u001b[0m\u001b[0;34m\u001b[0m\u001b[0m\n\u001b[1;32m     40\u001b[0m     \u001b[0mepochs\u001b[0m \u001b[0;34m=\u001b[0m \u001b[0mint\u001b[0m\u001b[0;34m(\u001b[0m\u001b[0mnp\u001b[0m\u001b[0;34m.\u001b[0m\u001b[0mceil\u001b[0m\u001b[0;34m(\u001b[0m\u001b[0mnum_it\u001b[0m\u001b[0;34m/\u001b[0m\u001b[0mlen\u001b[0m\u001b[0;34m(\u001b[0m\u001b[0mlearn\u001b[0m\u001b[0;34m.\u001b[0m\u001b[0mdata\u001b[0m\u001b[0;34m.\u001b[0m\u001b[0mtrain_dl\u001b[0m\u001b[0;34m)\u001b[0m\u001b[0;34m)\u001b[0m\u001b[0;34m)\u001b[0m \u001b[0;34m*\u001b[0m \u001b[0;34m(\u001b[0m\u001b[0mnum_distrib\u001b[0m\u001b[0;34m(\u001b[0m\u001b[0;34m)\u001b[0m \u001b[0;32mor\u001b[0m \u001b[0;36m1\u001b[0m\u001b[0;34m)\u001b[0m\u001b[0;34m\u001b[0m\u001b[0;34m\u001b[0m\u001b[0m\n\u001b[0;32m---> 41\u001b[0;31m     \u001b[0mlearn\u001b[0m\u001b[0;34m.\u001b[0m\u001b[0mfit\u001b[0m\u001b[0;34m(\u001b[0m\u001b[0mepochs\u001b[0m\u001b[0;34m,\u001b[0m \u001b[0mstart_lr\u001b[0m\u001b[0;34m,\u001b[0m \u001b[0mcallbacks\u001b[0m\u001b[0;34m=\u001b[0m\u001b[0;34m[\u001b[0m\u001b[0mcb\u001b[0m\u001b[0;34m]\u001b[0m\u001b[0;34m,\u001b[0m \u001b[0mwd\u001b[0m\u001b[0;34m=\u001b[0m\u001b[0mwd\u001b[0m\u001b[0;34m)\u001b[0m\u001b[0;34m\u001b[0m\u001b[0;34m\u001b[0m\u001b[0m\n\u001b[0m\u001b[1;32m     42\u001b[0m \u001b[0;34m\u001b[0m\u001b[0m\n\u001b[1;32m     43\u001b[0m def to_fp16(learn:Learner, loss_scale:float=None, max_noskip:int=1000, dynamic:bool=True, clip:float=None,\n",
      "\u001b[0;32m~/sandbox/smc_challenge2/smc_env/lib/python3.7/site-packages/fastai/basic_train.py\u001b[0m in \u001b[0;36mfit\u001b[0;34m(self, epochs, lr, wd, callbacks)\u001b[0m\n\u001b[1;32m    198\u001b[0m         \u001b[0;32melse\u001b[0m\u001b[0;34m:\u001b[0m \u001b[0mself\u001b[0m\u001b[0;34m.\u001b[0m\u001b[0mopt\u001b[0m\u001b[0;34m.\u001b[0m\u001b[0mlr\u001b[0m\u001b[0;34m,\u001b[0m\u001b[0mself\u001b[0m\u001b[0;34m.\u001b[0m\u001b[0mopt\u001b[0m\u001b[0;34m.\u001b[0m\u001b[0mwd\u001b[0m \u001b[0;34m=\u001b[0m \u001b[0mlr\u001b[0m\u001b[0;34m,\u001b[0m\u001b[0mwd\u001b[0m\u001b[0;34m\u001b[0m\u001b[0;34m\u001b[0m\u001b[0m\n\u001b[1;32m    199\u001b[0m         \u001b[0mcallbacks\u001b[0m \u001b[0;34m=\u001b[0m \u001b[0;34m[\u001b[0m\u001b[0mcb\u001b[0m\u001b[0;34m(\u001b[0m\u001b[0mself\u001b[0m\u001b[0;34m)\u001b[0m \u001b[0;32mfor\u001b[0m \u001b[0mcb\u001b[0m \u001b[0;32min\u001b[0m \u001b[0mself\u001b[0m\u001b[0;34m.\u001b[0m\u001b[0mcallback_fns\u001b[0m \u001b[0;34m+\u001b[0m \u001b[0mlistify\u001b[0m\u001b[0;34m(\u001b[0m\u001b[0mdefaults\u001b[0m\u001b[0;34m.\u001b[0m\u001b[0mextra_callback_fns\u001b[0m\u001b[0;34m)\u001b[0m\u001b[0;34m]\u001b[0m \u001b[0;34m+\u001b[0m \u001b[0mlistify\u001b[0m\u001b[0;34m(\u001b[0m\u001b[0mcallbacks\u001b[0m\u001b[0;34m)\u001b[0m\u001b[0;34m\u001b[0m\u001b[0;34m\u001b[0m\u001b[0m\n\u001b[0;32m--> 200\u001b[0;31m         \u001b[0mfit\u001b[0m\u001b[0;34m(\u001b[0m\u001b[0mepochs\u001b[0m\u001b[0;34m,\u001b[0m \u001b[0mself\u001b[0m\u001b[0;34m,\u001b[0m \u001b[0mmetrics\u001b[0m\u001b[0;34m=\u001b[0m\u001b[0mself\u001b[0m\u001b[0;34m.\u001b[0m\u001b[0mmetrics\u001b[0m\u001b[0;34m,\u001b[0m \u001b[0mcallbacks\u001b[0m\u001b[0;34m=\u001b[0m\u001b[0mself\u001b[0m\u001b[0;34m.\u001b[0m\u001b[0mcallbacks\u001b[0m\u001b[0;34m+\u001b[0m\u001b[0mcallbacks\u001b[0m\u001b[0;34m)\u001b[0m\u001b[0;34m\u001b[0m\u001b[0;34m\u001b[0m\u001b[0m\n\u001b[0m\u001b[1;32m    201\u001b[0m \u001b[0;34m\u001b[0m\u001b[0m\n\u001b[1;32m    202\u001b[0m     \u001b[0;32mdef\u001b[0m \u001b[0mcreate_opt\u001b[0m\u001b[0;34m(\u001b[0m\u001b[0mself\u001b[0m\u001b[0;34m,\u001b[0m \u001b[0mlr\u001b[0m\u001b[0;34m:\u001b[0m\u001b[0mFloats\u001b[0m\u001b[0;34m,\u001b[0m \u001b[0mwd\u001b[0m\u001b[0;34m:\u001b[0m\u001b[0mFloats\u001b[0m\u001b[0;34m=\u001b[0m\u001b[0;36m0.\u001b[0m\u001b[0;34m)\u001b[0m\u001b[0;34m->\u001b[0m\u001b[0;32mNone\u001b[0m\u001b[0;34m:\u001b[0m\u001b[0;34m\u001b[0m\u001b[0;34m\u001b[0m\u001b[0m\n",
      "\u001b[0;32m~/sandbox/smc_challenge2/smc_env/lib/python3.7/site-packages/fastai/basic_train.py\u001b[0m in \u001b[0;36mfit\u001b[0;34m(epochs, learn, callbacks, metrics)\u001b[0m\n\u001b[1;32m    106\u001b[0m                                        cb_handler=cb_handler, pbar=pbar)\n\u001b[1;32m    107\u001b[0m             \u001b[0;32melse\u001b[0m\u001b[0;34m:\u001b[0m \u001b[0mval_loss\u001b[0m\u001b[0;34m=\u001b[0m\u001b[0;32mNone\u001b[0m\u001b[0;34m\u001b[0m\u001b[0;34m\u001b[0m\u001b[0m\n\u001b[0;32m--> 108\u001b[0;31m             \u001b[0;32mif\u001b[0m \u001b[0mcb_handler\u001b[0m\u001b[0;34m.\u001b[0m\u001b[0mon_epoch_end\u001b[0m\u001b[0;34m(\u001b[0m\u001b[0mval_loss\u001b[0m\u001b[0;34m)\u001b[0m\u001b[0;34m:\u001b[0m \u001b[0;32mbreak\u001b[0m\u001b[0;34m\u001b[0m\u001b[0;34m\u001b[0m\u001b[0m\n\u001b[0m\u001b[1;32m    109\u001b[0m     \u001b[0;32mexcept\u001b[0m \u001b[0mException\u001b[0m \u001b[0;32mas\u001b[0m \u001b[0me\u001b[0m\u001b[0;34m:\u001b[0m\u001b[0;34m\u001b[0m\u001b[0;34m\u001b[0m\u001b[0m\n\u001b[1;32m    110\u001b[0m         \u001b[0mexception\u001b[0m \u001b[0;34m=\u001b[0m \u001b[0me\u001b[0m\u001b[0;34m\u001b[0m\u001b[0;34m\u001b[0m\u001b[0m\n",
      "\u001b[0;32m~/sandbox/smc_challenge2/smc_env/lib/python3.7/site-packages/fastai/callback.py\u001b[0m in \u001b[0;36mon_epoch_end\u001b[0;34m(self, val_loss)\u001b[0m\n\u001b[1;32m    315\u001b[0m         \u001b[0;34m\"Epoch is done, process `val_loss`.\"\u001b[0m\u001b[0;34m\u001b[0m\u001b[0;34m\u001b[0m\u001b[0m\n\u001b[1;32m    316\u001b[0m         \u001b[0mself\u001b[0m\u001b[0;34m.\u001b[0m\u001b[0mstate_dict\u001b[0m\u001b[0;34m[\u001b[0m\u001b[0;34m'last_metrics'\u001b[0m\u001b[0;34m]\u001b[0m \u001b[0;34m=\u001b[0m \u001b[0;34m[\u001b[0m\u001b[0mval_loss\u001b[0m\u001b[0;34m]\u001b[0m \u001b[0;32mif\u001b[0m \u001b[0mval_loss\u001b[0m \u001b[0;32mis\u001b[0m \u001b[0;32mnot\u001b[0m \u001b[0;32mNone\u001b[0m \u001b[0;32melse\u001b[0m \u001b[0;34m[\u001b[0m\u001b[0;32mNone\u001b[0m\u001b[0;34m]\u001b[0m\u001b[0;34m\u001b[0m\u001b[0;34m\u001b[0m\u001b[0m\n\u001b[0;32m--> 317\u001b[0;31m         \u001b[0mself\u001b[0m\u001b[0;34m(\u001b[0m\u001b[0;34m'epoch_end'\u001b[0m\u001b[0;34m,\u001b[0m \u001b[0mcall_mets\u001b[0m \u001b[0;34m=\u001b[0m \u001b[0mval_loss\u001b[0m \u001b[0;32mis\u001b[0m \u001b[0;32mnot\u001b[0m \u001b[0;32mNone\u001b[0m\u001b[0;34m)\u001b[0m\u001b[0;34m\u001b[0m\u001b[0;34m\u001b[0m\u001b[0m\n\u001b[0m\u001b[1;32m    318\u001b[0m         \u001b[0mself\u001b[0m\u001b[0;34m.\u001b[0m\u001b[0mstate_dict\u001b[0m\u001b[0;34m[\u001b[0m\u001b[0;34m'epoch'\u001b[0m\u001b[0;34m]\u001b[0m \u001b[0;34m+=\u001b[0m \u001b[0;36m1\u001b[0m\u001b[0;34m\u001b[0m\u001b[0;34m\u001b[0m\u001b[0m\n\u001b[1;32m    319\u001b[0m         \u001b[0;32mreturn\u001b[0m \u001b[0mself\u001b[0m\u001b[0;34m.\u001b[0m\u001b[0mstate_dict\u001b[0m\u001b[0;34m[\u001b[0m\u001b[0;34m'stop_training'\u001b[0m\u001b[0;34m]\u001b[0m\u001b[0;34m\u001b[0m\u001b[0;34m\u001b[0m\u001b[0m\n",
      "\u001b[0;32m~/sandbox/smc_challenge2/smc_env/lib/python3.7/site-packages/fastai/callback.py\u001b[0m in \u001b[0;36m__call__\u001b[0;34m(self, cb_name, call_mets, **kwargs)\u001b[0m\n\u001b[1;32m    249\u001b[0m         \u001b[0;32mif\u001b[0m \u001b[0mcall_mets\u001b[0m\u001b[0;34m:\u001b[0m\u001b[0;34m\u001b[0m\u001b[0;34m\u001b[0m\u001b[0m\n\u001b[1;32m    250\u001b[0m             \u001b[0;32mfor\u001b[0m \u001b[0mmet\u001b[0m \u001b[0;32min\u001b[0m \u001b[0mself\u001b[0m\u001b[0;34m.\u001b[0m\u001b[0mmetrics\u001b[0m\u001b[0;34m:\u001b[0m \u001b[0mself\u001b[0m\u001b[0;34m.\u001b[0m\u001b[0m_call_and_update\u001b[0m\u001b[0;34m(\u001b[0m\u001b[0mmet\u001b[0m\u001b[0;34m,\u001b[0m \u001b[0mcb_name\u001b[0m\u001b[0;34m,\u001b[0m \u001b[0;34m**\u001b[0m\u001b[0mkwargs\u001b[0m\u001b[0;34m)\u001b[0m\u001b[0;34m\u001b[0m\u001b[0;34m\u001b[0m\u001b[0m\n\u001b[0;32m--> 251\u001b[0;31m         \u001b[0;32mfor\u001b[0m \u001b[0mcb\u001b[0m \u001b[0;32min\u001b[0m \u001b[0mself\u001b[0m\u001b[0;34m.\u001b[0m\u001b[0mcallbacks\u001b[0m\u001b[0;34m:\u001b[0m \u001b[0mself\u001b[0m\u001b[0;34m.\u001b[0m\u001b[0m_call_and_update\u001b[0m\u001b[0;34m(\u001b[0m\u001b[0mcb\u001b[0m\u001b[0;34m,\u001b[0m \u001b[0mcb_name\u001b[0m\u001b[0;34m,\u001b[0m \u001b[0;34m**\u001b[0m\u001b[0mkwargs\u001b[0m\u001b[0;34m)\u001b[0m\u001b[0;34m\u001b[0m\u001b[0;34m\u001b[0m\u001b[0m\n\u001b[0m\u001b[1;32m    252\u001b[0m \u001b[0;34m\u001b[0m\u001b[0m\n\u001b[1;32m    253\u001b[0m     \u001b[0;32mdef\u001b[0m \u001b[0mset_dl\u001b[0m\u001b[0;34m(\u001b[0m\u001b[0mself\u001b[0m\u001b[0;34m,\u001b[0m \u001b[0mdl\u001b[0m\u001b[0;34m:\u001b[0m\u001b[0mDataLoader\u001b[0m\u001b[0;34m)\u001b[0m\u001b[0;34m:\u001b[0m\u001b[0;34m\u001b[0m\u001b[0;34m\u001b[0m\u001b[0m\n",
      "\u001b[0;32m~/sandbox/smc_challenge2/smc_env/lib/python3.7/site-packages/fastai/callback.py\u001b[0m in \u001b[0;36m_call_and_update\u001b[0;34m(self, cb, cb_name, **kwargs)\u001b[0m\n\u001b[1;32m    239\u001b[0m     \u001b[0;32mdef\u001b[0m \u001b[0m_call_and_update\u001b[0m\u001b[0;34m(\u001b[0m\u001b[0mself\u001b[0m\u001b[0;34m,\u001b[0m \u001b[0mcb\u001b[0m\u001b[0;34m,\u001b[0m \u001b[0mcb_name\u001b[0m\u001b[0;34m,\u001b[0m \u001b[0;34m**\u001b[0m\u001b[0mkwargs\u001b[0m\u001b[0;34m)\u001b[0m\u001b[0;34m->\u001b[0m\u001b[0;32mNone\u001b[0m\u001b[0;34m:\u001b[0m\u001b[0;34m\u001b[0m\u001b[0;34m\u001b[0m\u001b[0m\n\u001b[1;32m    240\u001b[0m         \u001b[0;34m\"Call `cb_name` on `cb` and update the inner state.\"\u001b[0m\u001b[0;34m\u001b[0m\u001b[0;34m\u001b[0m\u001b[0m\n\u001b[0;32m--> 241\u001b[0;31m         \u001b[0mnew\u001b[0m \u001b[0;34m=\u001b[0m \u001b[0mifnone\u001b[0m\u001b[0;34m(\u001b[0m\u001b[0mgetattr\u001b[0m\u001b[0;34m(\u001b[0m\u001b[0mcb\u001b[0m\u001b[0;34m,\u001b[0m \u001b[0;34mf'on_{cb_name}'\u001b[0m\u001b[0;34m)\u001b[0m\u001b[0;34m(\u001b[0m\u001b[0;34m**\u001b[0m\u001b[0mself\u001b[0m\u001b[0;34m.\u001b[0m\u001b[0mstate_dict\u001b[0m\u001b[0;34m,\u001b[0m \u001b[0;34m**\u001b[0m\u001b[0mkwargs\u001b[0m\u001b[0;34m)\u001b[0m\u001b[0;34m,\u001b[0m \u001b[0mdict\u001b[0m\u001b[0;34m(\u001b[0m\u001b[0;34m)\u001b[0m\u001b[0;34m)\u001b[0m\u001b[0;34m\u001b[0m\u001b[0;34m\u001b[0m\u001b[0m\n\u001b[0m\u001b[1;32m    242\u001b[0m         \u001b[0;32mfor\u001b[0m \u001b[0mk\u001b[0m\u001b[0;34m,\u001b[0m\u001b[0mv\u001b[0m \u001b[0;32min\u001b[0m \u001b[0mnew\u001b[0m\u001b[0;34m.\u001b[0m\u001b[0mitems\u001b[0m\u001b[0;34m(\u001b[0m\u001b[0;34m)\u001b[0m\u001b[0;34m:\u001b[0m\u001b[0;34m\u001b[0m\u001b[0;34m\u001b[0m\u001b[0m\n\u001b[1;32m    243\u001b[0m             \u001b[0;32mif\u001b[0m \u001b[0mk\u001b[0m \u001b[0;32mnot\u001b[0m \u001b[0;32min\u001b[0m \u001b[0mself\u001b[0m\u001b[0;34m.\u001b[0m\u001b[0mstate_dict\u001b[0m\u001b[0;34m:\u001b[0m\u001b[0;34m\u001b[0m\u001b[0;34m\u001b[0m\u001b[0m\n",
      "\u001b[0;32m<ipython-input-3-b83db715fc0b>\u001b[0m in \u001b[0;36mon_epoch_end\u001b[0;34m(self, epoch, last_metrics, **kwargs)\u001b[0m\n\u001b[1;32m     23\u001b[0m                     \u001b[0;34m'Accuracy/valid_top_5/fastai'\u001b[0m\u001b[0;34m,\u001b[0m\u001b[0;34m\u001b[0m\u001b[0;34m\u001b[0m\u001b[0m\n\u001b[1;32m     24\u001b[0m                 )\n\u001b[0;32m---> 25\u001b[0;31m                 \u001b[0;32massert\u001b[0m \u001b[0mlen\u001b[0m\u001b[0;34m(\u001b[0m\u001b[0mlast_metrics\u001b[0m\u001b[0;34m)\u001b[0m \u001b[0;34m==\u001b[0m \u001b[0mlen\u001b[0m\u001b[0;34m(\u001b[0m\u001b[0mnames\u001b[0m\u001b[0;34m)\u001b[0m\u001b[0;34m\u001b[0m\u001b[0;34m\u001b[0m\u001b[0m\n\u001b[0m\u001b[1;32m     26\u001b[0m \u001b[0;34m\u001b[0m\u001b[0m\n\u001b[1;32m     27\u001b[0m                 \u001b[0;32mfor\u001b[0m \u001b[0mname\u001b[0m\u001b[0;34m,\u001b[0m \u001b[0mval\u001b[0m \u001b[0;32min\u001b[0m \u001b[0mzip\u001b[0m\u001b[0;34m(\u001b[0m\u001b[0mnames\u001b[0m\u001b[0;34m,\u001b[0m \u001b[0mlast_metrics\u001b[0m\u001b[0;34m)\u001b[0m\u001b[0;34m:\u001b[0m\u001b[0;34m\u001b[0m\u001b[0;34m\u001b[0m\u001b[0m\n",
      "\u001b[0;31mAssertionError\u001b[0m: "
     ]
    }
   ],
   "source": [
    "learn.lr_find()\n",
    "learn.recorder.plot()"
   ]
  },
  {
   "cell_type": "code",
   "execution_count": 5,
   "metadata": {},
   "outputs": [
    {
     "data": {
      "image/png": "[encoded data removed]",
      "text/plain": [
       "<Figure size 432x288 with 1 Axes>"
      ]
     },
     "metadata": {
      "needs_background": "light"
     },
     "output_type": "display_data"
    }
   ],
   "source": [
    "learn.recorder.plot()"
   ]
  },
  {
   "cell_type": "code",
   "execution_count": null,
   "metadata": {},
   "outputs": [],
   "source": [
    "img_path = path2/'img9'\n",
    "\n",
    "data = (\n",
    "    fastai.vision.ImageList.from_folder(img_path, extensions='.png')\n",
    "    .split_by_folder(train='train', valid='valid')\n",
    "    .label_from_re(r'.*\\.(\\d{1,3})\\.png$')\n",
    "    .transform([[], []])\n",
    "    .databunch(\n",
    "        bs=500,\n",
    "    )\n",
    ")\n",
    "\n",
    "for _ in range(3):\n",
    "    with torch.utils.tensorboard.SummaryWriter(comment='__img9_fastai_tmp') as tbw:\n",
    "        @dataclasses.dataclass\n",
    "        class MyCallback(fastai.callback.Callback):\n",
    "            learn: typing.Any\n",
    "\n",
    "            def on_epoch_end(self, epoch, last_metrics, **kwargs):\n",
    "                names = (\n",
    "                    'Loss/valid/fastai',\n",
    "                    'Accuracy/valid/fastai',\n",
    "                    'Accuracy/valid_top_5/fastai',\n",
    "                )\n",
    "                assert len(last_metrics) == len(names)\n",
    "\n",
    "                for name, val in zip(names, last_metrics):\n",
    "                    tbw.add_scalar(name, val, epoch)\n",
    "\n",
    "        learn = fastai.vision.cnn_learner(\n",
    "            data,\n",
    "            fastai.vision.models.resnet18,  # fastai passes pretrained=True\n",
    "            metrics=[\n",
    "                fastai.metrics.accuracy,\n",
    "                fastai.metrics.top_k_accuracy,\n",
    "            ],\n",
    "            callback_fns=[MyCallback],\n",
    "        )\n",
    "\n",
    "        learn.fit_one_cycle(30, 1e-2)"
   ]
  },
  {
   "cell_type": "code",
   "execution_count": 24,
   "metadata": {},
   "outputs": [
    {
     "name": "stderr",
     "output_type": "stream",
     "text": [
      "/home/jin/sandbox/smc_challenge2/smc_env/lib/python3.7/site-packages/fastai/data_block.py:541: UserWarning: You are labelling your items with CategoryList.\n",
      "Your valid set contained the following unknown labels, the corresponding items have been discarded.\n",
      "230, 92\n",
      "  if getattr(ds, 'warn', False): warn(ds.warn)\n"
     ]
    }
   ],
   "source": [
    "img_path = path2/'img10'\n",
    "\n",
    "data = (\n",
    "    fastai.vision.ImageList.from_folder(img_path, extensions='.png')\n",
    "    .split_by_folder(train='train', valid='valid')\n",
    "    .label_from_re(r'.*\\.(\\d{1,3})\\.png$')\n",
    "    .transform([[], []])\n",
    "    .databunch(\n",
    "        bs=500,\n",
    "    )\n",
    ")\n",
    "\n",
    "learn = fastai.vision.cnn_learner(\n",
    "    data,\n",
    "    fastai.vision.models.resnet18,\n",
    ")"
   ]
  },
  {
   "cell_type": "code",
   "execution_count": 25,
   "metadata": {
    "collapsed": true,
    "jupyter": {
     "outputs_hidden": true
    }
   },
   "outputs": [
    {
     "data": {
      "text/html": [
       "\n",
       "    <div>\n",
       "        <style>\n",
       "            /* Turns off some styling */\n",
       "            progress {\n",
       "                /* gets rid of default border in Firefox and Opera. */\n",
       "                border: none;\n",
       "                /* Needs to be in here for Safari polyfill so background images work as expected. */\n",
       "                background-size: auto;\n",
       "            }\n",
       "            .progress-bar-interrupted, .progress-bar-interrupted::-webkit-progress-bar {\n",
       "                background: #F44336;\n",
       "            }\n",
       "        </style>\n",
       "      <progress value='14' class='' max='17' style='width:300px; height:20px; vertical-align: middle;'></progress>\n",
       "      82.35% [14/17 00:13<00:02]\n",
       "    </div>\n",
       "    \n",
       "<table border=\"1\" class=\"dataframe\">\n",
       "  <thead>\n",
       "    <tr style=\"text-align: left;\">\n",
       "      <th>epoch</th>\n",
       "      <th>train_loss</th>\n",
       "      <th>valid_loss</th>\n",
       "      <th>time</th>\n",
       "    </tr>\n",
       "  </thead>\n",
       "  <tbody>\n",
       "    <tr>\n",
       "      <td>0</td>\n",
       "      <td>5.117718</td>\n",
       "      <td>#na#</td>\n",
       "      <td>00:01</td>\n",
       "    </tr>\n",
       "    <tr>\n",
       "      <td>1</td>\n",
       "      <td>5.102060</td>\n",
       "      <td>#na#</td>\n",
       "      <td>00:00</td>\n",
       "    </tr>\n",
       "    <tr>\n",
       "      <td>2</td>\n",
       "      <td>5.102552</td>\n",
       "      <td>#na#</td>\n",
       "      <td>00:00</td>\n",
       "    </tr>\n",
       "    <tr>\n",
       "      <td>3</td>\n",
       "      <td>5.104964</td>\n",
       "      <td>#na#</td>\n",
       "      <td>00:00</td>\n",
       "    </tr>\n",
       "    <tr>\n",
       "      <td>4</td>\n",
       "      <td>5.110117</td>\n",
       "      <td>#na#</td>\n",
       "      <td>00:00</td>\n",
       "    </tr>\n",
       "    <tr>\n",
       "      <td>5</td>\n",
       "      <td>5.069524</td>\n",
       "      <td>#na#</td>\n",
       "      <td>00:00</td>\n",
       "    </tr>\n",
       "    <tr>\n",
       "      <td>6</td>\n",
       "      <td>4.998834</td>\n",
       "      <td>#na#</td>\n",
       "      <td>00:00</td>\n",
       "    </tr>\n",
       "    <tr>\n",
       "      <td>7</td>\n",
       "      <td>4.794426</td>\n",
       "      <td>#na#</td>\n",
       "      <td>00:00</td>\n",
       "    </tr>\n",
       "    <tr>\n",
       "      <td>8</td>\n",
       "      <td>4.361339</td>\n",
       "      <td>#na#</td>\n",
       "      <td>00:00</td>\n",
       "    </tr>\n",
       "    <tr>\n",
       "      <td>9</td>\n",
       "      <td>3.801827</td>\n",
       "      <td>#na#</td>\n",
       "      <td>00:00</td>\n",
       "    </tr>\n",
       "    <tr>\n",
       "      <td>10</td>\n",
       "      <td>3.259628</td>\n",
       "      <td>#na#</td>\n",
       "      <td>00:00</td>\n",
       "    </tr>\n",
       "    <tr>\n",
       "      <td>11</td>\n",
       "      <td>2.808293</td>\n",
       "      <td>#na#</td>\n",
       "      <td>00:00</td>\n",
       "    </tr>\n",
       "    <tr>\n",
       "      <td>12</td>\n",
       "      <td>2.529247</td>\n",
       "      <td>#na#</td>\n",
       "      <td>00:00</td>\n",
       "    </tr>\n",
       "    <tr>\n",
       "      <td>13</td>\n",
       "      <td>3.025884</td>\n",
       "      <td>#na#</td>\n",
       "      <td>00:00</td>\n",
       "    </tr>\n",
       "  </tbody>\n",
       "</table><p>\n",
       "\n",
       "    <div>\n",
       "        <style>\n",
       "            /* Turns off some styling */\n",
       "            progress {\n",
       "                /* gets rid of default border in Firefox and Opera. */\n",
       "                border: none;\n",
       "                /* Needs to be in here for Safari polyfill so background images work as expected. */\n",
       "                background-size: auto;\n",
       "            }\n",
       "            .progress-bar-interrupted, .progress-bar-interrupted::-webkit-progress-bar {\n",
       "                background: #F44336;\n",
       "            }\n",
       "        </style>\n",
       "      <progress value='5' class='' max='6' style='width:300px; height:20px; vertical-align: middle;'></progress>\n",
       "      83.33% [5/6 00:00<00:00 7.6057]\n",
       "    </div>\n",
       "    "
      ],
      "text/plain": [
       "<IPython.core.display.HTML object>"
      ]
     },
     "metadata": {},
     "output_type": "display_data"
    },
    {
     "name": "stdout",
     "output_type": "stream",
     "text": [
      "LR Finder is complete, type {learner_name}.recorder.plot() to see the graph.\n"
     ]
    },
    {
     "data": {
      "image/png": "[encoded data removed]",
      "text/plain": [
       "<Figure size 432x288 with 1 Axes>"
      ]
     },
     "metadata": {
      "needs_background": "light"
     },
     "output_type": "display_data"
    }
   ],
   "source": [
    "learn.lr_find()\n",
    "learn.recorder.plot()"
   ]
  },
  {
   "cell_type": "code",
   "execution_count": null,
   "metadata": {},
   "outputs": [],
   "source": [
    "rates, losses = pipeline.find_lr(learn.data.train_dl, learn.model, learn.loss_func, learn.opt)\n",
    "\n",
    "fig, ax = plt.subplots()\n",
    "\n",
    "ax.plot(rates, losses)\n",
    "\n",
    "ax.set_ylim(4, 6)\n",
    "ax.set_xscale('log')\n",
    "ax.grid()"
   ]
  },
  {
   "cell_type": "code",
   "execution_count": 96,
   "metadata": {},
   "outputs": [
    {
     "name": "stderr",
     "output_type": "stream",
     "text": [
      "100%|██████████| 10/10 [00:10<00:00,  1.04s/it]\n",
      "100%|██████████| 10/10 [00:10<00:00,  1.04s/it]\n",
      "100%|██████████| 10/10 [00:10<00:00,  1.04s/it]\n",
      "100%|██████████| 10/10 [00:10<00:00,  1.05s/it]\n",
      "100%|██████████| 10/10 [00:10<00:00,  1.09s/it]\n",
      "100%|██████████| 10/10 [00:10<00:00,  1.09s/it]\n",
      "100%|██████████| 10/10 [00:10<00:00,  1.09s/it]\n",
      "100%|██████████| 10/10 [00:10<00:00,  1.09s/it]\n",
      "100%|██████████| 10/10 [00:10<00:00,  1.09s/it]\n",
      "100%|██████████| 10/10 [00:10<00:00,  1.09s/it]\n",
      "100%|██████████| 10/10 [00:10<00:00,  1.09s/it]\n",
      "100%|██████████| 10/10 [00:10<00:00,  1.09s/it]\n",
      "100%|██████████| 10/10 [00:10<00:00,  1.09s/it]\n",
      "100%|██████████| 10/10 [00:10<00:00,  1.09s/it]\n",
      "100%|██████████| 10/10 [00:10<00:00,  1.09s/it]\n"
     ]
    }
   ],
   "source": [
    "with torch.utils.tensorboard.SummaryWriter(comment='__img9_0') as tbw:\n",
    "    model = make_cnn_model(\n",
    "        base_arch=fastai.vision.models.resnet18,\n",
    "        num_classes=len(label_manager.raw_labels),\n",
    "    ).cuda()\n",
    "    opt = torch.optim.Adam([\n",
    "        {'params': model.parameters(), 'lr': 1e-3},\n",
    "    ])\n",
    "\n",
    "    learner = pipeline.Learner(\n",
    "        model,\n",
    "        F.cross_entropy,\n",
    "        opt,\n",
    "        tbw,\n",
    "        train_loader,\n",
    "        valid_loader,\n",
    "    )\n",
    "\n",
    "    learner.train_model(10, 1e-3)"
   ]
  },
  {
   "cell_type": "code",
   "execution_count": 71,
   "metadata": {},
   "outputs": [
    {
     "data": {
      "text/plain": [
       "slice(None, 0.003, None)"
      ]
     },
     "execution_count": 71,
     "metadata": {},
     "output_type": "execute_result"
    }
   ],
   "source": [
    "fastai.core.defaults.lr"
   ]
  },
  {
   "cell_type": "code",
   "execution_count": 38,
   "metadata": {},
   "outputs": [
    {
     "name": "stderr",
     "output_type": "stream",
     "text": [
      "/home/jin/sandbox/smc_challenge2/smc_env/lib/python3.7/site-packages/fastai/data_block.py:541: UserWarning: You are labelling your items with CategoryList.\n",
      "Your valid set contained the following unknown labels, the corresponding items have been discarded.\n",
      "230, 92\n",
      "  if getattr(ds, 'warn', False): warn(ds.warn)\n"
     ]
    }
   ],
   "source": [
    "img_path = path2/'img10'\n",
    "\n",
    "tfms = [[],[]]\n",
    "\n",
    "data = (\n",
    "    fastai.vision.ImageList.from_folder(img_path, extensions='.png')\n",
    "    .split_by_folder(train='train', valid='valid')\n",
    "    .label_from_re(r'.*\\.(\\d{1,3})\\.png$')\n",
    "    .transform(tfms)\n",
    "    .databunch(\n",
    "        bs=500,\n",
    "    )\n",
    ")\n",
    "\n",
    "flearn1 = fastai.vision.cnn_learner(\n",
    "    data,\n",
    "    fastai.vision.models.resnet18,  # fastai passes pretrained=True\n",
    ")\n",
    "\n",
    "flearn2 = fastai.vision.cnn_learner(\n",
    "    data,\n",
    "    fastai.vision.models.resnet18,  # fastai passes pretrained=True\n",
    ")\n",
    "\n",
    "sd1, sd2 = flearn1.model.state_dict(), flearn2.model.state_dict()\n",
    "\n",
    "assert len(sd1) == len(sd2)\n",
    "\n",
    "for k1, k2 in zip(sd1, sd2):\n",
    "    assert k1 == k2\n",
    "    v1, v2 = sd1[k1], sd2[k2]\n",
    "    \n",
    "    assert v1.shape == v2.shape\n",
    "    if len(v1.shape) == 1:\n",
    "        assert (v1 == v2).all()"
   ]
  },
  {
   "cell_type": "code",
   "execution_count": 6,
   "metadata": {},
   "outputs": [
    {
     "name": "stderr",
     "output_type": "stream",
     "text": [
      "/home/jin/sandbox/smc_challenge2/smc_env/lib/python3.7/site-packages/fastai/data_block.py:541: UserWarning: You are labelling your items with CategoryList.\n",
      "Your valid set contained the following unknown labels, the corresponding items have been discarded.\n",
      "230, 92\n",
      "  if getattr(ds, 'warn', False): warn(ds.warn)\n"
     ]
    },
    {
     "name": "stdout",
     "output_type": "stream",
     "text": [
      "1.2.weight [0.0, 0.0, 0.0] 1024 1024\n",
      "1.2.bias [0.0, 0.0, 0.0] 0 0\n",
      "1.2.running_mean [0.0, 0.0, 0.0] 0 0\n",
      "1.2.running_var [0.0, 0.0, 0.0] 1024 1024\n",
      "1.4.weight [0.0002, 0.0, 112.819] 65 -48\n",
      "1.4.bias [0.0, 0.0, 0.0] 0 0\n",
      "1.6.weight [0.0, 0.0, 0.0] 512 512\n",
      "1.6.bias [0.0, 0.0, 0.0] 0 0\n",
      "1.6.running_mean [0.0, 0.0, 0.0] 0 0\n",
      "1.6.running_var [0.0, 0.0, 0.0] 512 512\n",
      "1.8.weight [-0.0002, 0.0005, -3.2888] -12 -8\n",
      "1.8.bias [0.0, 0.0, 0.0] 0 0\n"
     ]
    }
   ],
   "source": [
    "flearn1 = fastai.vision.cnn_learner(\n",
    "    fastai.vision.ImageList.from_folder(path2/'img10', extensions='.png')\n",
    "        .split_by_folder(train='train', valid='valid')\n",
    "        .label_from_re(r'.*\\.(\\d{1,3})\\.png$')\n",
    "        .transform([[],[]])\n",
    "        .databunch(\n",
    "            bs=200,\n",
    "        ),\n",
    "    fastai.vision.models.resnet18,  # fastai passes pretrained=True\n",
    "    init=torch.nn.init.kaiming_normal_,\n",
    ")\n",
    "sd1 = flearn1.model.state_dict()\n",
    "\n",
    "model = pipeline.make_cnn_model(\n",
    "    base_arch=fastai.vision.models.resnet18,\n",
    "    num_classes=len(label_manager.raw_labels),\n",
    ").cuda()\n",
    "sd3 = model.state_dict()\n",
    "\n",
    "for k1, k2 in zip(sd1, sd3):\n",
    "    assert k1 == k2\n",
    "    v1, v2 = sd1[k1], sd3[k2]\n",
    "\n",
    "    assert v1.shape == v2.shape\n",
    "    if len(v1.shape) == 1:\n",
    "        assert (v1 == v2).all()\n",
    "        if (v1 != v2).any():\n",
    "            print(k1)\n",
    "    \n",
    "    if not k1.startswith('1.'): continue\n",
    "\n",
    "    if len(v1.shape) > 0:\n",
    "        fns = ['mean', 'std', 'sum']\n",
    "        \n",
    "        ds = []\n",
    "        for fn in fns:\n",
    "            a = getattr(v1, fn)().item()\n",
    "            b = getattr(v2, fn)().item()\n",
    "            ds.append(round(a - b, 4))\n",
    "            \n",
    "        # dmean = v1.mean().item() - v2.mean().item()\n",
    "        # dstd = v1.std().item() - v2.std().item()\n",
    "        print(k1, ds, round(v1.sum().item()), round(v2.sum().item()))"
   ]
  },
  {
   "cell_type": "code",
   "execution_count": 8,
   "metadata": {},
   "outputs": [
    {
     "data": {
      "text/plain": [
       "True"
      ]
     },
     "execution_count": 8,
     "metadata": {},
     "output_type": "execute_result"
    }
   ],
   "source": [
    "flearn1.train_bn"
   ]
  },
  {
   "cell_type": "code",
   "execution_count": 47,
   "metadata": {},
   "outputs": [],
   "source": [
    "model[1] = flearn1.model[1]"
   ]
  },
  {
   "cell_type": "code",
   "execution_count": 82,
   "metadata": {},
   "outputs": [
    {
     "data": {
      "text/plain": [
       "29"
      ]
     },
     "execution_count": 82,
     "metadata": {},
     "output_type": "execute_result"
    }
   ],
   "source": [
    "len(label_manager.raw_labels)"
   ]
  },
  {
   "cell_type": "code",
   "execution_count": 70,
   "metadata": {},
   "outputs": [
    {
     "data": {
      "text/plain": [
       "134"
      ]
     },
     "execution_count": 70,
     "metadata": {},
     "output_type": "execute_result"
    }
   ],
   "source": [
    "len(flearn.model.state_dict())"
   ]
  },
  {
   "cell_type": "code",
   "execution_count": 63,
   "metadata": {},
   "outputs": [
    {
     "data": {
      "text/plain": [
       "False"
      ]
     },
     "execution_count": 63,
     "metadata": {},
     "output_type": "execute_result"
    }
   ],
   "source": [
    "flearn.model == flearn2.model"
   ]
  },
  {
   "cell_type": "code",
   "execution_count": 66,
   "metadata": {},
   "outputs": [
    {
     "data": {
      "text/plain": [
       "(68, 68)"
      ]
     },
     "execution_count": 66,
     "metadata": {},
     "output_type": "execute_result"
    }
   ],
   "source": [
    "len(list(flearn.model.parameters())), len(list(flearn2.model.parameters()))"
   ]
  },
  {
   "cell_type": "code",
   "execution_count": null,
   "metadata": {},
   "outputs": [],
   "source": [
    "rates, losses = pipeline.find_lr(learn.data.train_dl, learn.model, learn.loss_func, learn.opt)\n",
    "\n",
    "fig, ax = plt.subplots()\n",
    "\n",
    "ax.plot(rates, losses)\n",
    "\n",
    "ax.set_ylim(4, 6)\n",
    "ax.set_xscale('log')\n",
    "ax.grid()"
   ]
  },
  {
   "cell_type": "code",
   "execution_count": 5,
   "metadata": {},
   "outputs": [
    {
     "name": "stdout",
     "output_type": "stream",
     "text": [
      "1323 1323\n",
      "90 90\n"
     ]
    }
   ],
   "source": [
    "img_path = path2/'img10'\n",
    "\n",
    "label_manager = pipeline.LabelManager()\n",
    "\n",
    "train_set = pipeline.CbedDataset(img_path/'train', label_manager)\n",
    "\n",
    "label_manager.freeze()\n",
    "\n",
    "valid_set = pipeline.CbedDataset(img_path/'valid', label_manager)\n",
    "\n",
    "print(len(train_set.filenames), len(train_set.labels))\n",
    "print(len(valid_set.filenames), len(valid_set.labels))\n",
    "\n",
    "batch_size = 200\n",
    "\n",
    "train_loader = torch.utils.data.DataLoader(\n",
    "    train_set,\n",
    "    batch_size=batch_size,\n",
    "    shuffle=True,\n",
    ")\n",
    "valid_loader = torch.utils.data.DataLoader(\n",
    "    valid_set,\n",
    "    batch_size=batch_size,\n",
    "    shuffle=False,\n",
    ")"
   ]
  },
  {
   "cell_type": "code",
   "execution_count": 25,
   "metadata": {},
   "outputs": [
    {
     "data": {
      "text/plain": [
       "(40, 20)"
      ]
     },
     "execution_count": 25,
     "metadata": {},
     "output_type": "execute_result"
    }
   ],
   "source": [
    "a, b = 0, 0\n",
    "\n",
    "for p in flearn1.model[0].parameters():\n",
    "    if p.requires_grad:\n",
    "        a += 1\n",
    "    else:\n",
    "        b += 1\n",
    "\n",
    "a, b"
   ]
  },
  {
   "cell_type": "code",
   "execution_count": 15,
   "metadata": {},
   "outputs": [
    {
     "name": "stdout",
     "output_type": "stream",
     "text": [
      "0 torch.Size([64]) False\n",
      "1 torch.Size([64]) False\n",
      "2 torch.Size([64]) False\n",
      "3 torch.Size([64]) False\n",
      "4 torch.Size([64]) False\n",
      "5 torch.Size([64]) False\n",
      "6 torch.Size([64]) False\n",
      "7 torch.Size([64]) False\n",
      "8 torch.Size([64]) False\n",
      "9 torch.Size([64]) False\n",
      "10 torch.Size([128]) False\n",
      "11 torch.Size([128]) False\n",
      "12 torch.Size([128]) False\n",
      "13 torch.Size([128]) False\n",
      "14 torch.Size([128]) False\n",
      "15 torch.Size([128]) False\n",
      "16 torch.Size([128]) False\n",
      "17 torch.Size([128]) False\n",
      "18 torch.Size([128]) False\n",
      "19 torch.Size([128]) False\n",
      "20 torch.Size([256]) False\n",
      "21 torch.Size([256]) False\n",
      "22 torch.Size([256]) False\n",
      "23 torch.Size([256]) False\n",
      "24 torch.Size([256]) False\n",
      "25 torch.Size([256]) False\n",
      "26 torch.Size([256]) False\n",
      "27 torch.Size([256]) False\n",
      "28 torch.Size([256]) False\n",
      "29 torch.Size([256]) False\n",
      "30 torch.Size([512]) False\n",
      "31 torch.Size([512]) False\n",
      "32 torch.Size([512]) False\n",
      "33 torch.Size([512]) False\n",
      "34 torch.Size([512]) False\n",
      "35 torch.Size([512]) False\n",
      "36 torch.Size([512]) False\n",
      "37 torch.Size([512]) False\n",
      "38 torch.Size([512]) False\n",
      "39 torch.Size([512]) False\n"
     ]
    }
   ],
   "source": [
    "a = 0\n",
    "\n",
    "for p in flearn1.model[0].parameters():\n",
    "    if p.requires_grad:\n",
    "        print(a, p.shape, isinstance(p)\n",
    "        a += 1"
   ]
  },
  {
   "cell_type": "code",
   "execution_count": 24,
   "metadata": {},
   "outputs": [
    {
     "name": "stdout",
     "output_type": "stream",
     "text": [
      "0 2 [torch.Size([64]), torch.Size([64])]\n",
      "1 2 [torch.Size([64]), torch.Size([64])]\n",
      "2 2 [torch.Size([64]), torch.Size([64])]\n",
      "3 2 [torch.Size([64]), torch.Size([64])]\n",
      "4 2 [torch.Size([64]), torch.Size([64])]\n",
      "5 2 [torch.Size([128]), torch.Size([128])]\n",
      "6 2 [torch.Size([128]), torch.Size([128])]\n",
      "7 2 [torch.Size([128]), torch.Size([128])]\n",
      "8 2 [torch.Size([128]), torch.Size([128])]\n",
      "9 2 [torch.Size([256]), torch.Size([256])]\n",
      "10 2 [torch.Size([256]), torch.Size([256])]\n",
      "11 2 [torch.Size([256]), torch.Size([256])]\n",
      "12 2 [torch.Size([256]), torch.Size([256])]\n",
      "13 2 [torch.Size([512]), torch.Size([512])]\n",
      "14 2 [torch.Size([512]), torch.Size([512])]\n",
      "15 2 [torch.Size([512]), torch.Size([512])]\n",
      "16 2 [torch.Size([512]), torch.Size([512])]\n",
      "17 2 [torch.Size([128]), torch.Size([128])]\n",
      "18 2 [torch.Size([256]), torch.Size([256])]\n",
      "19 2 [torch.Size([512]), torch.Size([512])]\n"
     ]
    }
   ],
   "source": [
    "a = 0\n",
    "\n",
    "stack = [flearn1.model[0]]\n",
    "\n",
    "while stack:\n",
    "    m = stack.pop(0)\n",
    "    stack.extend(m.children())\n",
    "    \n",
    "    if isinstance(m, (torch.nn.BatchNorm1d, torch.nn.BatchNorm2d, torch.nn.BatchNorm3d)):\n",
    "        p_shapes = [p.shape for p in m.parameters()]\n",
    "        print(a, len(p_shapes), p_shapes)\n",
    "    else:\n",
    "        "
   ]
  },
  {
   "cell_type": "code",
   "execution_count": 13,
   "metadata": {},
   "outputs": [
    {
     "data": {
      "text/plain": [
       "torch.nn.parameter.Parameter"
      ]
     },
     "execution_count": 13,
     "metadata": {},
     "output_type": "execute_result"
    }
   ],
   "source": [
    "type(p)"
   ]
  },
  {
   "cell_type": "code",
   "execution_count": 20,
   "metadata": {},
   "outputs": [
    {
     "name": "stdout",
     "output_type": "stream",
     "text": [
      "0 torch.Size([64, 3, 7, 7])\n",
      "1 torch.Size([64, 64, 3, 3])\n",
      "2 torch.Size([64, 64, 3, 3])\n",
      "3 torch.Size([64, 64, 3, 3])\n",
      "4 torch.Size([64, 64, 3, 3])\n",
      "5 torch.Size([128, 64, 3, 3])\n",
      "6 torch.Size([128, 128, 3, 3])\n",
      "7 torch.Size([128, 64, 1, 1])\n",
      "8 torch.Size([128, 128, 3, 3])\n",
      "9 torch.Size([128, 128, 3, 3])\n",
      "10 torch.Size([256, 128, 3, 3])\n",
      "11 torch.Size([256, 256, 3, 3])\n",
      "12 torch.Size([256, 128, 1, 1])\n",
      "13 torch.Size([256, 256, 3, 3])\n",
      "14 torch.Size([256, 256, 3, 3])\n",
      "15 torch.Size([512, 256, 3, 3])\n",
      "16 torch.Size([512, 512, 3, 3])\n",
      "17 torch.Size([512, 256, 1, 1])\n",
      "18 torch.Size([512, 512, 3, 3])\n",
      "19 torch.Size([512, 512, 3, 3])\n"
     ]
    }
   ],
   "source": [
    "a = 0\n",
    "\n",
    "for p in learn.model[0].parameters():\n",
    "    if not p.requires_grad:\n",
    "        print(a, p.shape)\n",
    "        a += 1"
   ]
  },
  {
   "cell_type": "code",
   "execution_count": null,
   "metadata": {},
   "outputs": [],
   "source": [
    "p.ran"
   ]
  }
 ],
 "metadata": {
  "kernelspec": {
   "display_name": "smc_env",
   "language": "python",
   "name": "smc_env"
  },
  "language_info": {
   "codemirror_mode": {
    "name": "ipython",
    "version": 3
   },
   "file_extension": ".py",
   "mimetype": "text/x-python",
   "name": "python",
   "nbconvert_exporter": "python",
   "pygments_lexer": "ipython3",
   "version": "3.7.3"
  }
 },
 "nbformat": 4,
 "nbformat_minor": 4
}
